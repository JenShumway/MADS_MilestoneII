{
 "cells": [
  {
   "cell_type": "markdown",
   "metadata": {},
   "source": [
    "This file will data scrape from the World Bank Dataset using the World Bank API <br/><br/>\n",
    "It will go through all of our World Bank indicator codes <br/><br/>\n",
    "and create a csv file with a row for each indicator code with the following column names: <br/><br/>\n",
    "indicator_code, indicator_name, long_definition"
   ]
  },
  {
   "cell_type": "code",
   "execution_count": 1,
   "metadata": {},
   "outputs": [],
   "source": [
    "import requests\n",
    "import numpy as np\n",
    "import pandas as pd"
   ]
  },
  {
   "cell_type": "code",
   "execution_count": 2,
   "metadata": {},
   "outputs": [],
   "source": [
    "# merged_worldbank_data_1 = pd.read_csv('../WorldBankDatasets/Cleaned/AllMerged_Threshold_85_n3_MMRT.csv')\n",
    "# get the main World Bank data\n",
    "merged_worldbank_data_1 = pd.read_csv('../WorldBankDatasets/Cleaned/AllMerged_Threshold_85_n3_MMRTNE.csv')"
   ]
  },
  {
   "cell_type": "code",
   "execution_count": 3,
   "metadata": {},
   "outputs": [],
   "source": [
    "column_names_1 = merged_worldbank_data_1.columns"
   ]
  },
  {
   "cell_type": "code",
   "execution_count": 4,
   "metadata": {},
   "outputs": [
    {
     "data": {
      "text/plain": [
       "782"
      ]
     },
     "execution_count": 4,
     "metadata": {},
     "output_type": "execute_result"
    }
   ],
   "source": [
    "len(column_names_1)"
   ]
  },
  {
   "cell_type": "code",
   "execution_count": 5,
   "metadata": {},
   "outputs": [],
   "source": [
    "def get_worldbank_indicator_detailed_info(indicator_code):\n",
    "    # the format to query the World bank. See the documentation for more info\n",
    "    response = requests.get(f\"http://api.worldbank.org/v2/indicator/{indicator_code}?format=json\")\n",
    "    data = response.json()\n",
    "    \n",
    "    # extract the useful definition information\n",
    "    \n",
    "    useful_data = {}\n",
    "    useful_data['indicator_code'] = indicator_code\n",
    "\n",
    "    # try to add a indicator name\n",
    "    try:\n",
    "        useful_data['indicator_name'] = data[1][0]['name']\n",
    "    \n",
    "    except:\n",
    "        useful_data['indicator_name'] = 'indicator name missing'\n",
    "    \n",
    "    # try to add a definition\n",
    "    try:\n",
    "        useful_data['definition_or_additional_info'] = data[1][0]['sourceNote']\n",
    "    \n",
    "    except:\n",
    "        useful_data['definition_or_additional_info'] = 'definition missing'\n",
    "\n",
    "    return useful_data"
   ]
  },
  {
   "cell_type": "code",
   "execution_count": 6,
   "metadata": {},
   "outputs": [],
   "source": [
    "# test = get_worldbank_indicator_detailed_info(\"SL.EMP.OWAC.FE.ZS\")\n",
    "# test = get_worldbank_indicator_detailed_info(\"SG.AGE.FUPN.EQ\")\n",
    "# test = get_worldbank_indicator_detailed_info(\"SH.MED.PHYS.ZS\")\n",
    "# test"
   ]
  },
  {
   "cell_type": "code",
   "execution_count": 7,
   "metadata": {},
   "outputs": [],
   "source": [
    "# go through all the data and download definition information and more\n",
    "world_bank_indicator_info_list = []\n",
    "# for column in column_names_1[0:50]:\n",
    "for column in column_names_1:\n",
    "    cur_data = get_worldbank_indicator_detailed_info(column)\n",
    "    world_bank_indicator_info_list.append(cur_data)"
   ]
  },
  {
   "cell_type": "code",
   "execution_count": 8,
   "metadata": {},
   "outputs": [],
   "source": [
    "world_bank_indicator_definition_info_df = pd.DataFrame(world_bank_indicator_info_list)"
   ]
  },
  {
   "cell_type": "code",
   "execution_count": 9,
   "metadata": {},
   "outputs": [],
   "source": [
    "# uncomment to see what the mapping dataframe looks like with info that was data scraped from the World Bank API\n",
    "# world_bank_indicator_definition_info_df"
   ]
  },
  {
   "cell_type": "markdown",
   "metadata": {},
   "source": [
    "## Additional codes to add that for some reason didn't get added in first pass\n",
    "## add more as needed. Add if I find errors when doing analyses in other files"
   ]
  },
  {
   "cell_type": "code",
   "execution_count": 10,
   "metadata": {},
   "outputs": [],
   "source": [
    "# world_bank_indicator_definition_info_df.query(\"indicator_code == 'SE.SEC.CUAT.PO.MA.ZS'\")\n",
    "# world_bank_indicator_definition_info_df.query(\"indicator_code == 'SH.HIV.1524.MA.ZS'\")"
   ]
  },
  {
   "cell_type": "code",
   "execution_count": 11,
   "metadata": {},
   "outputs": [
    {
     "name": "stdout",
     "output_type": "stream",
     "text": [
      "code SL.EMP.MPYR.FE.ZS is already in the dataframe world_bank_indicator_definition_info_df\n"
     ]
    }
   ],
   "source": [
    "additional_codes = [\"SE.SEC.CUAT.PO.FE.ZS\",\"SE.SEC.CUAT.PO.ZS\",\"SE.SEC.CUAT.PO.MA.ZS\",\n",
    "                    \"SG.GEN.MNST.ZS\",\"SH.PRV.SMOK.FE\",\"SG.POP.MIGR.FE.ZS\",\n",
    "                    \"SE.TER.CUAT.DO.FE.ZS\", \"SE.TER.CUAT.DO.ZS\", \"SE.TER.CUAT.DO.MA.ZS\",\n",
    "                    \"SH.PRV.SMOK.FE\",\"SE.TER.CUAT.MS.FE.ZS\",\"SE.TER.CUAT.DO.FE.ZS\",\"SL.EMP.MPYR.FE.ZS\",\"SE.TER.CUAT.DO.ZS\",\n",
    "                    \"SE.TER.CUAT.MS.MA.ZS\",\"SE.PRM.NINT.FE.ZS\",\"SE.PRM.NINT.MA.ZS\",\"SH.MMR.WAGE.ZS\"\n",
    "                    ]\n",
    "\n",
    "# remove any duplicates just in case\n",
    "additional_codes = np.unique(additional_codes)\n",
    "\n",
    "additional_codes_not_already_in_main_df = []\n",
    "# preliminary check. See if the code isn't already in the world bank dataframe\n",
    "for code in additional_codes:\n",
    "    if code in world_bank_indicator_definition_info_df['indicator_code'].values:\n",
    "        print(f\"code {code} is already in the dataframe world_bank_indicator_definition_info_df\")\n",
    "    elif code not in world_bank_indicator_definition_info_df:\n",
    "        additional_codes_not_already_in_main_df.append(code)\n",
    "\n",
    "# print(additional_codes_modified)\n",
    "\n",
    "additional_codes_info = []\n",
    "for code in additional_codes_not_already_in_main_df:\n",
    "    cur_data = get_worldbank_indicator_detailed_info(code)\n",
    "    additional_codes_info.append(cur_data)\n",
    "\n",
    "# print(additional_codes_info)\n",
    "additional_codes_info_df = pd.DataFrame(additional_codes_info)"
   ]
  },
  {
   "cell_type": "code",
   "execution_count": 12,
   "metadata": {},
   "outputs": [],
   "source": [
    "# test = get_worldbank_indicator_detailed_info(\"SE.SEC.CUAT.PO.FE.ZS\")"
   ]
  },
  {
   "cell_type": "code",
   "execution_count": 13,
   "metadata": {},
   "outputs": [],
   "source": [
    "# additional_codes_info_df"
   ]
  },
  {
   "cell_type": "code",
   "execution_count": 14,
   "metadata": {},
   "outputs": [],
   "source": [
    "# add additional_codes_info_df to world_bank_indicator_definition_info_df\n",
    "# world_bank_indicator_definition_info_df = world_bank_indicator_definition_info_df.append(additional_codes_info_df, ignore_index = True)\n",
    "# CHANGE THIS LATER. THERE IS SOME BIZARRE reason .append isn't working. But maybe change later\n",
    "world_bank_indicator_definition_info_df = pd.concat([world_bank_indicator_definition_info_df, additional_codes_info_df],\n",
    "                                                    ignore_index=True)"
   ]
  },
  {
   "cell_type": "code",
   "execution_count": 15,
   "metadata": {},
   "outputs": [],
   "source": [
    "# world_bank_indicator_definition_info_df"
   ]
  },
  {
   "cell_type": "markdown",
   "metadata": {},
   "source": [
    "# Finally write the organized, scraped data from the World Bank to a csv file"
   ]
  },
  {
   "cell_type": "code",
   "execution_count": 16,
   "metadata": {},
   "outputs": [],
   "source": [
    "# quoting = 1 below will put all the data in quotes when writing the data which hopefully will prevent errors where it is formatted incorrectly\n",
    "# this is become some data has commas in it, and maybe some has tabs too.\n",
    "world_bank_indicator_definition_info_df.to_csv('../WorldBankDatasets/Cleaned/World_Bank_Indicator_Definition_Info.csv',\n",
    "                                            sep='\\t', quoting=1,index=False)"
   ]
  }
 ],
 "metadata": {
  "kernelspec": {
   "display_name": "Python 3",
   "language": "python",
   "name": "python3"
  },
  "language_info": {
   "codemirror_mode": {
    "name": "ipython",
    "version": 3
   },
   "file_extension": ".py",
   "mimetype": "text/x-python",
   "name": "python",
   "nbconvert_exporter": "python",
   "pygments_lexer": "ipython3",
   "version": "3.10.12"
  }
 },
 "nbformat": 4,
 "nbformat_minor": 2
}
