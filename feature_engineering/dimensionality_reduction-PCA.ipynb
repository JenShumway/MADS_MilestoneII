{
 "cells": [
  {
   "cell_type": "code",
   "execution_count": 18,
   "metadata": {},
   "outputs": [],
   "source": [
    "import pandas as pd\n",
    "from sklearn.decomposition import PCA"
   ]
  },
  {
   "cell_type": "code",
   "execution_count": 19,
   "metadata": {},
   "outputs": [],
   "source": [
    "# Get datasets and set % of variance\n",
    "\n",
    "datasets = [\n",
    "    \"../OECD/Cleaned/HEALTH_MERGED_Threshold_80_n3.csv\",\n",
    "    \"../WorldBankDatasets/Cleaned/AllMerged_Threshold_85_n3_MMRTNE.csv\",\n",
    "]\n",
    "indicator = [\"MATIMATM\", \"SH.STA.MMRT.NE\"]\n",
    "variance_explain = 0.8\n",
    "\n",
    "str_variance_explain = str(variance_explain)[2:]\n",
    "if len(str_variance_explain) == 1:\n",
    "    str_variance_explain += \"0\""
   ]
  },
  {
   "cell_type": "code",
   "execution_count": 20,
   "metadata": {},
   "outputs": [
    {
     "name": "stdout",
     "output_type": "stream",
     "text": [
      "Number of PCs: 10\n",
      "Explained variation per PC: [0.24473793 0.12906961 0.10025901 0.08537377 0.06885357 0.05243722\n",
      " 0.04031638 0.03297561 0.02999361 0.02344255]\n",
      "Sum of explained variation: 0.807459264221974\n",
      "\n",
      "\n",
      "Number of PCs: 17\n",
      "Explained variation per PC: [0.31810795 0.16028914 0.06789467 0.04488062 0.03199522 0.02573008\n",
      " 0.02106988 0.01800833 0.01781576 0.01647727 0.01603059 0.01414032\n",
      " 0.01269869 0.01238702 0.01143714 0.01035387 0.00993645]\n",
      "Sum of explained variation: 0.8092530048097448\n",
      "\n",
      "\n"
     ]
    }
   ],
   "source": [
    "# Run on both datasets\n",
    "\n",
    "for i in range(len(indicator)):\n",
    "    df = pd.read_csv(datasets[i])\n",
    "    mm_ind = indicator[i]\n",
    "\n",
    "    # Pull out predictor\n",
    "    y = df[mm_ind]\n",
    "\n",
    "    # Drop year, country, and predictor\n",
    "    X = df.drop(columns=[\"Country\", \"Year\", mm_ind])\n",
    "\n",
    "    # Run PCA explaining X% of variance\n",
    "    pca = PCA(n_components=variance_explain, random_state=42)\n",
    "    pca.fit(X)\n",
    "\n",
    "    # Print stats\n",
    "    print(\"Number of PCs: {}\".format(len(pca.explained_variance_ratio_)))\n",
    "    print(\"Explained variation per PC: {}\".format(pca.explained_variance_ratio_))\n",
    "    print(\"Sum of explained variation: {}\".format(pca.explained_variance_ratio_.sum()))\n",
    "    print(\"\\n\")\n",
    "\n",
    "    # Transform data\n",
    "    PCA_data = pd.DataFrame(pca.transform(X))\n",
    "\n",
    "    # Produce reduced dataset\n",
    "    reduced_data = pd.concat([df.iloc[:, :2], PCA_data], axis=1)\n",
    "    reduced_data[mm_ind] = y\n",
    "\n",
    "    # Output\n",
    "    reduced_data.to_csv(\n",
    "        \"../\"\n",
    "        + datasets[i].split(\"/\")[1]  # Folder\n",
    "        + \"/Reduced/Reduced_\"\n",
    "        + datasets[i].split(\"/\")[-1][:-4]  # Name of dataset\n",
    "        + \"_VAR_\"\n",
    "        + str_variance_explain  # Percent of variance explained\n",
    "        + \".csv\"\n",
    "    )"
   ]
  }
 ],
 "metadata": {
  "kernelspec": {
   "display_name": ".venv",
   "language": "python",
   "name": "python3"
  },
  "language_info": {
   "codemirror_mode": {
    "name": "ipython",
    "version": 3
   },
   "file_extension": ".py",
   "mimetype": "text/x-python",
   "name": "python",
   "nbconvert_exporter": "python",
   "pygments_lexer": "ipython3",
   "version": "3.10.12"
  }
 },
 "nbformat": 4,
 "nbformat_minor": 2
}
