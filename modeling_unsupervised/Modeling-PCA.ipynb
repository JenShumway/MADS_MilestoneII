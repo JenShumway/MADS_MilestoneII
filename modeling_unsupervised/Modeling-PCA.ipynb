{
 "cells": [
  {
   "cell_type": "code",
   "execution_count": 1,
   "metadata": {},
   "outputs": [
    {
     "name": "stderr",
     "output_type": "stream",
     "text": [
      "/tmp/ipykernel_234387/3840827134.py:15: DeprecationWarning: Importing display from IPython.core.display is deprecated since IPython 7.14, please import from IPython display\n",
      "  from IPython.core.display import display, HTML\n"
     ]
    }
   ],
   "source": [
    "# Imports\n",
    "import pandas as pd\n",
    "from sklearn.decomposition import PCA\n",
    "import matplotlib.pyplot as plt\n",
    "from sklearn.preprocessing import MinMaxScaler\n",
    "\n",
    "# import the world bank utility functions. It requires changing the path to import properly in Python\n",
    "import sys\n",
    "sys.path.append('../utility_functions')\n",
    "\n",
    "from world_bank_utility_functions import (get_world_bank_indicator_name_from_code, \n",
    "                                          get_world_bank_indicator_definition_from_code)\n",
    "\n",
    "# for displaying text with formatting later\n",
    "from IPython.core.display import display, HTML"
   ]
  },
  {
   "cell_type": "code",
   "execution_count": 2,
   "metadata": {},
   "outputs": [],
   "source": [
    "# Select data\n",
    "datasets = [\"../OECD/Cleaned/HEALTH_MERGED_Threshold_80_n3.csv\", \"../WorldBankDatasets/Cleaned/AllMerged_Threshold_85_n3_MMRTNE.csv\"]\n",
    "\n",
    "OECD = False  # False for WB data\n",
    "\n",
    "if OECD:\n",
    "    df = pd.read_csv(datasets[0])\n",
    "    mm_ind = \"MATIMATM\"\n",
    "else:\n",
    "    df = pd.read_csv(datasets[1])\n",
    "    mm_ind = \"SH.STA.MMRT.NE\""
   ]
  },
  {
   "cell_type": "code",
   "execution_count": 3,
   "metadata": {},
   "outputs": [
    {
     "data": {
      "text/html": [
       "<div>\n",
       "<style scoped>\n",
       "    .dataframe tbody tr th:only-of-type {\n",
       "        vertical-align: middle;\n",
       "    }\n",
       "\n",
       "    .dataframe tbody tr th {\n",
       "        vertical-align: top;\n",
       "    }\n",
       "\n",
       "    .dataframe thead th {\n",
       "        text-align: right;\n",
       "    }\n",
       "</style>\n",
       "<table border=\"1\" class=\"dataframe\">\n",
       "  <thead>\n",
       "    <tr style=\"text-align: right;\">\n",
       "      <th></th>\n",
       "      <th>Country</th>\n",
       "      <th>Year</th>\n",
       "      <th>BM.GSR.ROYL.CD</th>\n",
       "      <th>BX.GSR.ROYL.CD</th>\n",
       "      <th>GB.XPD.RSDV.GD.ZS</th>\n",
       "      <th>IP.JRN.ARTC.SC</th>\n",
       "      <th>IP.PAT.NRES</th>\n",
       "      <th>IP.PAT.RESD</th>\n",
       "      <th>SP.POP.SCIE.RD.P6</th>\n",
       "      <th>SP.POP.TECH.RD.P6</th>\n",
       "      <th>...</th>\n",
       "      <th>UIS.T.3.F</th>\n",
       "      <th>UIS.THAGE.0</th>\n",
       "      <th>UIS.THAGE.3.A.GPV</th>\n",
       "      <th>UIS.THAGE.4.A.GPV</th>\n",
       "      <th>UIS.THDUR.0</th>\n",
       "      <th>UIS.THDUR.4.A.GPV</th>\n",
       "      <th>UIS.XSPENDP.56.FDPUB.FNCAP</th>\n",
       "      <th>UIS.XSPENDP.56.FDPUB.FNCUR</th>\n",
       "      <th>UIS.XSPENDP.56.FDPUB.FNNONS</th>\n",
       "      <th>UIS.XSPENDP.56.FDPUB.FNS</th>\n",
       "    </tr>\n",
       "  </thead>\n",
       "  <tbody>\n",
       "    <tr>\n",
       "      <th>0</th>\n",
       "      <td>AUS</td>\n",
       "      <td>1997</td>\n",
       "      <td>0.016586</td>\n",
       "      <td>0.003082</td>\n",
       "      <td>0.412299</td>\n",
       "      <td>0.050619</td>\n",
       "      <td>0.049629</td>\n",
       "      <td>0.004538</td>\n",
       "      <td>0.437652</td>\n",
       "      <td>0.211022</td>\n",
       "      <td>...</td>\n",
       "      <td>0.017427</td>\n",
       "      <td>0.400000</td>\n",
       "      <td>0.666667</td>\n",
       "      <td>0.0</td>\n",
       "      <td>0.333333</td>\n",
       "      <td>0.0</td>\n",
       "      <td>0.211677</td>\n",
       "      <td>0.788317</td>\n",
       "      <td>0.307628</td>\n",
       "      <td>0.626075</td>\n",
       "    </tr>\n",
       "    <tr>\n",
       "      <th>1</th>\n",
       "      <td>AUS</td>\n",
       "      <td>2000</td>\n",
       "      <td>0.016077</td>\n",
       "      <td>0.003387</td>\n",
       "      <td>0.318885</td>\n",
       "      <td>0.054746</td>\n",
       "      <td>0.064698</td>\n",
       "      <td>0.004972</td>\n",
       "      <td>0.440204</td>\n",
       "      <td>0.202796</td>\n",
       "      <td>...</td>\n",
       "      <td>0.017135</td>\n",
       "      <td>0.800000</td>\n",
       "      <td>0.666667</td>\n",
       "      <td>0.0</td>\n",
       "      <td>0.000000</td>\n",
       "      <td>0.0</td>\n",
       "      <td>0.176835</td>\n",
       "      <td>0.823146</td>\n",
       "      <td>0.302216</td>\n",
       "      <td>0.653377</td>\n",
       "    </tr>\n",
       "    <tr>\n",
       "      <th>2</th>\n",
       "      <td>AUS</td>\n",
       "      <td>2003</td>\n",
       "      <td>0.020823</td>\n",
       "      <td>0.003873</td>\n",
       "      <td>0.412299</td>\n",
       "      <td>0.059787</td>\n",
       "      <td>0.061806</td>\n",
       "      <td>0.006237</td>\n",
       "      <td>0.437652</td>\n",
       "      <td>0.211022</td>\n",
       "      <td>...</td>\n",
       "      <td>0.017472</td>\n",
       "      <td>0.200000</td>\n",
       "      <td>0.666667</td>\n",
       "      <td>0.0</td>\n",
       "      <td>0.500000</td>\n",
       "      <td>0.0</td>\n",
       "      <td>0.211677</td>\n",
       "      <td>0.788317</td>\n",
       "      <td>0.307628</td>\n",
       "      <td>0.626075</td>\n",
       "    </tr>\n",
       "    <tr>\n",
       "      <th>3</th>\n",
       "      <td>AUS</td>\n",
       "      <td>2006</td>\n",
       "      <td>0.029817</td>\n",
       "      <td>0.005513</td>\n",
       "      <td>0.452984</td>\n",
       "      <td>0.079045</td>\n",
       "      <td>0.074667</td>\n",
       "      <td>0.007319</td>\n",
       "      <td>0.539751</td>\n",
       "      <td>0.256436</td>\n",
       "      <td>...</td>\n",
       "      <td>0.018845</td>\n",
       "      <td>0.200000</td>\n",
       "      <td>0.666667</td>\n",
       "      <td>0.0</td>\n",
       "      <td>0.500000</td>\n",
       "      <td>0.0</td>\n",
       "      <td>0.197271</td>\n",
       "      <td>0.802729</td>\n",
       "      <td>0.317720</td>\n",
       "      <td>0.623900</td>\n",
       "    </tr>\n",
       "    <tr>\n",
       "      <th>4</th>\n",
       "      <td>AUS</td>\n",
       "      <td>2011</td>\n",
       "      <td>0.056962</td>\n",
       "      <td>0.008149</td>\n",
       "      <td>0.465026</td>\n",
       "      <td>0.104943</td>\n",
       "      <td>0.074593</td>\n",
       "      <td>0.006147</td>\n",
       "      <td>0.508147</td>\n",
       "      <td>0.296302</td>\n",
       "      <td>...</td>\n",
       "      <td>0.251432</td>\n",
       "      <td>0.200000</td>\n",
       "      <td>0.666667</td>\n",
       "      <td>0.0</td>\n",
       "      <td>0.500000</td>\n",
       "      <td>0.0</td>\n",
       "      <td>0.260925</td>\n",
       "      <td>0.739075</td>\n",
       "      <td>0.302946</td>\n",
       "      <td>0.600949</td>\n",
       "    </tr>\n",
       "    <tr>\n",
       "      <th>...</th>\n",
       "      <td>...</td>\n",
       "      <td>...</td>\n",
       "      <td>...</td>\n",
       "      <td>...</td>\n",
       "      <td>...</td>\n",
       "      <td>...</td>\n",
       "      <td>...</td>\n",
       "      <td>...</td>\n",
       "      <td>...</td>\n",
       "      <td>...</td>\n",
       "      <td>...</td>\n",
       "      <td>...</td>\n",
       "      <td>...</td>\n",
       "      <td>...</td>\n",
       "      <td>...</td>\n",
       "      <td>...</td>\n",
       "      <td>...</td>\n",
       "      <td>...</td>\n",
       "      <td>...</td>\n",
       "      <td>...</td>\n",
       "      <td>...</td>\n",
       "    </tr>\n",
       "    <tr>\n",
       "      <th>1150</th>\n",
       "      <td>USA</td>\n",
       "      <td>2010</td>\n",
       "      <td>0.431172</td>\n",
       "      <td>0.816016</td>\n",
       "      <td>0.575456</td>\n",
       "      <td>0.955735</td>\n",
       "      <td>0.800173</td>\n",
       "      <td>0.624674</td>\n",
       "      <td>0.492739</td>\n",
       "      <td>0.121917</td>\n",
       "      <td>...</td>\n",
       "      <td>0.913240</td>\n",
       "      <td>0.066667</td>\n",
       "      <td>0.333333</td>\n",
       "      <td>0.4</td>\n",
       "      <td>0.722222</td>\n",
       "      <td>0.0</td>\n",
       "      <td>0.156037</td>\n",
       "      <td>0.843963</td>\n",
       "      <td>0.285341</td>\n",
       "      <td>0.684574</td>\n",
       "    </tr>\n",
       "    <tr>\n",
       "      <th>1151</th>\n",
       "      <td>USA</td>\n",
       "      <td>2011</td>\n",
       "      <td>0.456073</td>\n",
       "      <td>0.919857</td>\n",
       "      <td>0.582051</td>\n",
       "      <td>0.987737</td>\n",
       "      <td>0.824615</td>\n",
       "      <td>0.639577</td>\n",
       "      <td>0.511049</td>\n",
       "      <td>0.121917</td>\n",
       "      <td>...</td>\n",
       "      <td>0.913240</td>\n",
       "      <td>0.066667</td>\n",
       "      <td>0.333333</td>\n",
       "      <td>0.4</td>\n",
       "      <td>0.722222</td>\n",
       "      <td>0.0</td>\n",
       "      <td>0.156037</td>\n",
       "      <td>0.843963</td>\n",
       "      <td>0.285341</td>\n",
       "      <td>0.684574</td>\n",
       "    </tr>\n",
       "    <tr>\n",
       "      <th>1152</th>\n",
       "      <td>USA</td>\n",
       "      <td>2014</td>\n",
       "      <td>0.520510</td>\n",
       "      <td>1.000000</td>\n",
       "      <td>0.572387</td>\n",
       "      <td>0.999216</td>\n",
       "      <td>0.946693</td>\n",
       "      <td>0.735989</td>\n",
       "      <td>0.534292</td>\n",
       "      <td>0.121917</td>\n",
       "      <td>...</td>\n",
       "      <td>0.982993</td>\n",
       "      <td>0.066667</td>\n",
       "      <td>0.333333</td>\n",
       "      <td>0.4</td>\n",
       "      <td>0.722222</td>\n",
       "      <td>0.0</td>\n",
       "      <td>0.199686</td>\n",
       "      <td>0.800314</td>\n",
       "      <td>0.280513</td>\n",
       "      <td>0.663046</td>\n",
       "    </tr>\n",
       "    <tr>\n",
       "      <th>1153</th>\n",
       "      <td>USA</td>\n",
       "      <td>2015</td>\n",
       "      <td>0.487474</td>\n",
       "      <td>0.955070</td>\n",
       "      <td>0.585766</td>\n",
       "      <td>0.999364</td>\n",
       "      <td>0.970446</td>\n",
       "      <td>0.744350</td>\n",
       "      <td>0.542535</td>\n",
       "      <td>0.121917</td>\n",
       "      <td>...</td>\n",
       "      <td>1.000000</td>\n",
       "      <td>0.066667</td>\n",
       "      <td>0.333333</td>\n",
       "      <td>0.4</td>\n",
       "      <td>0.722222</td>\n",
       "      <td>0.0</td>\n",
       "      <td>0.182733</td>\n",
       "      <td>0.817267</td>\n",
       "      <td>0.284023</td>\n",
       "      <td>0.669622</td>\n",
       "    </tr>\n",
       "    <tr>\n",
       "      <th>1154</th>\n",
       "      <td>USA</td>\n",
       "      <td>2016</td>\n",
       "      <td>0.581649</td>\n",
       "      <td>0.970794</td>\n",
       "      <td>0.599861</td>\n",
       "      <td>1.000000</td>\n",
       "      <td>1.000000</td>\n",
       "      <td>0.762401</td>\n",
       "      <td>0.540125</td>\n",
       "      <td>0.015124</td>\n",
       "      <td>...</td>\n",
       "      <td>0.913240</td>\n",
       "      <td>0.000000</td>\n",
       "      <td>0.333333</td>\n",
       "      <td>0.4</td>\n",
       "      <td>0.833333</td>\n",
       "      <td>0.0</td>\n",
       "      <td>0.085690</td>\n",
       "      <td>0.914310</td>\n",
       "      <td>0.291488</td>\n",
       "      <td>0.721055</td>\n",
       "    </tr>\n",
       "  </tbody>\n",
       "</table>\n",
       "<p>1155 rows × 782 columns</p>\n",
       "</div>"
      ],
      "text/plain": [
       "     Country  Year  BM.GSR.ROYL.CD  BX.GSR.ROYL.CD  GB.XPD.RSDV.GD.ZS  \\\n",
       "0        AUS  1997        0.016586        0.003082           0.412299   \n",
       "1        AUS  2000        0.016077        0.003387           0.318885   \n",
       "2        AUS  2003        0.020823        0.003873           0.412299   \n",
       "3        AUS  2006        0.029817        0.005513           0.452984   \n",
       "4        AUS  2011        0.056962        0.008149           0.465026   \n",
       "...      ...   ...             ...             ...                ...   \n",
       "1150     USA  2010        0.431172        0.816016           0.575456   \n",
       "1151     USA  2011        0.456073        0.919857           0.582051   \n",
       "1152     USA  2014        0.520510        1.000000           0.572387   \n",
       "1153     USA  2015        0.487474        0.955070           0.585766   \n",
       "1154     USA  2016        0.581649        0.970794           0.599861   \n",
       "\n",
       "      IP.JRN.ARTC.SC  IP.PAT.NRES  IP.PAT.RESD  SP.POP.SCIE.RD.P6  \\\n",
       "0           0.050619     0.049629     0.004538           0.437652   \n",
       "1           0.054746     0.064698     0.004972           0.440204   \n",
       "2           0.059787     0.061806     0.006237           0.437652   \n",
       "3           0.079045     0.074667     0.007319           0.539751   \n",
       "4           0.104943     0.074593     0.006147           0.508147   \n",
       "...              ...          ...          ...                ...   \n",
       "1150        0.955735     0.800173     0.624674           0.492739   \n",
       "1151        0.987737     0.824615     0.639577           0.511049   \n",
       "1152        0.999216     0.946693     0.735989           0.534292   \n",
       "1153        0.999364     0.970446     0.744350           0.542535   \n",
       "1154        1.000000     1.000000     0.762401           0.540125   \n",
       "\n",
       "      SP.POP.TECH.RD.P6  ...  UIS.T.3.F  UIS.THAGE.0  UIS.THAGE.3.A.GPV  \\\n",
       "0              0.211022  ...   0.017427     0.400000           0.666667   \n",
       "1              0.202796  ...   0.017135     0.800000           0.666667   \n",
       "2              0.211022  ...   0.017472     0.200000           0.666667   \n",
       "3              0.256436  ...   0.018845     0.200000           0.666667   \n",
       "4              0.296302  ...   0.251432     0.200000           0.666667   \n",
       "...                 ...  ...        ...          ...                ...   \n",
       "1150           0.121917  ...   0.913240     0.066667           0.333333   \n",
       "1151           0.121917  ...   0.913240     0.066667           0.333333   \n",
       "1152           0.121917  ...   0.982993     0.066667           0.333333   \n",
       "1153           0.121917  ...   1.000000     0.066667           0.333333   \n",
       "1154           0.015124  ...   0.913240     0.000000           0.333333   \n",
       "\n",
       "      UIS.THAGE.4.A.GPV  UIS.THDUR.0  UIS.THDUR.4.A.GPV  \\\n",
       "0                   0.0     0.333333                0.0   \n",
       "1                   0.0     0.000000                0.0   \n",
       "2                   0.0     0.500000                0.0   \n",
       "3                   0.0     0.500000                0.0   \n",
       "4                   0.0     0.500000                0.0   \n",
       "...                 ...          ...                ...   \n",
       "1150                0.4     0.722222                0.0   \n",
       "1151                0.4     0.722222                0.0   \n",
       "1152                0.4     0.722222                0.0   \n",
       "1153                0.4     0.722222                0.0   \n",
       "1154                0.4     0.833333                0.0   \n",
       "\n",
       "      UIS.XSPENDP.56.FDPUB.FNCAP  UIS.XSPENDP.56.FDPUB.FNCUR  \\\n",
       "0                       0.211677                    0.788317   \n",
       "1                       0.176835                    0.823146   \n",
       "2                       0.211677                    0.788317   \n",
       "3                       0.197271                    0.802729   \n",
       "4                       0.260925                    0.739075   \n",
       "...                          ...                         ...   \n",
       "1150                    0.156037                    0.843963   \n",
       "1151                    0.156037                    0.843963   \n",
       "1152                    0.199686                    0.800314   \n",
       "1153                    0.182733                    0.817267   \n",
       "1154                    0.085690                    0.914310   \n",
       "\n",
       "      UIS.XSPENDP.56.FDPUB.FNNONS  UIS.XSPENDP.56.FDPUB.FNS  \n",
       "0                        0.307628                  0.626075  \n",
       "1                        0.302216                  0.653377  \n",
       "2                        0.307628                  0.626075  \n",
       "3                        0.317720                  0.623900  \n",
       "4                        0.302946                  0.600949  \n",
       "...                           ...                       ...  \n",
       "1150                     0.285341                  0.684574  \n",
       "1151                     0.285341                  0.684574  \n",
       "1152                     0.280513                  0.663046  \n",
       "1153                     0.284023                  0.669622  \n",
       "1154                     0.291488                  0.721055  \n",
       "\n",
       "[1155 rows x 782 columns]"
      ]
     },
     "execution_count": 3,
     "metadata": {},
     "output_type": "execute_result"
    }
   ],
   "source": [
    "df"
   ]
  },
  {
   "cell_type": "code",
   "execution_count": 4,
   "metadata": {},
   "outputs": [],
   "source": [
    "# mapping world bank codes to definitions\n",
    "mapping_world_bank_to_names_and_definitions_df = pd.read_csv('../WorldBankDatasets/Cleaned/World_Bank_Indicator_Definition_Info.csv',\n",
    "                                                             delimiter='\\t')"
   ]
  },
  {
   "cell_type": "code",
   "execution_count": 5,
   "metadata": {},
   "outputs": [
    {
     "data": {
      "text/html": [
       "<div>\n",
       "<style scoped>\n",
       "    .dataframe tbody tr th:only-of-type {\n",
       "        vertical-align: middle;\n",
       "    }\n",
       "\n",
       "    .dataframe tbody tr th {\n",
       "        vertical-align: top;\n",
       "    }\n",
       "\n",
       "    .dataframe thead th {\n",
       "        text-align: right;\n",
       "    }\n",
       "</style>\n",
       "<table border=\"1\" class=\"dataframe\">\n",
       "  <thead>\n",
       "    <tr style=\"text-align: right;\">\n",
       "      <th></th>\n",
       "      <th>indicator_code</th>\n",
       "      <th>indicator_name</th>\n",
       "      <th>long_definition</th>\n",
       "    </tr>\n",
       "  </thead>\n",
       "  <tbody>\n",
       "    <tr>\n",
       "      <th>0</th>\n",
       "      <td>Country</td>\n",
       "      <td>indicator name missing</td>\n",
       "      <td>definition missing</td>\n",
       "    </tr>\n",
       "    <tr>\n",
       "      <th>1</th>\n",
       "      <td>Year</td>\n",
       "      <td>indicator name missing</td>\n",
       "      <td>definition missing</td>\n",
       "    </tr>\n",
       "    <tr>\n",
       "      <th>2</th>\n",
       "      <td>SH.ANM.ALLW.ZS</td>\n",
       "      <td>Prevalence of anemia among women of reproducti...</td>\n",
       "      <td>Prevalence of anemia among women of reproducti...</td>\n",
       "    </tr>\n",
       "    <tr>\n",
       "      <th>3</th>\n",
       "      <td>SH.ANM.CHLD.ZS</td>\n",
       "      <td>Prevalence of anemia among children (% of chil...</td>\n",
       "      <td>Prevalence of anemia, children ages 6-59 month...</td>\n",
       "    </tr>\n",
       "    <tr>\n",
       "      <th>4</th>\n",
       "      <td>SH.ANM.NPRG.ZS</td>\n",
       "      <td>Prevalence of anemia among non-pregnant women ...</td>\n",
       "      <td>Prevalence of anemia, non-pregnant women, is t...</td>\n",
       "    </tr>\n",
       "    <tr>\n",
       "      <th>...</th>\n",
       "      <td>...</td>\n",
       "      <td>...</td>\n",
       "      <td>...</td>\n",
       "    </tr>\n",
       "    <tr>\n",
       "      <th>791</th>\n",
       "      <td>SE.TER.CUAT.MS.MA.ZS</td>\n",
       "      <td>Educational attainment, at least Master's or e...</td>\n",
       "      <td>The percentage of population ages 25 and over ...</td>\n",
       "    </tr>\n",
       "    <tr>\n",
       "      <th>792</th>\n",
       "      <td>SG.GEN.MNST.ZS</td>\n",
       "      <td>Proportion of women in ministerial level posit...</td>\n",
       "      <td>Women in ministerial level positions is the pr...</td>\n",
       "    </tr>\n",
       "    <tr>\n",
       "      <th>793</th>\n",
       "      <td>SG.POP.MIGR.FE.ZS</td>\n",
       "      <td>Female migrants (% of international migrant st...</td>\n",
       "      <td>Percentage of female migrants out of total int...</td>\n",
       "    </tr>\n",
       "    <tr>\n",
       "      <th>794</th>\n",
       "      <td>SH.MMR.WAGE.ZS</td>\n",
       "      <td>Maternal leave benefits (% of wages paid in co...</td>\n",
       "      <td>Maternity leave benefits refers to the total p...</td>\n",
       "    </tr>\n",
       "    <tr>\n",
       "      <th>795</th>\n",
       "      <td>SH.PRV.SMOK.FE</td>\n",
       "      <td>Prevalence of current tobacco use, females (% ...</td>\n",
       "      <td>The percentage of the female population ages 1...</td>\n",
       "    </tr>\n",
       "  </tbody>\n",
       "</table>\n",
       "<p>796 rows × 3 columns</p>\n",
       "</div>"
      ],
      "text/plain": [
       "           indicator_code                                     indicator_name  \\\n",
       "0                 Country                             indicator name missing   \n",
       "1                    Year                             indicator name missing   \n",
       "2          SH.ANM.ALLW.ZS  Prevalence of anemia among women of reproducti...   \n",
       "3          SH.ANM.CHLD.ZS  Prevalence of anemia among children (% of chil...   \n",
       "4          SH.ANM.NPRG.ZS  Prevalence of anemia among non-pregnant women ...   \n",
       "..                    ...                                                ...   \n",
       "791  SE.TER.CUAT.MS.MA.ZS  Educational attainment, at least Master's or e...   \n",
       "792        SG.GEN.MNST.ZS  Proportion of women in ministerial level posit...   \n",
       "793     SG.POP.MIGR.FE.ZS  Female migrants (% of international migrant st...   \n",
       "794        SH.MMR.WAGE.ZS  Maternal leave benefits (% of wages paid in co...   \n",
       "795        SH.PRV.SMOK.FE  Prevalence of current tobacco use, females (% ...   \n",
       "\n",
       "                                       long_definition  \n",
       "0                                   definition missing  \n",
       "1                                   definition missing  \n",
       "2    Prevalence of anemia among women of reproducti...  \n",
       "3    Prevalence of anemia, children ages 6-59 month...  \n",
       "4    Prevalence of anemia, non-pregnant women, is t...  \n",
       "..                                                 ...  \n",
       "791  The percentage of population ages 25 and over ...  \n",
       "792  Women in ministerial level positions is the pr...  \n",
       "793  Percentage of female migrants out of total int...  \n",
       "794  Maternity leave benefits refers to the total p...  \n",
       "795  The percentage of the female population ages 1...  \n",
       "\n",
       "[796 rows x 3 columns]"
      ]
     },
     "execution_count": 5,
     "metadata": {},
     "output_type": "execute_result"
    }
   ],
   "source": [
    "mapping_world_bank_to_names_and_definitions_df"
   ]
  },
  {
   "cell_type": "markdown",
   "metadata": {},
   "source": [
    "## Data Preparation"
   ]
  },
  {
   "cell_type": "code",
   "execution_count": 6,
   "metadata": {},
   "outputs": [],
   "source": [
    "# Reduce to only gender indicators\n",
    "\n",
    "#if not OECD:\n",
    "#    gender_ind = pd.read_csv('../WorldBankDatasets/Gender_WorldBankData.csv').columns\n",
    "#    df = df.drop(columns=[col for col in df if col not in gender_ind])\n",
    "\n",
    "#df.head()"
   ]
  },
  {
   "cell_type": "code",
   "execution_count": 7,
   "metadata": {},
   "outputs": [
    {
     "name": "stderr",
     "output_type": "stream",
     "text": [
      "/tmp/ipykernel_234387/2488832800.py:4: SettingWithCopyWarning: \n",
      "A value is trying to be set on a copy of a slice from a DataFrame\n",
      "\n",
      "See the caveats in the documentation: https://pandas.pydata.org/pandas-docs/stable/user_guide/indexing.html#returning-a-view-versus-a-copy\n",
      "  df.drop(\"Year\", axis=1, inplace=True)\n",
      "/tmp/ipykernel_234387/2488832800.py:8: SettingWithCopyWarning: \n",
      "A value is trying to be set on a copy of a slice from a DataFrame.\n",
      "Try using .loc[row_indexer,col_indexer] = value instead\n",
      "\n",
      "See the caveats in the documentation: https://pandas.pydata.org/pandas-docs/stable/user_guide/indexing.html#returning-a-view-versus-a-copy\n",
      "  df[mm_ind] = scaler.fit_transform(df[mm_ind].to_numpy().reshape(-1, 1))\n"
     ]
    }
   ],
   "source": [
    "# Select year\n",
    "year = 2015\n",
    "df = df[df[\"Year\"] == year]\n",
    "df.drop(\"Year\", axis=1, inplace=True)\n",
    "\n",
    "# Scale predictor, which is currently unscaled\n",
    "scaler = MinMaxScaler()\n",
    "df[mm_ind] = scaler.fit_transform(df[mm_ind].to_numpy().reshape(-1, 1))\n",
    "\n",
    "# Drop country\n",
    "X = df.drop(columns=['Country'])"
   ]
  },
  {
   "cell_type": "markdown",
   "metadata": {},
   "source": [
    "## Dimensionality Reduction"
   ]
  },
  {
   "cell_type": "markdown",
   "metadata": {},
   "source": [
    "# PCA"
   ]
  },
  {
   "cell_type": "code",
   "execution_count": 8,
   "metadata": {},
   "outputs": [
    {
     "name": "stdout",
     "output_type": "stream",
     "text": [
      "Number of PCs: 2\n",
      "Explained variation per PC: [0.423584   0.10788109]\n",
      "Sum of explained variation: 0.5314650840062904\n"
     ]
    }
   ],
   "source": [
    "pca = PCA(n_components=2, random_state=42)\n",
    "pca.fit(X)\n",
    "\n",
    "print(\"Number of PCs: {}\".format(len(pca.explained_variance_ratio_)))\n",
    "print(\"Explained variation per PC: {}\".format(pca.explained_variance_ratio_))\n",
    "print(\"Sum of explained variation: {}\".format(pca.explained_variance_ratio_.sum()))"
   ]
  },
  {
   "cell_type": "markdown",
   "metadata": {},
   "source": [
    "# Now to show you detailed information of the features that contribute to the PC analysis"
   ]
  },
  {
   "cell_type": "code",
   "execution_count": 9,
   "metadata": {},
   "outputs": [],
   "source": [
    "def sort_loadings_for_principal_component(loadings, X=X):\n",
    "    feature_names = X.columns\n",
    "    \n",
    "    # make a series of the current pca loadings. Index is the column name (feature) and value is the loading value\n",
    "    feature_names_series = pd.Series(loadings, index=feature_names)\n",
    "\n",
    "    # take the absolute value of the series\n",
    "    feature_names_series_abs = feature_names_series.abs()\n",
    "\n",
    "    # finally sort descending. The higher the number, the higher the correlatino and explanatory value of the feature for the principal component\n",
    "    pca_component_explanatory_features_sorted = feature_names_series_abs.sort_values(ascending=False)\n",
    "    \n",
    "    return pca_component_explanatory_features_sorted"
   ]
  },
  {
   "cell_type": "code",
   "execution_count": 10,
   "metadata": {},
   "outputs": [],
   "source": [
    "def get_most_important_features_from_pca_loadings (pca_loadings, n_most_important_features_from_loading = 5, \n",
    "                                                   includeName = True, includeDefintion = True):\n",
    "    pca_loadings_explanations = {}\n",
    "\n",
    "    cur_loadings_sorted_with_n_most_important_features = sort_loadings_for_principal_component(pca_loadings).iloc[\n",
    "        0:n_most_important_features_from_loading]\n",
    "\n",
    "    feature_codes = []\n",
    "    feature_values = []\n",
    "\n",
    "    feature_names = []\n",
    "    feature_definitions = []\n",
    "\n",
    "    for feature_code_index, feature_value in zip (cur_loadings_sorted_with_n_most_important_features.index,\n",
    "                                                  cur_loadings_sorted_with_n_most_important_features.values):\n",
    "        feature_codes.append(feature_code_index)\n",
    "        feature_values.append(feature_value)\n",
    "\n",
    "        if (includeName):\n",
    "            cur_name = get_world_bank_indicator_name_from_code(feature_code_index)\n",
    "            # print('cur_name is', cur_name)\n",
    "            feature_names.append(cur_name)\n",
    "        \n",
    "        if (includeDefintion):\n",
    "            cur_definition  = get_world_bank_indicator_definition_from_code(feature_code_index)\n",
    "            feature_definitions.append(cur_definition)\n",
    "\n",
    "    # pca_loadings_explanations[f\"top_{n_most_important_features_from_loading}_most_important_feature_values\"] = feature_values\n",
    "    pca_loadings_explanations[\"most_important_features_values\"] = feature_values\n",
    "    pca_loadings_explanations[\"most_important_features_world_bank_codes\"] = feature_codes\n",
    "    pca_loadings_explanations[\"most_important_features_world_bank_names\"] = feature_names\n",
    "    pca_loadings_explanations[\"most_important_features_world_bank_definitions\"] = feature_definitions\n",
    "\n",
    "    return pca_loadings_explanations"
   ]
  },
  {
   "cell_type": "code",
   "execution_count": 11,
   "metadata": {},
   "outputs": [],
   "source": [
    "# this function will show the top most important components explaining the variance for each of the pcs \n",
    "# give a given percentage of variance to explain\n",
    "def pca_with_detailed_variance_and_components_info(percentage_of_variance_to_explain, X=X, n_most_important_features_from_loading=5, includeValues = False,\n",
    "                                                 includeDefinition=False):\n",
    "    pca = PCA(n_components=percentage_of_variance_to_explain, random_state=42)\n",
    "    pca.fit(X)\n",
    "    pca_loadings = pca.components_\n",
    "\n",
    "    loadings_information = []\n",
    "    for loading in pca_loadings:\n",
    "        cur_loading_features_info = get_most_important_features_from_pca_loadings(loading, n_most_important_features_from_loading)\n",
    "        loadings_information.append(cur_loading_features_info)\n",
    "    \n",
    "    num_principal_components = len(pca.explained_variance_ratio_)\n",
    "\n",
    "    print(f'in order to explain {percentage_of_variance_to_explain * 100} percentage of the variance with pca it requires')\n",
    "    print(f'{num_principal_components} principal components')\n",
    "    print(f'the most important feature names, for the top {n_most_important_features_from_loading} from each PC, are\\n')\n",
    "\n",
    "    # print the most important value names\n",
    "    most_important_feature_names_explaining_variance_with_pca = []\n",
    "    for i in range(0, len(loadings_information)):\n",
    "        # print('\\n')\n",
    "        print('---------')\n",
    "        print(f'For Principal Component {i+1}, the most important features names are:\\n')\n",
    "        # print('\\n')\n",
    "        cur_loadings_info = loadings_information[i]\n",
    "\n",
    "        cur_loadings_names = cur_loadings_info['most_important_features_world_bank_names']\n",
    "        cur_loadings_values = cur_loadings_info['most_important_features_values']\n",
    "        cur_loadings_codes = cur_loadings_info['most_important_features_world_bank_codes']\n",
    "        cur_loadings_definitions = cur_loadings_info['most_important_features_world_bank_definitions']\n",
    "\n",
    "        for code, value, name, definition in zip(cur_loadings_codes, cur_loadings_values, cur_loadings_names, cur_loadings_definitions):\n",
    "            print(name)\n",
    "            \n",
    "            # uncomment for testing to debug\n",
    "            # print(code)\n",
    "\n",
    "            if (includeValues):\n",
    "                print(f\"with value {value}\")\n",
    "\n",
    "            if (includeDefinition):\n",
    "                print(definition)\n",
    "        print('\\n')"
   ]
  },
  {
   "cell_type": "markdown",
   "metadata": {},
   "source": [
    "## Modify variance_percentage_to_explain below for detailed information based on what percentage of the variance in principal components you want to explain maternal mortality. (see section below for just the top feature per PC)"
   ]
  },
  {
   "cell_type": "code",
   "execution_count": 12,
   "metadata": {},
   "outputs": [
    {
     "name": "stdout",
     "output_type": "stream",
     "text": [
      "in order to explain 90.0 percentage of the variance with pca it requires\n",
      "18 principal components\n",
      "the most important feature names, for the top 5 from each PC, are\n",
      "\n",
      "---------\n",
      "For Principal Component 1, the most important features names are:\n",
      "\n",
      "There are periods of absence due to childcare accounted for in pension benefits (1=yes; 0=no)\n",
      "with value 0.07151985342348981\n",
      "Law mandates equal remuneration for females and males for work of equal value (1=yes; 0=no)\n",
      "with value 0.06792436978253891\n",
      "Secondary education, vocational pupils\n",
      "with value 0.06718282519487066\n",
      "Enrolment in lower secondary education, female (number)\n",
      "with value 0.06649493079538345\n",
      "Enrolment in lower secondary education, both sexes (number)\n",
      "with value 0.06545147071788737\n",
      "\n",
      "\n",
      "---------\n",
      "For Principal Component 2, the most important features names are:\n",
      "\n",
      "The age at which men and women can retire with full pension benefits is the same (1=yes; 0=no)\n",
      "with value 0.15122940803154442\n",
      "Domestic general government health expenditure per capita, PPP (current international $)\n",
      "with value 0.13352432898004724\n",
      "Prevalence of HIV, male (% ages 15-24)\n",
      "with value 0.13047181566844784\n",
      "Researchers in R&D (per million people)\n",
      "with value 0.12944687838824084\n",
      "Current health expenditure per capita (current US$)\n",
      "with value 0.12807828764917584\n",
      "\n",
      "\n",
      "---------\n",
      "For Principal Component 3, the most important features names are:\n",
      "\n",
      "The age at which men and women can retire with partial pension benefits is the same (1=yes; 0=no)\n",
      "with value 0.18904306082480293\n",
      "There is paid parental leave (1=yes; 0=no)\n",
      "with value 0.16016183700697903\n",
      "A woman can sign a contract in the same way as a man (1=yes; 0=no)\n",
      "with value 0.15438132744356306\n",
      "Death rate, crude (per 1,000 people)\n",
      "with value 0.14755183245373604\n",
      "Population ages 75-79, female (% of female population)\n",
      "with value 0.1447319358251037\n",
      "\n",
      "\n",
      "---------\n",
      "For Principal Component 4, the most important features names are:\n",
      "\n",
      "A woman has the same rights to remarry as a man (1=yes; 0=no)\n",
      "with value 0.18962110751737474\n",
      "Length of paid parental leave for father (calendar days)\n",
      "with value 0.17456909525114223\n",
      "Length of paid parental leave for mother (calendar days)\n",
      "with value 0.16251433732336\n",
      "Repeaters in Grade 6 of primary education, female (number)\n",
      "with value 0.13652239121830384\n",
      "Repeaters in Grade 6 of primary education, both sexes (number)\n",
      "with value 0.13237743918284442\n",
      "\n",
      "\n",
      "---------\n",
      "For Principal Component 5, the most important features names are:\n",
      "\n",
      "A woman can sign a contract in the same way as a man (1=yes; 0=no)\n",
      "with value 0.2519093642002057\n",
      "Law mandates equal remuneration for females and males for work of equal value (1=yes; 0=no)\n",
      "with value 0.2472888217875621\n",
      "The government administers 100% of maternity leave benefits (1=yes; 0=no)\n",
      "with value 0.15303532845747625\n",
      "A woman can work in a job deemed dangerous in the same way as a man (1=yes; 0=no)\n",
      "with value 0.15246651570860248\n",
      "A woman can work in an industrial job in the same way as a man (1=yes; 0=no)\n",
      "with value 0.1511435516773717\n",
      "\n",
      "\n",
      "---------\n",
      "For Principal Component 6, the most important features names are:\n",
      "\n",
      "Paid leave is available to fathers (1=yes; 0=no)\n",
      "with value 0.31193705813116906\n",
      "Prevalence of HIV, total (% of population ages 15-49)\n",
      "with value 0.22479684690305854\n",
      "Percentage of enrolment in tertiary education in private institutions (%)\n",
      "with value 0.19134550823679156\n",
      "Preprimary education, duration (years)\n",
      "with value 0.1839313239575373\n",
      "Official entrance age to early childhood education (years)\n",
      "with value 0.16641780197519088\n",
      "\n",
      "\n",
      "---------\n",
      "For Principal Component 7, the most important features names are:\n",
      "\n",
      "A woman can work in a job deemed dangerous in the same way as a man (1=yes; 0=no)\n",
      "with value 0.18978489415637978\n",
      "A woman can work in an industrial job in the same way as a man (1=yes; 0=no)\n",
      "with value 0.17037732419484647\n",
      "A woman has the same rights to remarry as a man (1=yes; 0=no)\n",
      "with value 0.1675345907032139\n",
      "A woman can sign a contract in the same way as a man (1=yes; 0=no)\n",
      "with value 0.1634220930714934\n",
      "The government administers 100% of maternity leave benefits (1=yes; 0=no)\n",
      "with value 0.1580968641694743\n",
      "\n",
      "\n",
      "---------\n",
      "For Principal Component 8, the most important features names are:\n",
      "\n",
      "The age at which men and women can retire with full pension benefits is the same (1=yes; 0=no)\n",
      "with value 0.35393398499158113\n",
      "Law mandates equal remuneration for females and males for work of equal value (1=yes; 0=no)\n",
      "with value 0.26663855321464275\n",
      "Theoretical duration of post-secondary non-tertiary education (years)\n",
      "with value 0.23320214560728736\n",
      "A woman can work in an industrial job in the same way as a man (1=yes; 0=no)\n",
      "with value 0.2245132969358257\n",
      "The age at which men and women can retire with partial pension benefits is the same (1=yes; 0=no)\n",
      "with value 0.19728445151830137\n",
      "\n",
      "\n",
      "---------\n",
      "For Principal Component 9, the most important features names are:\n",
      "\n",
      "There is paid parental leave (1=yes; 0=no)\n",
      "with value 0.21918651875830372\n",
      "Prevalence of HIV, total (% of population ages 15-49)\n",
      "with value 0.19515356636810782\n",
      "Paid leave is available to fathers (1=yes; 0=no)\n",
      "with value 0.18468969309547978\n",
      "Incidence of HIV, ages 15-49, female (per 1,000 uninfected female population ages 15-49)\n",
      "with value 0.1513246033790595\n",
      "Official entrance age to early childhood education (years)\n",
      "with value 0.1456698788294137\n",
      "\n",
      "\n",
      "---------\n",
      "For Principal Component 10, the most important features names are:\n",
      "\n",
      "The age at which men and women can retire with full pension benefits is the same (1=yes; 0=no)\n",
      "with value 0.2580579695871942\n",
      "A woman can work in an industrial job in the same way as a man (1=yes; 0=no)\n",
      "with value 0.22964176537175698\n",
      "Paid leave is available to fathers (1=yes; 0=no)\n",
      "with value 0.18114072167161913\n",
      "A woman has the same rights to remarry as a man (1=yes; 0=no)\n",
      "with value 0.17929535568688296\n",
      "A woman can be head of household in the same way as a man (1=yes; 0=no)\n",
      "with value 0.1724761058176749\n",
      "\n",
      "\n",
      "---------\n",
      "For Principal Component 11, the most important features names are:\n",
      "\n",
      "Theoretical duration of lower secondary education (years)\n",
      "with value 0.22415824595828476\n",
      "The government administers 100% of maternity leave benefits (1=yes; 0=no)\n",
      "with value 0.1718385423285074\n",
      "Theoretical duration of upper secondary education (years)\n",
      "with value 0.1669586622490246\n",
      "Official entrance age to upper secondary education (years)\n",
      "with value 0.15539964517497762\n",
      "Law mandates equal remuneration for females and males for work of equal value (1=yes; 0=no)\n",
      "with value 0.1407862272650269\n",
      "\n",
      "\n",
      "---------\n",
      "For Principal Component 12, the most important features names are:\n",
      "\n",
      "A woman can sign a contract in the same way as a man (1=yes; 0=no)\n",
      "with value 0.2537116481774753\n",
      "The age at which men and women can retire with partial pension benefits is the same (1=yes; 0=no)\n",
      "with value 0.23820232209228753\n",
      "Law mandates equal remuneration for females and males for work of equal value (1=yes; 0=no)\n",
      "with value 0.17611108282479607\n",
      "Prevalence of overweight (modeled estimate, % of children under 5)\n",
      "with value 0.17490498526277204\n",
      "Paid leave is available to fathers (1=yes; 0=no)\n",
      "with value 0.17440337125099228\n",
      "\n",
      "\n",
      "---------\n",
      "For Principal Component 13, the most important features names are:\n",
      "\n",
      "Pupil-teacher ratio, preprimary\n",
      "with value 0.21785147359288878\n",
      "Charges for the use of intellectual property, payments (BoP, current US$)\n",
      "with value 0.1892711836303633\n",
      "External health expenditure per capita, PPP (current international $)\n",
      "with value 0.17982673697657287\n",
      "Percentage of enrolment in pre-primary education in private institutions (%)\n",
      "with value 0.17459538889678056\n",
      "Theoretical duration of early childhood education (years)\n",
      "with value 0.16732026955849114\n",
      "\n",
      "\n",
      "---------\n",
      "For Principal Component 14, the most important features names are:\n",
      "\n",
      "There are periods of absence due to childcare accounted for in pension benefits (1=yes; 0=no)\n",
      "with value 0.2157797639569905\n",
      "A woman can work in a job deemed dangerous in the same way as a man (1=yes; 0=no)\n",
      "with value 0.17242244989348737\n",
      "Proportion of seats held by women in national parliaments (%)\n",
      "with value 0.14296407673665806\n",
      "The government administers 100% of maternity leave benefits (1=yes; 0=no)\n",
      "with value 0.13733028599054134\n",
      "Theoretical duration of early childhood education (years)\n",
      "with value 0.1358143431952719\n",
      "\n",
      "\n",
      "---------\n",
      "For Principal Component 15, the most important features names are:\n",
      "\n",
      "Theoretical duration of post-secondary non-tertiary education (years)\n",
      "with value 0.2033628592590959\n",
      "People using at least basic drinking water services, urban (% of urban population)\n",
      "with value 0.1940801016944121\n",
      "Percentage of teachers in pre-primary education who are female (%)\n",
      "with value 0.18991616935126188\n",
      "There is paid parental leave (1=yes; 0=no)\n",
      "with value 0.18386519831642084\n",
      "Law mandates equal remuneration for females and males for work of equal value (1=yes; 0=no)\n",
      "with value 0.17698525174156793\n",
      "\n",
      "\n",
      "---------\n",
      "For Principal Component 16, the most important features names are:\n",
      "\n",
      "The government administers 100% of maternity leave benefits (1=yes; 0=no)\n",
      "with value 0.1856567178227034\n",
      "Repeaters in Grade 6 of primary education, female (number)\n",
      "with value 0.170392482848947\n",
      "Repeaters in Grade 6 of primary education, both sexes (number)\n",
      "with value 0.1651608251762958\n",
      "A woman can work in an industrial job in the same way as a man (1=yes; 0=no)\n",
      "with value 0.155588800771872\n",
      "Percentage of graduates from tertiary education graduating from Natural Sciences, Mathematics and Statistics programmes, both sexes (%)\n",
      "with value 0.15470790388787162\n",
      "\n",
      "\n",
      "---------\n",
      "For Principal Component 17, the most important features names are:\n",
      "\n",
      "There is paid parental leave (1=yes; 0=no)\n",
      "with value 0.2055301642689589\n",
      "Out-of-pocket expenditure (% of current health expenditure)\n",
      "with value 0.14728841285627034\n",
      "Prevalence of HIV, total (% of population ages 15-49)\n",
      "with value 0.13597987601989792\n",
      "A woman can work in a job deemed dangerous in the same way as a man (1=yes; 0=no)\n",
      "with value 0.13073408974700096\n",
      "The age at which men and women can retire with full pension benefits is the same (1=yes; 0=no)\n",
      "with value 0.12756549309966428\n",
      "\n",
      "\n",
      "---------\n",
      "For Principal Component 18, the most important features names are:\n",
      "\n",
      "A woman can sign a contract in the same way as a man (1=yes; 0=no)\n",
      "with value 0.16436530052541914\n",
      "School enrollment, secondary, private (% of total secondary)\n",
      "with value 0.16389967272100614\n",
      "A woman can work in an industrial job in the same way as a man (1=yes; 0=no)\n",
      "with value 0.16343874583246196\n",
      "School enrollment, preprimary, male (% gross)\n",
      "with value 0.14445246839677225\n",
      "School enrollment, preprimary, female (% gross)\n",
      "with value 0.1431722452895847\n",
      "\n",
      "\n"
     ]
    }
   ],
   "source": [
    "# pca_with_detailed_variance_and_components_info(0.8)\n",
    "# pca_with_detailed_variance_and_components_info(0.9, includeValues=True)\n",
    "num_top_features_per_pc = 5\n",
    "pca_with_detailed_variance_and_components_info(0.9, includeValues=True, \n",
    "                                               n_most_important_features_from_loading = num_top_features_per_pc)"
   ]
  },
  {
   "cell_type": "code",
   "execution_count": 13,
   "metadata": {},
   "outputs": [],
   "source": [
    "# returns a list of the top feature name for each principal component\n",
    "def get_top_feature_for_each_pc(percentage_of_variance_to_explain, X=X, n_most_important_features_from_loading=5):\n",
    "    pca = PCA(n_components=percentage_of_variance_to_explain, random_state=42)\n",
    "    pca.fit(X)\n",
    "    pca_loadings = pca.components_\n",
    "\n",
    "    loadings_information = []\n",
    "    for loading in pca_loadings:\n",
    "        cur_loading_features_info = get_most_important_features_from_pca_loadings(loading, n_most_important_features_from_loading)\n",
    "        loadings_information.append(cur_loading_features_info)\n",
    "    \n",
    "    top_feature_name_per_pc = []\n",
    "    for i in range(0, len(loadings_information)):\n",
    "        cur_loadings_info = loadings_information[i]\n",
    "\n",
    "        cur_features_names = cur_loadings_info['most_important_features_world_bank_names']\n",
    "        cur_top_feature = cur_features_names[0]\n",
    "        top_feature_name_per_pc.append(cur_top_feature)\n",
    "        # cur_loadings_values = cur_loadings_info['most_important_features_values']\n",
    "        # cur_loadings_codes = cur_loadings_info['most_important_features_world_bank_codes']\n",
    "        # cur_loadings_definitions = cur_loadings_info['most_important_features_world_bank_definitions']\n",
    "    \n",
    "    return top_feature_name_per_pc"
   ]
  },
  {
   "cell_type": "markdown",
   "metadata": {},
   "source": [
    "## Modify variance_percentage_to_explain below based on what percentage of the variance in principal components. You may find the results interesting!"
   ]
  },
  {
   "cell_type": "code",
   "execution_count": 14,
   "metadata": {},
   "outputs": [],
   "source": [
    "# below starts to use html formatting"
   ]
  },
  {
   "cell_type": "code",
   "execution_count": 15,
   "metadata": {},
   "outputs": [
    {
     "data": {
      "text/html": [
       "<h2>Assuming you want to explain 95.0 percent of the PC variation, \n",
       "              the top feature names that explain this per principal component are:</h2>\n"
      ],
      "text/plain": [
       "<IPython.core.display.HTML object>"
      ]
     },
     "metadata": {},
     "output_type": "display_data"
    },
    {
     "data": {
      "text/html": [
       "<strong>PC 1:</strong> There are periods of absence due to childcare accounted for in pension benefits (1=yes; 0=no)"
      ],
      "text/plain": [
       "<IPython.core.display.HTML object>"
      ]
     },
     "metadata": {},
     "output_type": "display_data"
    },
    {
     "data": {
      "text/html": [
       "<strong>PC 2:</strong> The age at which men and women can retire with full pension benefits is the same (1=yes; 0=no)"
      ],
      "text/plain": [
       "<IPython.core.display.HTML object>"
      ]
     },
     "metadata": {},
     "output_type": "display_data"
    },
    {
     "data": {
      "text/html": [
       "<strong>PC 3:</strong> The age at which men and women can retire with partial pension benefits is the same (1=yes; 0=no)"
      ],
      "text/plain": [
       "<IPython.core.display.HTML object>"
      ]
     },
     "metadata": {},
     "output_type": "display_data"
    },
    {
     "data": {
      "text/html": [
       "<strong>PC 4:</strong> A woman has the same rights to remarry as a man (1=yes; 0=no)"
      ],
      "text/plain": [
       "<IPython.core.display.HTML object>"
      ]
     },
     "metadata": {},
     "output_type": "display_data"
    },
    {
     "data": {
      "text/html": [
       "<strong>PC 5:</strong> A woman can sign a contract in the same way as a man (1=yes; 0=no)"
      ],
      "text/plain": [
       "<IPython.core.display.HTML object>"
      ]
     },
     "metadata": {},
     "output_type": "display_data"
    },
    {
     "data": {
      "text/html": [
       "<strong>PC 6:</strong> Paid leave is available to fathers (1=yes; 0=no)"
      ],
      "text/plain": [
       "<IPython.core.display.HTML object>"
      ]
     },
     "metadata": {},
     "output_type": "display_data"
    },
    {
     "data": {
      "text/html": [
       "<strong>PC 7:</strong> A woman can work in a job deemed dangerous in the same way as a man (1=yes; 0=no)"
      ],
      "text/plain": [
       "<IPython.core.display.HTML object>"
      ]
     },
     "metadata": {},
     "output_type": "display_data"
    },
    {
     "data": {
      "text/html": [
       "<strong>PC 8:</strong> The age at which men and women can retire with full pension benefits is the same (1=yes; 0=no)"
      ],
      "text/plain": [
       "<IPython.core.display.HTML object>"
      ]
     },
     "metadata": {},
     "output_type": "display_data"
    },
    {
     "data": {
      "text/html": [
       "<strong>PC 9:</strong> There is paid parental leave (1=yes; 0=no)"
      ],
      "text/plain": [
       "<IPython.core.display.HTML object>"
      ]
     },
     "metadata": {},
     "output_type": "display_data"
    },
    {
     "data": {
      "text/html": [
       "<strong>PC 10:</strong> The age at which men and women can retire with full pension benefits is the same (1=yes; 0=no)"
      ],
      "text/plain": [
       "<IPython.core.display.HTML object>"
      ]
     },
     "metadata": {},
     "output_type": "display_data"
    },
    {
     "data": {
      "text/html": [
       "<strong>PC 11:</strong> Theoretical duration of lower secondary education (years)"
      ],
      "text/plain": [
       "<IPython.core.display.HTML object>"
      ]
     },
     "metadata": {},
     "output_type": "display_data"
    },
    {
     "data": {
      "text/html": [
       "<strong>PC 12:</strong> A woman can sign a contract in the same way as a man (1=yes; 0=no)"
      ],
      "text/plain": [
       "<IPython.core.display.HTML object>"
      ]
     },
     "metadata": {},
     "output_type": "display_data"
    },
    {
     "data": {
      "text/html": [
       "<strong>PC 13:</strong> Pupil-teacher ratio, preprimary"
      ],
      "text/plain": [
       "<IPython.core.display.HTML object>"
      ]
     },
     "metadata": {},
     "output_type": "display_data"
    },
    {
     "data": {
      "text/html": [
       "<strong>PC 14:</strong> There are periods of absence due to childcare accounted for in pension benefits (1=yes; 0=no)"
      ],
      "text/plain": [
       "<IPython.core.display.HTML object>"
      ]
     },
     "metadata": {},
     "output_type": "display_data"
    },
    {
     "data": {
      "text/html": [
       "<strong>PC 15:</strong> Theoretical duration of post-secondary non-tertiary education (years)"
      ],
      "text/plain": [
       "<IPython.core.display.HTML object>"
      ]
     },
     "metadata": {},
     "output_type": "display_data"
    },
    {
     "data": {
      "text/html": [
       "<strong>PC 16:</strong> The government administers 100% of maternity leave benefits (1=yes; 0=no)"
      ],
      "text/plain": [
       "<IPython.core.display.HTML object>"
      ]
     },
     "metadata": {},
     "output_type": "display_data"
    },
    {
     "data": {
      "text/html": [
       "<strong>PC 17:</strong> There is paid parental leave (1=yes; 0=no)"
      ],
      "text/plain": [
       "<IPython.core.display.HTML object>"
      ]
     },
     "metadata": {},
     "output_type": "display_data"
    },
    {
     "data": {
      "text/html": [
       "<strong>PC 18:</strong> A woman can sign a contract in the same way as a man (1=yes; 0=no)"
      ],
      "text/plain": [
       "<IPython.core.display.HTML object>"
      ]
     },
     "metadata": {},
     "output_type": "display_data"
    },
    {
     "data": {
      "text/html": [
       "<strong>PC 19:</strong> The mandatory retirement age for men and women is the same (1=yes; 0=no)"
      ],
      "text/plain": [
       "<IPython.core.display.HTML object>"
      ]
     },
     "metadata": {},
     "output_type": "display_data"
    },
    {
     "data": {
      "text/html": [
       "<strong>PC 20:</strong> A woman can work in an industrial job in the same way as a man (1=yes; 0=no)"
      ],
      "text/plain": [
       "<IPython.core.display.HTML object>"
      ]
     },
     "metadata": {},
     "output_type": "display_data"
    },
    {
     "data": {
      "text/html": [
       "<strong>PC 21:</strong> The government administers 100% of maternity leave benefits (1=yes; 0=no)"
      ],
      "text/plain": [
       "<IPython.core.display.HTML object>"
      ]
     },
     "metadata": {},
     "output_type": "display_data"
    },
    {
     "data": {
      "text/html": [
       "<strong>PC 22:</strong> There is paid parental leave (1=yes; 0=no)"
      ],
      "text/plain": [
       "<IPython.core.display.HTML object>"
      ]
     },
     "metadata": {},
     "output_type": "display_data"
    },
    {
     "data": {
      "text/html": [
       "<strong>PC 23:</strong> There is paid parental leave (1=yes; 0=no)"
      ],
      "text/plain": [
       "<IPython.core.display.HTML object>"
      ]
     },
     "metadata": {},
     "output_type": "display_data"
    },
    {
     "data": {
      "text/html": [
       "<strong>PC 24:</strong> Repeaters in Grade 3 of lower secondary general education, female (number)"
      ],
      "text/plain": [
       "<IPython.core.display.HTML object>"
      ]
     },
     "metadata": {},
     "output_type": "display_data"
    },
    {
     "data": {
      "text/html": [
       "<strong>PC 25:</strong> Theoretical duration of post-secondary non-tertiary education (years)"
      ],
      "text/plain": [
       "<IPython.core.display.HTML object>"
      ]
     },
     "metadata": {},
     "output_type": "display_data"
    }
   ],
   "source": [
    "# variance_percentage_to_explain = 0.2\n",
    "# variance_percentage_to_explain = 0.3\n",
    "# variance_percentage_to_explain = 0.5\n",
    "# variance_percentage_to_explain = 0.8\n",
    "# variance_percentage_to_explain = 0.85\n",
    "# variance_percentage_to_explain = 0.9\n",
    "variance_percentage_to_explain = 0.95\n",
    "\n",
    "top_feature_names_for_pc_loadings = get_top_feature_for_each_pc(variance_percentage_to_explain)\n",
    "\n",
    "# print(f\"\"\"Assuming you want to explain {variance_percentage_to_explain * 100} percent of the PC variation, \n",
    "# for maternal morality, the top feature names that explain this per principal component are:\\n\"\"\")\n",
    "\n",
    "display( HTML(f\"\"\"<h2>Assuming you want to explain {variance_percentage_to_explain * 100} percent of the PC variation, \n",
    "              the top feature names that explain this per principal component are:</h2>\\n\"\"\"))\n",
    "\n",
    "for i in range(0, len(top_feature_names_for_pc_loadings)):\n",
    "    #print(f\"for PC {i+1} the top explaining feature is: {top_feature_names_for_pc_loadings[i]}\")\n",
    "    # print(f\"PC {i+1}: {top_feature_names_for_pc_loadings[i]}\")\n",
    "    display( HTML( f\"<strong>PC {i+1}:</strong> {top_feature_names_for_pc_loadings[i]}\" ) )\n",
    "    # print(\"\\n\")"
   ]
  }
 ],
 "metadata": {
  "kernelspec": {
   "display_name": "env",
   "language": "python",
   "name": "python3"
  },
  "language_info": {
   "codemirror_mode": {
    "name": "ipython",
    "version": 3
   },
   "file_extension": ".py",
   "mimetype": "text/x-python",
   "name": "python",
   "nbconvert_exporter": "python",
   "pygments_lexer": "ipython3",
   "version": "3.10.12"
  },
  "orig_nbformat": 4
 },
 "nbformat": 4,
 "nbformat_minor": 2
}
