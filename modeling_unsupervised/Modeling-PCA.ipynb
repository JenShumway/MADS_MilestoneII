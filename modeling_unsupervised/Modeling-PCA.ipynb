{
 "cells": [
  {
   "cell_type": "code",
   "execution_count": 1,
   "metadata": {},
   "outputs": [],
   "source": [
    "# Imports\n",
    "import pandas as pd\n",
    "import numpy as np\n",
    "from sklearn.preprocessing import LabelEncoder\n",
    "from sklearn.preprocessing import StandardScaler\n",
    "from sklearn.linear_model import LinearRegression\n",
    "from sklearn.decomposition import PCA\n",
    "from sklearn.cluster import KMeans\n",
    "from sklearn.impute import SimpleImputer\n",
    "from sklearn.impute import KNNImputer\n",
    "from sklearn.metrics import silhouette_score\n",
    "import matplotlib.pyplot as plt\n",
    "\n",
    "import altair as alt\n",
    "from vega_datasets import data\n",
    "\n",
    "# import the world bank utility functions. It requires changing the path to import properly in Python\n",
    "import sys\n",
    "sys.path.append('../utility_functions')\n",
    "\n",
    "from world_bank_utility_functions import (get_world_bank_indicator_name_from_code, \n",
    "                                          get_world_bank_indicator_definition_from_code)\n",
    "\n",
    "# for displaying text with formatting later\n",
    "from IPython.core.display import display, HTML"
   ]
  },
  {
   "cell_type": "code",
   "execution_count": 2,
   "metadata": {},
   "outputs": [],
   "source": [
    "# Select data\n",
    "# datasets = [\"HEALTH_MERGED.csv\", \"Gender_WorldBankData.csv\"]\n",
    "datasets = [\"HEALTH_MERGED.csv\", \"../WorldBankDatasets/Gender_WorldBankData.csv\"]\n",
    "\n",
    "# merged_worldbank_data = pd.read_csv('../WorldBankDatasets/Cleaned/AllMerged_Threshold_85_n3_MMRTNE.csv')\n",
    "# merged_oecd_data = pd.read_csv('../OECD/Cleaned/HEALTH_MERGED_Threshold_80_n3.csv')\n",
    "\n",
    "OECD = False  # False for WB data\n",
    "\n",
    "if OECD:\n",
    "    df = pd.read_csv(datasets[0])\n",
    "    # df = merged_worldbank_data\n",
    "    mm_ind = \"MATIMATM\"\n",
    "else:\n",
    "    df = pd.read_csv(datasets[1])\n",
    "    # df = merged_oecd_data\n",
    "    mm_ind = \"SH.STA.MMRT\""
   ]
  },
  {
   "cell_type": "code",
   "execution_count": 3,
   "metadata": {},
   "outputs": [],
   "source": [
    "# merged_worldbank_data_1"
   ]
  },
  {
   "cell_type": "code",
   "execution_count": 4,
   "metadata": {},
   "outputs": [],
   "source": [
    "# merged_oecd_data"
   ]
  },
  {
   "cell_type": "code",
   "execution_count": 5,
   "metadata": {},
   "outputs": [],
   "source": [
    "# mapping world bank codes to definitions\n",
    "mapping_world_bank_to_names_and_definitions_df = pd.read_csv('../WorldBankDatasets/Cleaned/World_Bank_Indicator_Definition_Info.csv',\n",
    "                                                             delimiter='\\t')"
   ]
  },
  {
   "cell_type": "code",
   "execution_count": 6,
   "metadata": {},
   "outputs": [],
   "source": [
    "# mapping_world_bank_to_names_and_definitions_df"
   ]
  },
  {
   "cell_type": "markdown",
   "metadata": {},
   "source": [
    "## Data Preparation"
   ]
  },
  {
   "cell_type": "code",
   "execution_count": 7,
   "metadata": {},
   "outputs": [
    {
     "data": {
      "text/html": [
       "<div>\n",
       "<style scoped>\n",
       "    .dataframe tbody tr th:only-of-type {\n",
       "        vertical-align: middle;\n",
       "    }\n",
       "\n",
       "    .dataframe tbody tr th {\n",
       "        vertical-align: top;\n",
       "    }\n",
       "\n",
       "    .dataframe thead th {\n",
       "        text-align: right;\n",
       "    }\n",
       "</style>\n",
       "<table border=\"1\" class=\"dataframe\">\n",
       "  <thead>\n",
       "    <tr style=\"text-align: right;\">\n",
       "      <th></th>\n",
       "      <th>Country</th>\n",
       "      <th>Year</th>\n",
       "      <th>IC.FRM.FEMM.ZS</th>\n",
       "      <th>IC.FRM.FEMO.ZS</th>\n",
       "      <th>SE.ADT.1524.LT.FE.ZS</th>\n",
       "      <th>SE.ADT.1524.LT.FM.ZS</th>\n",
       "      <th>SE.ADT.1524.LT.MA.ZS</th>\n",
       "      <th>SE.ADT.LITR.FE.ZS</th>\n",
       "      <th>SE.ADT.LITR.MA.ZS</th>\n",
       "      <th>SE.ENR.PRIM.FM.ZS</th>\n",
       "      <th>...</th>\n",
       "      <th>SP.POP.AG03.FE.IN</th>\n",
       "      <th>SP.POP.AG03.MA.IN</th>\n",
       "      <th>SP.POP.AG04.FE.IN</th>\n",
       "      <th>SP.POP.AG04.MA.IN</th>\n",
       "      <th>SP.POP.AG05.FE.IN</th>\n",
       "      <th>SP.POP.AG05.MA.IN</th>\n",
       "      <th>SP.RUR.TOTL.FE.ZS</th>\n",
       "      <th>SP.RUR.TOTL.MA.ZS</th>\n",
       "      <th>SP.URB.TOTL.FE.ZS</th>\n",
       "      <th>SP.URB.TOTL.MA.ZS</th>\n",
       "    </tr>\n",
       "  </thead>\n",
       "  <tbody>\n",
       "    <tr>\n",
       "      <th>0</th>\n",
       "      <td>0</td>\n",
       "      <td>1960</td>\n",
       "      <td>NaN</td>\n",
       "      <td>NaN</td>\n",
       "      <td>NaN</td>\n",
       "      <td>NaN</td>\n",
       "      <td>NaN</td>\n",
       "      <td>NaN</td>\n",
       "      <td>NaN</td>\n",
       "      <td>NaN</td>\n",
       "      <td>...</td>\n",
       "      <td>104690.5</td>\n",
       "      <td>110189.0</td>\n",
       "      <td>102966.0</td>\n",
       "      <td>108418.0</td>\n",
       "      <td>101791.5</td>\n",
       "      <td>106544.5</td>\n",
       "      <td>NaN</td>\n",
       "      <td>NaN</td>\n",
       "      <td>NaN</td>\n",
       "      <td>NaN</td>\n",
       "    </tr>\n",
       "    <tr>\n",
       "      <th>1</th>\n",
       "      <td>0</td>\n",
       "      <td>1961</td>\n",
       "      <td>NaN</td>\n",
       "      <td>NaN</td>\n",
       "      <td>NaN</td>\n",
       "      <td>NaN</td>\n",
       "      <td>NaN</td>\n",
       "      <td>NaN</td>\n",
       "      <td>NaN</td>\n",
       "      <td>NaN</td>\n",
       "      <td>...</td>\n",
       "      <td>107486.0</td>\n",
       "      <td>112659.5</td>\n",
       "      <td>105340.0</td>\n",
       "      <td>110963.5</td>\n",
       "      <td>103665.5</td>\n",
       "      <td>109167.5</td>\n",
       "      <td>NaN</td>\n",
       "      <td>NaN</td>\n",
       "      <td>NaN</td>\n",
       "      <td>NaN</td>\n",
       "    </tr>\n",
       "    <tr>\n",
       "      <th>2</th>\n",
       "      <td>0</td>\n",
       "      <td>1962</td>\n",
       "      <td>NaN</td>\n",
       "      <td>NaN</td>\n",
       "      <td>NaN</td>\n",
       "      <td>NaN</td>\n",
       "      <td>NaN</td>\n",
       "      <td>NaN</td>\n",
       "      <td>NaN</td>\n",
       "      <td>NaN</td>\n",
       "      <td>...</td>\n",
       "      <td>109674.5</td>\n",
       "      <td>114825.5</td>\n",
       "      <td>108085.5</td>\n",
       "      <td>113334.5</td>\n",
       "      <td>105965.0</td>\n",
       "      <td>111613.0</td>\n",
       "      <td>NaN</td>\n",
       "      <td>NaN</td>\n",
       "      <td>NaN</td>\n",
       "      <td>NaN</td>\n",
       "    </tr>\n",
       "    <tr>\n",
       "      <th>3</th>\n",
       "      <td>0</td>\n",
       "      <td>1963</td>\n",
       "      <td>NaN</td>\n",
       "      <td>NaN</td>\n",
       "      <td>NaN</td>\n",
       "      <td>NaN</td>\n",
       "      <td>NaN</td>\n",
       "      <td>NaN</td>\n",
       "      <td>NaN</td>\n",
       "      <td>NaN</td>\n",
       "      <td>...</td>\n",
       "      <td>111849.5</td>\n",
       "      <td>117375.5</td>\n",
       "      <td>110400.5</td>\n",
       "      <td>115626.5</td>\n",
       "      <td>108786.5</td>\n",
       "      <td>114060.5</td>\n",
       "      <td>NaN</td>\n",
       "      <td>NaN</td>\n",
       "      <td>NaN</td>\n",
       "      <td>NaN</td>\n",
       "    </tr>\n",
       "    <tr>\n",
       "      <th>4</th>\n",
       "      <td>0</td>\n",
       "      <td>1964</td>\n",
       "      <td>NaN</td>\n",
       "      <td>NaN</td>\n",
       "      <td>NaN</td>\n",
       "      <td>NaN</td>\n",
       "      <td>NaN</td>\n",
       "      <td>NaN</td>\n",
       "      <td>NaN</td>\n",
       "      <td>NaN</td>\n",
       "      <td>...</td>\n",
       "      <td>114769.0</td>\n",
       "      <td>120416.0</td>\n",
       "      <td>112826.0</td>\n",
       "      <td>118451.5</td>\n",
       "      <td>111326.5</td>\n",
       "      <td>116627.5</td>\n",
       "      <td>NaN</td>\n",
       "      <td>NaN</td>\n",
       "      <td>NaN</td>\n",
       "      <td>NaN</td>\n",
       "    </tr>\n",
       "  </tbody>\n",
       "</table>\n",
       "<p>5 rows × 279 columns</p>\n",
       "</div>"
      ],
      "text/plain": [
       "   Country  Year  IC.FRM.FEMM.ZS  IC.FRM.FEMO.ZS  SE.ADT.1524.LT.FE.ZS  \\\n",
       "0        0  1960             NaN             NaN                   NaN   \n",
       "1        0  1961             NaN             NaN                   NaN   \n",
       "2        0  1962             NaN             NaN                   NaN   \n",
       "3        0  1963             NaN             NaN                   NaN   \n",
       "4        0  1964             NaN             NaN                   NaN   \n",
       "\n",
       "   SE.ADT.1524.LT.FM.ZS  SE.ADT.1524.LT.MA.ZS  SE.ADT.LITR.FE.ZS  \\\n",
       "0                   NaN                   NaN                NaN   \n",
       "1                   NaN                   NaN                NaN   \n",
       "2                   NaN                   NaN                NaN   \n",
       "3                   NaN                   NaN                NaN   \n",
       "4                   NaN                   NaN                NaN   \n",
       "\n",
       "   SE.ADT.LITR.MA.ZS  SE.ENR.PRIM.FM.ZS  ...  SP.POP.AG03.FE.IN  \\\n",
       "0                NaN                NaN  ...           104690.5   \n",
       "1                NaN                NaN  ...           107486.0   \n",
       "2                NaN                NaN  ...           109674.5   \n",
       "3                NaN                NaN  ...           111849.5   \n",
       "4                NaN                NaN  ...           114769.0   \n",
       "\n",
       "   SP.POP.AG03.MA.IN  SP.POP.AG04.FE.IN  SP.POP.AG04.MA.IN  SP.POP.AG05.FE.IN  \\\n",
       "0           110189.0           102966.0           108418.0           101791.5   \n",
       "1           112659.5           105340.0           110963.5           103665.5   \n",
       "2           114825.5           108085.5           113334.5           105965.0   \n",
       "3           117375.5           110400.5           115626.5           108786.5   \n",
       "4           120416.0           112826.0           118451.5           111326.5   \n",
       "\n",
       "   SP.POP.AG05.MA.IN  SP.RUR.TOTL.FE.ZS  SP.RUR.TOTL.MA.ZS  SP.URB.TOTL.FE.ZS  \\\n",
       "0           106544.5                NaN                NaN                NaN   \n",
       "1           109167.5                NaN                NaN                NaN   \n",
       "2           111613.0                NaN                NaN                NaN   \n",
       "3           114060.5                NaN                NaN                NaN   \n",
       "4           116627.5                NaN                NaN                NaN   \n",
       "\n",
       "   SP.URB.TOTL.MA.ZS  \n",
       "0                NaN  \n",
       "1                NaN  \n",
       "2                NaN  \n",
       "3                NaN  \n",
       "4                NaN  \n",
       "\n",
       "[5 rows x 279 columns]"
      ]
     },
     "execution_count": 7,
     "metadata": {},
     "output_type": "execute_result"
    }
   ],
   "source": [
    "# Encode the country\n",
    "\n",
    "# Create a LabelEncoder instance for each categorical column\n",
    "country_encoder = LabelEncoder()\n",
    "\n",
    "# Encode the categorical columns\n",
    "data_encoded = df.copy(deep=True)\n",
    "data_encoded[\"Country\"] = country_encoder.fit_transform(data_encoded[\"Country\"])\n",
    "\n",
    "data_encoded.dropna(axis=1, how=\"all\", inplace=True)  # Drop features with no data\n",
    "data_encoded.head()"
   ]
  },
  {
   "cell_type": "code",
   "execution_count": 8,
   "metadata": {},
   "outputs": [
    {
     "data": {
      "text/html": [
       "<div>\n",
       "<style scoped>\n",
       "    .dataframe tbody tr th:only-of-type {\n",
       "        vertical-align: middle;\n",
       "    }\n",
       "\n",
       "    .dataframe tbody tr th {\n",
       "        vertical-align: top;\n",
       "    }\n",
       "\n",
       "    .dataframe thead th {\n",
       "        text-align: right;\n",
       "    }\n",
       "</style>\n",
       "<table border=\"1\" class=\"dataframe\">\n",
       "  <thead>\n",
       "    <tr style=\"text-align: right;\">\n",
       "      <th></th>\n",
       "      <th>Country</th>\n",
       "      <th>Year</th>\n",
       "      <th>IC.FRM.FEMM.ZS</th>\n",
       "      <th>IC.FRM.FEMO.ZS</th>\n",
       "      <th>SE.ADT.1524.LT.FE.ZS</th>\n",
       "      <th>SE.ADT.1524.LT.FM.ZS</th>\n",
       "      <th>SE.ADT.1524.LT.MA.ZS</th>\n",
       "      <th>SE.ADT.LITR.FE.ZS</th>\n",
       "      <th>SE.ADT.LITR.MA.ZS</th>\n",
       "      <th>SE.ENR.PRIM.FM.ZS</th>\n",
       "      <th>...</th>\n",
       "      <th>SP.POP.AG03.FE.IN</th>\n",
       "      <th>SP.POP.AG03.MA.IN</th>\n",
       "      <th>SP.POP.AG04.FE.IN</th>\n",
       "      <th>SP.POP.AG04.MA.IN</th>\n",
       "      <th>SP.POP.AG05.FE.IN</th>\n",
       "      <th>SP.POP.AG05.MA.IN</th>\n",
       "      <th>SP.RUR.TOTL.FE.ZS</th>\n",
       "      <th>SP.RUR.TOTL.MA.ZS</th>\n",
       "      <th>SP.URB.TOTL.FE.ZS</th>\n",
       "      <th>SP.URB.TOTL.MA.ZS</th>\n",
       "    </tr>\n",
       "  </thead>\n",
       "  <tbody>\n",
       "    <tr>\n",
       "      <th>0</th>\n",
       "      <td>0</td>\n",
       "      <td>1960</td>\n",
       "      <td>0.917446</td>\n",
       "      <td>0.35814</td>\n",
       "      <td>-0.018794</td>\n",
       "      <td>0.221695</td>\n",
       "      <td>-0.467300</td>\n",
       "      <td>-0.495929</td>\n",
       "      <td>-0.878410</td>\n",
       "      <td>-0.399780</td>\n",
       "      <td>...</td>\n",
       "      <td>-0.281257</td>\n",
       "      <td>-0.280241</td>\n",
       "      <td>-0.287219</td>\n",
       "      <td>-0.285946</td>\n",
       "      <td>-0.291586</td>\n",
       "      <td>-0.292093</td>\n",
       "      <td>1.302065</td>\n",
       "      <td>1.381799</td>\n",
       "      <td>-1.403986</td>\n",
       "      <td>-1.272846</td>\n",
       "    </tr>\n",
       "    <tr>\n",
       "      <th>1</th>\n",
       "      <td>0</td>\n",
       "      <td>1961</td>\n",
       "      <td>0.760078</td>\n",
       "      <td>0.35814</td>\n",
       "      <td>-0.018794</td>\n",
       "      <td>0.221695</td>\n",
       "      <td>-0.467300</td>\n",
       "      <td>-0.495929</td>\n",
       "      <td>-0.878410</td>\n",
       "      <td>-0.058220</td>\n",
       "      <td>...</td>\n",
       "      <td>-0.272915</td>\n",
       "      <td>-0.273166</td>\n",
       "      <td>-0.280188</td>\n",
       "      <td>-0.278717</td>\n",
       "      <td>-0.286040</td>\n",
       "      <td>-0.284650</td>\n",
       "      <td>0.762504</td>\n",
       "      <td>0.888337</td>\n",
       "      <td>-0.843849</td>\n",
       "      <td>-0.800444</td>\n",
       "    </tr>\n",
       "    <tr>\n",
       "      <th>2</th>\n",
       "      <td>0</td>\n",
       "      <td>1962</td>\n",
       "      <td>0.917446</td>\n",
       "      <td>0.35814</td>\n",
       "      <td>0.093942</td>\n",
       "      <td>0.248867</td>\n",
       "      <td>-0.235419</td>\n",
       "      <td>-0.236195</td>\n",
       "      <td>-0.429548</td>\n",
       "      <td>-0.399780</td>\n",
       "      <td>...</td>\n",
       "      <td>-0.266384</td>\n",
       "      <td>-0.266964</td>\n",
       "      <td>-0.272057</td>\n",
       "      <td>-0.271984</td>\n",
       "      <td>-0.279236</td>\n",
       "      <td>-0.277712</td>\n",
       "      <td>1.302065</td>\n",
       "      <td>1.381799</td>\n",
       "      <td>-1.403986</td>\n",
       "      <td>-1.272846</td>\n",
       "    </tr>\n",
       "    <tr>\n",
       "      <th>3</th>\n",
       "      <td>0</td>\n",
       "      <td>1963</td>\n",
       "      <td>0.917446</td>\n",
       "      <td>0.35814</td>\n",
       "      <td>0.071869</td>\n",
       "      <td>0.236767</td>\n",
       "      <td>-0.267031</td>\n",
       "      <td>-0.218819</td>\n",
       "      <td>-0.424281</td>\n",
       "      <td>-0.434909</td>\n",
       "      <td>...</td>\n",
       "      <td>-0.259893</td>\n",
       "      <td>-0.259661</td>\n",
       "      <td>-0.265201</td>\n",
       "      <td>-0.265474</td>\n",
       "      <td>-0.270886</td>\n",
       "      <td>-0.270768</td>\n",
       "      <td>1.302065</td>\n",
       "      <td>1.381799</td>\n",
       "      <td>-1.403986</td>\n",
       "      <td>-1.272846</td>\n",
       "    </tr>\n",
       "    <tr>\n",
       "      <th>4</th>\n",
       "      <td>0</td>\n",
       "      <td>1964</td>\n",
       "      <td>0.917446</td>\n",
       "      <td>0.35814</td>\n",
       "      <td>0.071869</td>\n",
       "      <td>0.236767</td>\n",
       "      <td>-0.267031</td>\n",
       "      <td>-0.218819</td>\n",
       "      <td>-0.424281</td>\n",
       "      <td>-0.653799</td>\n",
       "      <td>...</td>\n",
       "      <td>-0.251181</td>\n",
       "      <td>-0.250954</td>\n",
       "      <td>-0.258018</td>\n",
       "      <td>-0.257452</td>\n",
       "      <td>-0.263369</td>\n",
       "      <td>-0.263484</td>\n",
       "      <td>0.417729</td>\n",
       "      <td>0.474173</td>\n",
       "      <td>-0.464110</td>\n",
       "      <td>-0.424922</td>\n",
       "    </tr>\n",
       "  </tbody>\n",
       "</table>\n",
       "<p>5 rows × 279 columns</p>\n",
       "</div>"
      ],
      "text/plain": [
       "   Country  Year  IC.FRM.FEMM.ZS  IC.FRM.FEMO.ZS  SE.ADT.1524.LT.FE.ZS  \\\n",
       "0        0  1960        0.917446         0.35814             -0.018794   \n",
       "1        0  1961        0.760078         0.35814             -0.018794   \n",
       "2        0  1962        0.917446         0.35814              0.093942   \n",
       "3        0  1963        0.917446         0.35814              0.071869   \n",
       "4        0  1964        0.917446         0.35814              0.071869   \n",
       "\n",
       "   SE.ADT.1524.LT.FM.ZS  SE.ADT.1524.LT.MA.ZS  SE.ADT.LITR.FE.ZS  \\\n",
       "0              0.221695             -0.467300          -0.495929   \n",
       "1              0.221695             -0.467300          -0.495929   \n",
       "2              0.248867             -0.235419          -0.236195   \n",
       "3              0.236767             -0.267031          -0.218819   \n",
       "4              0.236767             -0.267031          -0.218819   \n",
       "\n",
       "   SE.ADT.LITR.MA.ZS  SE.ENR.PRIM.FM.ZS  ...  SP.POP.AG03.FE.IN  \\\n",
       "0          -0.878410          -0.399780  ...          -0.281257   \n",
       "1          -0.878410          -0.058220  ...          -0.272915   \n",
       "2          -0.429548          -0.399780  ...          -0.266384   \n",
       "3          -0.424281          -0.434909  ...          -0.259893   \n",
       "4          -0.424281          -0.653799  ...          -0.251181   \n",
       "\n",
       "   SP.POP.AG03.MA.IN  SP.POP.AG04.FE.IN  SP.POP.AG04.MA.IN  SP.POP.AG05.FE.IN  \\\n",
       "0          -0.280241          -0.287219          -0.285946          -0.291586   \n",
       "1          -0.273166          -0.280188          -0.278717          -0.286040   \n",
       "2          -0.266964          -0.272057          -0.271984          -0.279236   \n",
       "3          -0.259661          -0.265201          -0.265474          -0.270886   \n",
       "4          -0.250954          -0.258018          -0.257452          -0.263369   \n",
       "\n",
       "   SP.POP.AG05.MA.IN  SP.RUR.TOTL.FE.ZS  SP.RUR.TOTL.MA.ZS  SP.URB.TOTL.FE.ZS  \\\n",
       "0          -0.292093           1.302065           1.381799          -1.403986   \n",
       "1          -0.284650           0.762504           0.888337          -0.843849   \n",
       "2          -0.277712           1.302065           1.381799          -1.403986   \n",
       "3          -0.270768           1.302065           1.381799          -1.403986   \n",
       "4          -0.263484           0.417729           0.474173          -0.464110   \n",
       "\n",
       "   SP.URB.TOTL.MA.ZS  \n",
       "0          -1.272846  \n",
       "1          -0.800444  \n",
       "2          -1.272846  \n",
       "3          -1.272846  \n",
       "4          -0.424922  \n",
       "\n",
       "[5 rows x 279 columns]"
      ]
     },
     "execution_count": 8,
     "metadata": {},
     "output_type": "execute_result"
    }
   ],
   "source": [
    "# Scale data\n",
    "scaler = StandardScaler()\n",
    "X = data_encoded.iloc[:, 2:]\n",
    "X = scaler.fit_transform(X)\n",
    "\n",
    "# Replace missing data using KNN imputation strategy\n",
    "imputer = KNNImputer()\n",
    "data_encoded.iloc[:, 2:] = imputer.fit_transform(X)\n",
    "\n",
    "data_encoded.head()"
   ]
  },
  {
   "cell_type": "code",
   "execution_count": 9,
   "metadata": {},
   "outputs": [],
   "source": [
    "# data_encoded"
   ]
  },
  {
   "cell_type": "code",
   "execution_count": 10,
   "metadata": {},
   "outputs": [
    {
     "name": "stderr",
     "output_type": "stream",
     "text": [
      "/usr/local/lib/python3.10/dist-packages/pandas/core/frame.py:4308: SettingWithCopyWarning: \n",
      "A value is trying to be set on a copy of a slice from a DataFrame\n",
      "\n",
      "See the caveats in the documentation: https://pandas.pydata.org/pandas-docs/stable/user_guide/indexing.html#returning-a-view-versus-a-copy\n",
      "  return super().drop(\n"
     ]
    },
    {
     "data": {
      "text/html": [
       "<div>\n",
       "<style scoped>\n",
       "    .dataframe tbody tr th:only-of-type {\n",
       "        vertical-align: middle;\n",
       "    }\n",
       "\n",
       "    .dataframe tbody tr th {\n",
       "        vertical-align: top;\n",
       "    }\n",
       "\n",
       "    .dataframe thead th {\n",
       "        text-align: right;\n",
       "    }\n",
       "</style>\n",
       "<table border=\"1\" class=\"dataframe\">\n",
       "  <thead>\n",
       "    <tr style=\"text-align: right;\">\n",
       "      <th></th>\n",
       "      <th>Country</th>\n",
       "      <th>IC.FRM.FEMM.ZS</th>\n",
       "      <th>IC.FRM.FEMO.ZS</th>\n",
       "      <th>SE.ADT.1524.LT.FE.ZS</th>\n",
       "      <th>SE.ADT.1524.LT.FM.ZS</th>\n",
       "      <th>SE.ADT.1524.LT.MA.ZS</th>\n",
       "      <th>SE.ADT.LITR.FE.ZS</th>\n",
       "      <th>SE.ADT.LITR.MA.ZS</th>\n",
       "      <th>SE.ENR.PRIM.FM.ZS</th>\n",
       "      <th>SE.ENR.PRSC.FM.ZS</th>\n",
       "      <th>...</th>\n",
       "      <th>SP.POP.AG03.FE.IN</th>\n",
       "      <th>SP.POP.AG03.MA.IN</th>\n",
       "      <th>SP.POP.AG04.FE.IN</th>\n",
       "      <th>SP.POP.AG04.MA.IN</th>\n",
       "      <th>SP.POP.AG05.FE.IN</th>\n",
       "      <th>SP.POP.AG05.MA.IN</th>\n",
       "      <th>SP.RUR.TOTL.FE.ZS</th>\n",
       "      <th>SP.RUR.TOTL.MA.ZS</th>\n",
       "      <th>SP.URB.TOTL.FE.ZS</th>\n",
       "      <th>SP.URB.TOTL.MA.ZS</th>\n",
       "    </tr>\n",
       "  </thead>\n",
       "  <tbody>\n",
       "    <tr>\n",
       "      <th>59</th>\n",
       "      <td>0</td>\n",
       "      <td>-0.567529</td>\n",
       "      <td>0.220428</td>\n",
       "      <td>0.383290</td>\n",
       "      <td>0.180865</td>\n",
       "      <td>0.634648</td>\n",
       "      <td>0.315825</td>\n",
       "      <td>0.307156</td>\n",
       "      <td>0.268735</td>\n",
       "      <td>-0.733992</td>\n",
       "      <td>...</td>\n",
       "      <td>-0.127875</td>\n",
       "      <td>-0.123006</td>\n",
       "      <td>-0.127727</td>\n",
       "      <td>-0.124009</td>\n",
       "      <td>-0.128578</td>\n",
       "      <td>-0.125363</td>\n",
       "      <td>-0.872747</td>\n",
       "      <td>-0.826109</td>\n",
       "      <td>0.821245</td>\n",
       "      <td>0.870066</td>\n",
       "    </tr>\n",
       "    <tr>\n",
       "      <th>138</th>\n",
       "      <td>1</td>\n",
       "      <td>-0.315741</td>\n",
       "      <td>0.229035</td>\n",
       "      <td>0.375379</td>\n",
       "      <td>0.152915</td>\n",
       "      <td>0.671240</td>\n",
       "      <td>0.694272</td>\n",
       "      <td>0.808270</td>\n",
       "      <td>0.029399</td>\n",
       "      <td>-0.368432</td>\n",
       "      <td>...</td>\n",
       "      <td>-0.465942</td>\n",
       "      <td>-0.465638</td>\n",
       "      <td>-0.467946</td>\n",
       "      <td>-0.466861</td>\n",
       "      <td>-0.470445</td>\n",
       "      <td>-0.469508</td>\n",
       "      <td>-0.154461</td>\n",
       "      <td>-0.119288</td>\n",
       "      <td>0.111745</td>\n",
       "      <td>0.159819</td>\n",
       "    </tr>\n",
       "    <tr>\n",
       "      <th>217</th>\n",
       "      <td>2</td>\n",
       "      <td>-0.284268</td>\n",
       "      <td>0.683485</td>\n",
       "      <td>0.394934</td>\n",
       "      <td>0.162680</td>\n",
       "      <td>0.701201</td>\n",
       "      <td>0.704264</td>\n",
       "      <td>0.813057</td>\n",
       "      <td>0.743756</td>\n",
       "      <td>1.759276</td>\n",
       "      <td>...</td>\n",
       "      <td>-0.411464</td>\n",
       "      <td>-0.412693</td>\n",
       "      <td>-0.408237</td>\n",
       "      <td>-0.408720</td>\n",
       "      <td>-0.406034</td>\n",
       "      <td>-0.406368</td>\n",
       "      <td>-1.542344</td>\n",
       "      <td>-1.573807</td>\n",
       "      <td>1.552887</td>\n",
       "      <td>1.550930</td>\n",
       "    </tr>\n",
       "    <tr>\n",
       "      <th>296</th>\n",
       "      <td>3</td>\n",
       "      <td>-0.567529</td>\n",
       "      <td>0.220428</td>\n",
       "      <td>0.357284</td>\n",
       "      <td>0.176337</td>\n",
       "      <td>0.577636</td>\n",
       "      <td>0.605652</td>\n",
       "      <td>0.460106</td>\n",
       "      <td>0.069154</td>\n",
       "      <td>0.077306</td>\n",
       "      <td>...</td>\n",
       "      <td>-0.021349</td>\n",
       "      <td>-0.018654</td>\n",
       "      <td>-0.017131</td>\n",
       "      <td>-0.015161</td>\n",
       "      <td>-0.012554</td>\n",
       "      <td>-0.011240</td>\n",
       "      <td>-0.507654</td>\n",
       "      <td>-0.436491</td>\n",
       "      <td>0.432639</td>\n",
       "      <td>0.506360</td>\n",
       "    </tr>\n",
       "    <tr>\n",
       "      <th>375</th>\n",
       "      <td>4</td>\n",
       "      <td>-0.753508</td>\n",
       "      <td>0.471752</td>\n",
       "      <td>0.378886</td>\n",
       "      <td>0.179238</td>\n",
       "      <td>0.626763</td>\n",
       "      <td>0.565066</td>\n",
       "      <td>0.469040</td>\n",
       "      <td>0.102823</td>\n",
       "      <td>-0.636264</td>\n",
       "      <td>...</td>\n",
       "      <td>-0.465132</td>\n",
       "      <td>-0.465419</td>\n",
       "      <td>-0.465582</td>\n",
       "      <td>-0.465081</td>\n",
       "      <td>-0.467623</td>\n",
       "      <td>-0.467498</td>\n",
       "      <td>-0.224992</td>\n",
       "      <td>0.088664</td>\n",
       "      <td>0.198326</td>\n",
       "      <td>-0.050256</td>\n",
       "    </tr>\n",
       "  </tbody>\n",
       "</table>\n",
       "<p>5 rows × 278 columns</p>\n",
       "</div>"
      ],
      "text/plain": [
       "     Country  IC.FRM.FEMM.ZS  IC.FRM.FEMO.ZS  SE.ADT.1524.LT.FE.ZS  \\\n",
       "59         0       -0.567529        0.220428              0.383290   \n",
       "138        1       -0.315741        0.229035              0.375379   \n",
       "217        2       -0.284268        0.683485              0.394934   \n",
       "296        3       -0.567529        0.220428              0.357284   \n",
       "375        4       -0.753508        0.471752              0.378886   \n",
       "\n",
       "     SE.ADT.1524.LT.FM.ZS  SE.ADT.1524.LT.MA.ZS  SE.ADT.LITR.FE.ZS  \\\n",
       "59               0.180865              0.634648           0.315825   \n",
       "138              0.152915              0.671240           0.694272   \n",
       "217              0.162680              0.701201           0.704264   \n",
       "296              0.176337              0.577636           0.605652   \n",
       "375              0.179238              0.626763           0.565066   \n",
       "\n",
       "     SE.ADT.LITR.MA.ZS  SE.ENR.PRIM.FM.ZS  SE.ENR.PRSC.FM.ZS  ...  \\\n",
       "59            0.307156           0.268735          -0.733992  ...   \n",
       "138           0.808270           0.029399          -0.368432  ...   \n",
       "217           0.813057           0.743756           1.759276  ...   \n",
       "296           0.460106           0.069154           0.077306  ...   \n",
       "375           0.469040           0.102823          -0.636264  ...   \n",
       "\n",
       "     SP.POP.AG03.FE.IN  SP.POP.AG03.MA.IN  SP.POP.AG04.FE.IN  \\\n",
       "59           -0.127875          -0.123006          -0.127727   \n",
       "138          -0.465942          -0.465638          -0.467946   \n",
       "217          -0.411464          -0.412693          -0.408237   \n",
       "296          -0.021349          -0.018654          -0.017131   \n",
       "375          -0.465132          -0.465419          -0.465582   \n",
       "\n",
       "     SP.POP.AG04.MA.IN  SP.POP.AG05.FE.IN  SP.POP.AG05.MA.IN  \\\n",
       "59           -0.124009          -0.128578          -0.125363   \n",
       "138          -0.466861          -0.470445          -0.469508   \n",
       "217          -0.408720          -0.406034          -0.406368   \n",
       "296          -0.015161          -0.012554          -0.011240   \n",
       "375          -0.465081          -0.467623          -0.467498   \n",
       "\n",
       "     SP.RUR.TOTL.FE.ZS  SP.RUR.TOTL.MA.ZS  SP.URB.TOTL.FE.ZS  \\\n",
       "59           -0.872747          -0.826109           0.821245   \n",
       "138          -0.154461          -0.119288           0.111745   \n",
       "217          -1.542344          -1.573807           1.552887   \n",
       "296          -0.507654          -0.436491           0.432639   \n",
       "375          -0.224992           0.088664           0.198326   \n",
       "\n",
       "     SP.URB.TOTL.MA.ZS  \n",
       "59            0.870066  \n",
       "138           0.159819  \n",
       "217           1.550930  \n",
       "296           0.506360  \n",
       "375          -0.050256  \n",
       "\n",
       "[5 rows x 278 columns]"
      ]
     },
     "execution_count": 10,
     "metadata": {},
     "output_type": "execute_result"
    }
   ],
   "source": [
    "# Select year\n",
    "data_2019 = data_encoded[data_encoded[\"Year\"] == 2019]\n",
    "data_2019.drop(\"Year\", axis=1, inplace=True)\n",
    "\n",
    "data_2019.head()"
   ]
  },
  {
   "cell_type": "code",
   "execution_count": 11,
   "metadata": {},
   "outputs": [],
   "source": [
    "# Pull out Maternal Mortality as the predictor variable\n",
    "X = data_2019.drop(columns=[mm_ind, 'Country'])\n",
    "# X = data_2019.drop(columns=[\"Country\"])\n",
    "y = data_2019[mm_ind]"
   ]
  },
  {
   "cell_type": "markdown",
   "metadata": {},
   "source": [
    "## Dimensionality Reduction"
   ]
  },
  {
   "cell_type": "markdown",
   "metadata": {},
   "source": [
    "# PCA"
   ]
  },
  {
   "cell_type": "code",
   "execution_count": 12,
   "metadata": {},
   "outputs": [
    {
     "name": "stdout",
     "output_type": "stream",
     "text": [
      "Number of PCs: 2\n",
      "Explained variation per PC: [0.21624636 0.13629907]\n",
      "Sum of explained variation: 0.35254542354131485\n"
     ]
    }
   ],
   "source": [
    "pca = PCA(n_components=2, random_state=42)\n",
    "pca.fit(X)\n",
    "\n",
    "print(\"Number of PCs: {}\".format(len(pca.explained_variance_ratio_)))\n",
    "print(\"Explained variation per PC: {}\".format(pca.explained_variance_ratio_))\n",
    "print(\"Sum of explained variation: {}\".format(pca.explained_variance_ratio_.sum()))"
   ]
  },
  {
   "cell_type": "markdown",
   "metadata": {},
   "source": [
    "# Now to show you detailed information of the features that contribute to the PC analysis"
   ]
  },
  {
   "cell_type": "code",
   "execution_count": 13,
   "metadata": {},
   "outputs": [],
   "source": [
    "def sort_loadings_for_princical_component(loadings, X=X):\n",
    "    feature_names = X.columns\n",
    "    \n",
    "    # make a series of the current pca loadings. Index is the column name (feature) and value is the loading value\n",
    "    feature_names_series = pd.Series(loadings, index=feature_names)\n",
    "\n",
    "    # take the absolute value of the series\n",
    "    feature_names_series_abs = feature_names_series.abs()\n",
    "\n",
    "    # finally sort descending. The higher the number, the higher the correlatino and explanatory value of the feature for the principal component\n",
    "    pca_component_explanatory_features_sorted = feature_names_series_abs.sort_values(ascending=False)\n",
    "    \n",
    "    return pca_component_explanatory_features_sorted"
   ]
  },
  {
   "cell_type": "code",
   "execution_count": 14,
   "metadata": {},
   "outputs": [],
   "source": [
    "def get_most_important_features_from_pca_loadings (pca_loadings, n_most_important_features_from_loading = 5, \n",
    "                                                   includeName = True, includeDefintion = True):\n",
    "    pca_loadings_explanations = {}\n",
    "\n",
    "    cur_loadings_sorted_with_n_most_important_features = sort_loadings_for_princical_component(pca_loadings).iloc[\n",
    "        0:n_most_important_features_from_loading]\n",
    "\n",
    "    feature_codes = []\n",
    "    feature_values = []\n",
    "\n",
    "    feature_names = []\n",
    "    feature_definitions = []\n",
    "\n",
    "    for feature_code_index, feature_value in zip (cur_loadings_sorted_with_n_most_important_features.index,\n",
    "                                                  cur_loadings_sorted_with_n_most_important_features.values):\n",
    "        feature_codes.append(feature_code_index)\n",
    "        feature_values.append(feature_value)\n",
    "\n",
    "        if (includeName):\n",
    "            cur_name = get_world_bank_indicator_name_from_code(feature_code_index)\n",
    "            # print('cur_name is', cur_name)\n",
    "            feature_names.append(cur_name)\n",
    "        \n",
    "        if (includeDefintion):\n",
    "            cur_definition  = get_world_bank_indicator_definition_from_code(feature_code_index)\n",
    "            feature_definitions.append(cur_definition)\n",
    "\n",
    "    # pca_loadings_explanations[f\"top_{n_most_important_features_from_loading}_most_important_feature_values\"] = feature_values\n",
    "    pca_loadings_explanations[\"most_important_features_values\"] = feature_values\n",
    "    pca_loadings_explanations[\"most_important_features_world_bank_codes\"] = feature_codes\n",
    "    pca_loadings_explanations[\"most_important_features_world_bank_names\"] = feature_names\n",
    "    pca_loadings_explanations[\"most_important_features_world_bank_definitions\"] = feature_definitions\n",
    "\n",
    "    return pca_loadings_explanations"
   ]
  },
  {
   "cell_type": "code",
   "execution_count": 15,
   "metadata": {},
   "outputs": [],
   "source": [
    "# this function will show the top most important components explaining the variance for each of the pcs \n",
    "# give a given percentage of variance to explain\n",
    "def pca_with_detailed_variance_and_components_info(percentage_of_variance_to_explain, X=X, n_most_important_features_from_loading=5, includeValues = False,\n",
    "                                                 includeDefinition=False):\n",
    "    pca = PCA(n_components=percentage_of_variance_to_explain, random_state=42)\n",
    "    pca.fit(X)\n",
    "    pca_loadings = pca.components_\n",
    "\n",
    "    loadings_information = []\n",
    "    for loading in pca_loadings:\n",
    "        cur_loading_features_info = get_most_important_features_from_pca_loadings(loading, n_most_important_features_from_loading)\n",
    "        loadings_information.append(cur_loading_features_info)\n",
    "    \n",
    "    num_principal_components = len(pca.explained_variance_ratio_)\n",
    "\n",
    "    print(f'in order to explain {percentage_of_variance_to_explain * 100} percentage of the variance with pca it requires')\n",
    "    print(f'{num_principal_components} principal components')\n",
    "    print(f'the most important feature names, for the top {n_most_important_features_from_loading} from each PC, are\\n')\n",
    "\n",
    "    # print the most important value names\n",
    "    most_important_feature_names_explaining_variance_with_pca = []\n",
    "    for i in range(0, len(loadings_information)):\n",
    "        # print('\\n')\n",
    "        print('---------')\n",
    "        print(f'For Principal Component {i+1}, the most important features names are:\\n')\n",
    "        # print('\\n')\n",
    "        cur_loadings_info = loadings_information[i]\n",
    "\n",
    "        cur_loadings_names = cur_loadings_info['most_important_features_world_bank_names']\n",
    "        cur_loadings_values = cur_loadings_info['most_important_features_values']\n",
    "        cur_loadings_codes = cur_loadings_info['most_important_features_world_bank_codes']\n",
    "        cur_loadings_definitions = cur_loadings_info['most_important_features_world_bank_definitions']\n",
    "\n",
    "        for code, value, name, definition in zip(cur_loadings_codes, cur_loadings_values, cur_loadings_names, cur_loadings_definitions):\n",
    "            print(name)\n",
    "            \n",
    "            # uncomment for testing to debug\n",
    "            # print(code)\n",
    "\n",
    "            if (includeValues):\n",
    "                print(f\"with value {value}\")\n",
    "\n",
    "            if (includeDefinition):\n",
    "                print(definition)\n",
    "        print('\\n')"
   ]
  },
  {
   "cell_type": "markdown",
   "metadata": {},
   "source": [
    "## Modify variance_percentage_to_explain below for detailed information based on what percentage of the variance in principal components you want to explain maternal mortality. (see section below for just the top feature per PC)"
   ]
  },
  {
   "cell_type": "code",
   "execution_count": 16,
   "metadata": {},
   "outputs": [
    {
     "name": "stdout",
     "output_type": "stream",
     "text": [
      "in order to explain 90.0 percentage of the variance with pca it requires\n",
      "19 principal components\n",
      "the most important feature names, for the top 5 from each PC, are\n",
      "\n",
      "---------\n",
      "For Principal Component 1, the most important features names are:\n",
      "\n",
      "Own-account workers, female (% of female employment) (modeled ILO estimate)\n",
      "with value 0.14395529007681285\n",
      "Educational attainment, at least completed post-secondary, population 25+, female (%) (cumulative)\n",
      "with value 0.14393792936445035\n",
      "Educational attainment, at least completed post-secondary, population 25+, total (%) (cumulative)\n",
      "with value 0.14136541193391355\n",
      "Prevalence of HIV, male (% ages 15-24)\n",
      "with value 0.1407407639630906\n",
      "Educational attainment, at least completed post-secondary, population 25+, male (%) (cumulative)\n",
      "with value 0.13136715075942498\n",
      "\n",
      "\n",
      "---------\n",
      "For Principal Component 2, the most important features names are:\n",
      "\n",
      "Labor force, female\n",
      "with value 0.2030690440719003\n",
      "Age population, age 05, male, interpolated\n",
      "with value 0.1795266081899969\n",
      "Age population, age 05, female, interpolated\n",
      "with value 0.17915169694680969\n",
      "Age population, age 04, male, interpolated\n",
      "with value 0.17908684420919746\n",
      "Age population, age 04, female, interpolated\n",
      "with value 0.17892168559371843\n",
      "\n",
      "\n",
      "---------\n",
      "For Principal Component 3, the most important features names are:\n",
      "\n",
      "Employment in industry, male (% of male employment) (modeled ILO estimate)\n",
      "with value 0.19766155426140206\n",
      "Time-related underemployment, female (% of employment)\n",
      "with value 0.1869799658470955\n",
      "Time-related underemployment, male (% of employment)\n",
      "with value 0.16636562936919724\n",
      "Proportion of women in ministerial level positions (%)\n",
      "with value 0.13683484448881322\n",
      "Prevalence of HIV, male (% ages 15-24)\n",
      "with value 0.13063732370723805\n",
      "\n",
      "\n",
      "---------\n",
      "For Principal Component 4, the most important features names are:\n",
      "\n",
      "Length of paid parental leave for father (calendar days)\n",
      "with value 0.4459832953703712\n",
      "Length of paid parental leave for mother (calendar days)\n",
      "with value 0.4384085579959396\n",
      "Prevalence of obesity, female (% of female population ages 18+)\n",
      "with value 0.19013091728128492\n",
      "Prevalence of obesity, male (% of male population ages 18+)\n",
      "with value 0.18328041566111233\n",
      "Lifetime risk of maternal death (1 in: rate varies by country)\n",
      "with value 0.1720927252527323\n",
      "\n",
      "\n",
      "---------\n",
      "For Principal Component 5, the most important features names are:\n",
      "\n",
      "Employment to population ratio, 15+, male (%) (modeled ILO estimate)\n",
      "with value 0.2816019203192225\n",
      "Labor force participation rate, male (% of male population ages 15+) (modeled ILO estimate)\n",
      "with value 0.26789671379491153\n",
      "Unemployment, youth male (% of male labor force ages 15-24) (modeled ILO estimate)\n",
      "with value 0.21637587377028364\n",
      "Prevalence of current tobacco use, females (% of female adults)\n",
      "with value 0.19431388824141266\n",
      "Unemployment, female (% of female labor force) (modeled ILO estimate)\n",
      "with value 0.18412656072301345\n",
      "\n",
      "\n",
      "---------\n",
      "For Principal Component 6, the most important features names are:\n",
      "\n",
      "Female migrants (% of international migrant stock)\n",
      "with value 0.31655974342062243\n",
      "Incidence of HIV, ages 15-49, female (per 1,000 uninfected female population ages 15-49)\n",
      "with value 0.28739234993405277\n",
      "Incidence of HIV, ages 15-49, male (per 1,000 uninfected male population ages 15-49)\n",
      "with value 0.22581593876577138\n",
      "Incidence of HIV, ages 15-24, female (per 1,000 uninfected female population ages 15-24)\n",
      "with value 0.20644440981431558\n",
      "Proportion of women in ministerial level positions (%)\n",
      "with value 0.17698558260719513\n",
      "\n",
      "\n",
      "---------\n",
      "For Principal Component 7, the most important features names are:\n",
      "\n",
      "Proportion of women in ministerial level positions (%)\n",
      "with value 0.26273145654427166\n",
      "School enrollment, tertiary, male (% gross)\n",
      "with value 0.24773692150688675\n",
      "Length of paid parental leave for mother (calendar days)\n",
      "with value 0.21110947698829113\n",
      "Length of paid parental leave for father (calendar days)\n",
      "with value 0.19264296107135337\n",
      "Proportion of seats held by women in national parliaments (%)\n",
      "with value 0.18783264609348957\n",
      "\n",
      "\n",
      "---------\n",
      "For Principal Component 8, the most important features names are:\n",
      "\n",
      "Educational attainment, Doctoral or equivalent, population 25+, female (%) (cumulative)\n",
      "with value 0.40632535054811547\n",
      "Educational attainment, Doctoral or equivalent, population 25+, total (%) (cumulative)\n",
      "with value 0.3559010036968453\n",
      "Educational attainment, Doctoral or equivalent, population 25+, male (%) (cumulative)\n",
      "with value 0.3000112395809032\n",
      "School enrollment, tertiary, male (% gross)\n",
      "with value 0.19540332864566806\n",
      "Women's share of population ages 15+ living with HIV (%)\n",
      "with value 0.18598551400051455\n",
      "\n",
      "\n",
      "---------\n",
      "For Principal Component 9, the most important features names are:\n",
      "\n",
      "Length of paid paternity leave (calendar days)\n",
      "with value 0.5599026004660091\n",
      "Prevalence of current tobacco use, females (% of female adults)\n",
      "with value 0.1906016581434114\n",
      "Educational attainment, at least Master's or equivalent, population 25+, female (%) (cumulative)\n",
      "with value 0.1729186221129765\n",
      "Part time employment, female (% of total female employment)\n",
      "with value 0.1722029899847906\n",
      "Prevalence of obesity, male (% of male population ages 18+)\n",
      "with value 0.1542992280744223\n",
      "\n",
      "\n",
      "---------\n",
      "For Principal Component 10, the most important features names are:\n",
      "\n",
      "Prevalence of HIV, male (% ages 15-24)\n",
      "with value 0.22127669017569582\n",
      "School enrollment, primary, female (% gross)\n",
      "with value 0.21641854998847967\n",
      "There is paid parental leave (1=yes; 0=no)\n",
      "with value 0.200863304723316\n",
      "Ratio of female to male youth unemployment rate (%) (national estimate)\n",
      "with value 0.20020867188496652\n",
      "Men and women have equal ownership rights to immovable property (1=yes; 0=no)\n",
      "with value 0.19575829320885352\n",
      "\n",
      "\n",
      "---------\n",
      "For Principal Component 11, the most important features names are:\n",
      "\n",
      "Lifetime risk of maternal death (1 in: rate varies by country)\n",
      "with value 0.32927989505270405\n",
      "Women's share of population ages 15+ living with HIV (%)\n",
      "with value 0.22498145541687614\n",
      "Educational attainment, Doctoral or equivalent, population 25+, female (%) (cumulative)\n",
      "with value 0.1859128153276426\n",
      "Employers, female (% of female employment) (modeled ILO estimate)\n",
      "with value 0.17577367454874182\n",
      "Educational attainment, Doctoral or equivalent, population 25+, total (%) (cumulative)\n",
      "with value 0.17452845454822558\n",
      "\n",
      "\n",
      "---------\n",
      "For Principal Component 12, the most important features names are:\n",
      "\n",
      "Employers, female (% of female employment) (modeled ILO estimate)\n",
      "with value 0.2527739496661647\n",
      "Employers, male (% of male employment) (modeled ILO estimate)\n",
      "with value 0.19180427169341271\n",
      "Length of paid paternity leave (calendar days)\n",
      "with value 0.18740183203478755\n",
      "School enrollment, tertiary, male (% gross)\n",
      "with value 0.1641954837607289\n",
      "A woman has the same rights to remarry as a man (1=yes; 0=no)\n",
      "with value 0.15990963990732976\n",
      "\n",
      "\n",
      "---------\n",
      "For Principal Component 13, the most important features names are:\n",
      "\n",
      "Women's share of population ages 15+ living with HIV (%)\n",
      "with value 0.23724731635420573\n",
      "Lifetime risk of maternal death (1 in: rate varies by country)\n",
      "with value 0.20752191249061203\n",
      "Own-account workers, male (% of male employment) (modeled ILO estimate)\n",
      "with value 0.19653383135050037\n",
      "Own-account workers, female (% of female employment) (modeled ILO estimate)\n",
      "with value 0.19432591031189697\n",
      "Educational attainment, at least Master's or equivalent, population 25+, male (%) (cumulative)\n",
      "with value 0.17005034855472598\n",
      "\n",
      "\n",
      "---------\n",
      "For Principal Component 14, the most important features names are:\n",
      "\n",
      "Length of paid shared parental leave (calendar days)\n",
      "with value 0.2786457644020475\n",
      "Proportion of seats held by women in national parliaments (%)\n",
      "with value 0.2159644799665135\n",
      "There is paid parental leave (1=yes; 0=no)\n",
      "with value 0.18690759550724254\n",
      "Employment in industry, male (% of male employment) (modeled ILO estimate)\n",
      "with value 0.1705850029243175\n",
      "Lifetime risk of maternal death (1 in: rate varies by country)\n",
      "with value 0.17002749640359943\n",
      "\n",
      "\n",
      "---------\n",
      "For Principal Component 15, the most important features names are:\n",
      "\n",
      "Net intake rate in grade 1, female (% of official school-age population)\n",
      "with value 0.25934924302918566\n",
      "Net intake rate in grade 1, male (% of official school-age population)\n",
      "with value 0.24714179960930605\n",
      "School enrollment, primary and secondary (gross), gender parity index (GPI)\n",
      "with value 0.22586822663096534\n",
      "Lifetime risk of maternal death (1 in: rate varies by country)\n",
      "with value 0.21438513030674342\n",
      "School enrollment, secondary, female (% gross)\n",
      "with value 0.2060156416845376\n",
      "\n",
      "\n",
      "---------\n",
      "For Principal Component 16, the most important features names are:\n",
      "\n",
      "Length of paid paternity leave (calendar days)\n",
      "with value 0.38351396328648624\n",
      "Female migrants (% of international migrant stock)\n",
      "with value 0.2364958685086641\n",
      "Lifetime risk of maternal death (1 in: rate varies by country)\n",
      "with value 0.22912833044946437\n",
      "The mandatory retirement age for men and women is the same (1=yes; 0=no)\n",
      "with value 0.221579758295195\n",
      "Length of paid maternity leave (calendar days)\n",
      "with value 0.21859170003544356\n",
      "\n",
      "\n",
      "---------\n",
      "For Principal Component 17, the most important features names are:\n",
      "\n",
      "Lifetime risk of maternal death (1 in: rate varies by country)\n",
      "with value 0.3033883541240365\n",
      "Employers, female (% of female employment) (modeled ILO estimate)\n",
      "with value 0.2812616443254947\n",
      "School enrollment, primary, female (% gross)\n",
      "with value 0.2435332921866636\n",
      "Employers, male (% of male employment) (modeled ILO estimate)\n",
      "with value 0.21202203114071863\n",
      "School enrollment, primary, male (% gross)\n",
      "with value 0.20451554645967943\n",
      "\n",
      "\n",
      "---------\n",
      "For Principal Component 18, the most important features names are:\n",
      "\n",
      "There is paid parental leave (1=yes; 0=no)\n",
      "with value 0.29229760994751575\n",
      "Ratio of female to male youth unemployment rate (% ages 15-24) (modeled ILO estimate)\n",
      "with value 0.24893960231740217\n",
      "Ratio of female to male youth unemployment rate (%) (national estimate)\n",
      "with value 0.2452688850040816\n",
      "A woman can work in a job deemed dangerous in the same way as a man (1=yes; 0=no)\n",
      "with value 0.19528428871809905\n",
      "Maternal leave benefits (% of wages paid in covered period)\n",
      "with value 0.19323469601966434\n",
      "\n",
      "\n",
      "---------\n",
      "For Principal Component 19, the most important features names are:\n",
      "\n",
      "The government administers 100% of maternity leave benefits (1=yes; 0=no)\n",
      "with value 0.2310828843834929\n",
      "Length of paid maternity leave (calendar days)\n",
      "with value 0.20666106365635542\n",
      "There is paid parental leave (1=yes; 0=no)\n",
      "with value 0.18781686631265174\n",
      "Employers, male (% of male employment) (modeled ILO estimate)\n",
      "with value 0.1829664188230677\n",
      "Prevalence of obesity, female (% of female population ages 18+)\n",
      "with value 0.17719571059450429\n",
      "\n",
      "\n"
     ]
    }
   ],
   "source": [
    "# pca_with_detailed_variance_and_components_info(0.8)\n",
    "# pca_with_detailed_variance_and_components_info(0.9, includeValues=True)\n",
    "num_top_features_per_pc = 5\n",
    "pca_with_detailed_variance_and_components_info(0.9, includeValues=True, \n",
    "                                               n_most_important_features_from_loading = num_top_features_per_pc)"
   ]
  },
  {
   "cell_type": "code",
   "execution_count": 17,
   "metadata": {},
   "outputs": [],
   "source": [
    "# returns a list of the top feature name for each principal component\n",
    "def get_top_feature_for_each_pc(percentage_of_variance_to_explain, X=X, n_most_important_features_from_loading=5):\n",
    "    pca = PCA(n_components=percentage_of_variance_to_explain, random_state=42)\n",
    "    pca.fit(X)\n",
    "    pca_loadings = pca.components_\n",
    "\n",
    "    loadings_information = []\n",
    "    for loading in pca_loadings:\n",
    "        cur_loading_features_info = get_most_important_features_from_pca_loadings(loading, n_most_important_features_from_loading)\n",
    "        loadings_information.append(cur_loading_features_info)\n",
    "    \n",
    "    top_feature_name_per_pc = []\n",
    "    for i in range(0, len(loadings_information)):\n",
    "        cur_loadings_info = loadings_information[i]\n",
    "\n",
    "        cur_features_names = cur_loadings_info['most_important_features_world_bank_names']\n",
    "        cur_top_feature = cur_features_names[0]\n",
    "        top_feature_name_per_pc.append(cur_top_feature)\n",
    "        # cur_loadings_values = cur_loadings_info['most_important_features_values']\n",
    "        # cur_loadings_codes = cur_loadings_info['most_important_features_world_bank_codes']\n",
    "        # cur_loadings_definitions = cur_loadings_info['most_important_features_world_bank_definitions']\n",
    "    \n",
    "    return top_feature_name_per_pc"
   ]
  },
  {
   "cell_type": "markdown",
   "metadata": {},
   "source": [
    "## Modify variance_percentage_to_explain below based on what percentage of the variance in principal components you want to explain maternal mortality. You may find the results interesting!"
   ]
  },
  {
   "cell_type": "code",
   "execution_count": 18,
   "metadata": {},
   "outputs": [],
   "source": [
    "# below starts to use html formatting"
   ]
  },
  {
   "cell_type": "code",
   "execution_count": 19,
   "metadata": {},
   "outputs": [
    {
     "data": {
      "text/html": [
       "<h2>Assuming you want to explain 95.0 percent of the PC variation, \n",
       "for maternal morality, the top feature names that explain this per principal component are:</h2>\n"
      ],
      "text/plain": [
       "<IPython.core.display.HTML object>"
      ]
     },
     "metadata": {},
     "output_type": "display_data"
    },
    {
     "data": {
      "text/html": [
       "<strong>PC 1:</strong> Own-account workers, female (% of female employment) (modeled ILO estimate)"
      ],
      "text/plain": [
       "<IPython.core.display.HTML object>"
      ]
     },
     "metadata": {},
     "output_type": "display_data"
    },
    {
     "data": {
      "text/html": [
       "<strong>PC 2:</strong> Labor force, female"
      ],
      "text/plain": [
       "<IPython.core.display.HTML object>"
      ]
     },
     "metadata": {},
     "output_type": "display_data"
    },
    {
     "data": {
      "text/html": [
       "<strong>PC 3:</strong> Employment in industry, male (% of male employment) (modeled ILO estimate)"
      ],
      "text/plain": [
       "<IPython.core.display.HTML object>"
      ]
     },
     "metadata": {},
     "output_type": "display_data"
    },
    {
     "data": {
      "text/html": [
       "<strong>PC 4:</strong> Length of paid parental leave for father (calendar days)"
      ],
      "text/plain": [
       "<IPython.core.display.HTML object>"
      ]
     },
     "metadata": {},
     "output_type": "display_data"
    },
    {
     "data": {
      "text/html": [
       "<strong>PC 5:</strong> Employment to population ratio, 15+, male (%) (modeled ILO estimate)"
      ],
      "text/plain": [
       "<IPython.core.display.HTML object>"
      ]
     },
     "metadata": {},
     "output_type": "display_data"
    },
    {
     "data": {
      "text/html": [
       "<strong>PC 6:</strong> Female migrants (% of international migrant stock)"
      ],
      "text/plain": [
       "<IPython.core.display.HTML object>"
      ]
     },
     "metadata": {},
     "output_type": "display_data"
    },
    {
     "data": {
      "text/html": [
       "<strong>PC 7:</strong> Proportion of women in ministerial level positions (%)"
      ],
      "text/plain": [
       "<IPython.core.display.HTML object>"
      ]
     },
     "metadata": {},
     "output_type": "display_data"
    },
    {
     "data": {
      "text/html": [
       "<strong>PC 8:</strong> Educational attainment, Doctoral or equivalent, population 25+, female (%) (cumulative)"
      ],
      "text/plain": [
       "<IPython.core.display.HTML object>"
      ]
     },
     "metadata": {},
     "output_type": "display_data"
    },
    {
     "data": {
      "text/html": [
       "<strong>PC 9:</strong> Length of paid paternity leave (calendar days)"
      ],
      "text/plain": [
       "<IPython.core.display.HTML object>"
      ]
     },
     "metadata": {},
     "output_type": "display_data"
    },
    {
     "data": {
      "text/html": [
       "<strong>PC 10:</strong> Prevalence of HIV, male (% ages 15-24)"
      ],
      "text/plain": [
       "<IPython.core.display.HTML object>"
      ]
     },
     "metadata": {},
     "output_type": "display_data"
    },
    {
     "data": {
      "text/html": [
       "<strong>PC 11:</strong> Lifetime risk of maternal death (1 in: rate varies by country)"
      ],
      "text/plain": [
       "<IPython.core.display.HTML object>"
      ]
     },
     "metadata": {},
     "output_type": "display_data"
    },
    {
     "data": {
      "text/html": [
       "<strong>PC 12:</strong> Employers, female (% of female employment) (modeled ILO estimate)"
      ],
      "text/plain": [
       "<IPython.core.display.HTML object>"
      ]
     },
     "metadata": {},
     "output_type": "display_data"
    },
    {
     "data": {
      "text/html": [
       "<strong>PC 13:</strong> Women's share of population ages 15+ living with HIV (%)"
      ],
      "text/plain": [
       "<IPython.core.display.HTML object>"
      ]
     },
     "metadata": {},
     "output_type": "display_data"
    },
    {
     "data": {
      "text/html": [
       "<strong>PC 14:</strong> Length of paid shared parental leave (calendar days)"
      ],
      "text/plain": [
       "<IPython.core.display.HTML object>"
      ]
     },
     "metadata": {},
     "output_type": "display_data"
    },
    {
     "data": {
      "text/html": [
       "<strong>PC 15:</strong> Net intake rate in grade 1, female (% of official school-age population)"
      ],
      "text/plain": [
       "<IPython.core.display.HTML object>"
      ]
     },
     "metadata": {},
     "output_type": "display_data"
    },
    {
     "data": {
      "text/html": [
       "<strong>PC 16:</strong> Length of paid paternity leave (calendar days)"
      ],
      "text/plain": [
       "<IPython.core.display.HTML object>"
      ]
     },
     "metadata": {},
     "output_type": "display_data"
    },
    {
     "data": {
      "text/html": [
       "<strong>PC 17:</strong> Lifetime risk of maternal death (1 in: rate varies by country)"
      ],
      "text/plain": [
       "<IPython.core.display.HTML object>"
      ]
     },
     "metadata": {},
     "output_type": "display_data"
    },
    {
     "data": {
      "text/html": [
       "<strong>PC 18:</strong> There is paid parental leave (1=yes; 0=no)"
      ],
      "text/plain": [
       "<IPython.core.display.HTML object>"
      ]
     },
     "metadata": {},
     "output_type": "display_data"
    },
    {
     "data": {
      "text/html": [
       "<strong>PC 19:</strong> The government administers 100% of maternity leave benefits (1=yes; 0=no)"
      ],
      "text/plain": [
       "<IPython.core.display.HTML object>"
      ]
     },
     "metadata": {},
     "output_type": "display_data"
    },
    {
     "data": {
      "text/html": [
       "<strong>PC 20:</strong> Lifetime risk of maternal death (1 in: rate varies by country)"
      ],
      "text/plain": [
       "<IPython.core.display.HTML object>"
      ]
     },
     "metadata": {},
     "output_type": "display_data"
    },
    {
     "data": {
      "text/html": [
       "<strong>PC 21:</strong> Maternal leave benefits (% of wages paid in covered period)"
      ],
      "text/plain": [
       "<IPython.core.display.HTML object>"
      ]
     },
     "metadata": {},
     "output_type": "display_data"
    },
    {
     "data": {
      "text/html": [
       "<strong>PC 22:</strong> Paid leave is available to fathers (1=yes; 0=no)"
      ],
      "text/plain": [
       "<IPython.core.display.HTML object>"
      ]
     },
     "metadata": {},
     "output_type": "display_data"
    },
    {
     "data": {
      "text/html": [
       "<strong>PC 23:</strong> The government administers 100% of maternity leave benefits (1=yes; 0=no)"
      ],
      "text/plain": [
       "<IPython.core.display.HTML object>"
      ]
     },
     "metadata": {},
     "output_type": "display_data"
    },
    {
     "data": {
      "text/html": [
       "<strong>PC 24:</strong> Maternal leave benefits (% of wages paid in covered period)"
      ],
      "text/plain": [
       "<IPython.core.display.HTML object>"
      ]
     },
     "metadata": {},
     "output_type": "display_data"
    }
   ],
   "source": [
    "# variance_percentage_to_explain = 0.2\n",
    "# variance_percentage_to_explain = 0.3\n",
    "# variance_percentage_to_explain = 0.5\n",
    "# variance_percentage_to_explain = 0.8\n",
    "# variance_percentage_to_explain = 0.85\n",
    "# variance_percentage_to_explain = 0.9\n",
    "variance_percentage_to_explain = 0.95\n",
    "\n",
    "top_feature_names_for_pc_loadings = get_top_feature_for_each_pc(variance_percentage_to_explain)\n",
    "\n",
    "# print(f\"\"\"Assuming you want to explain {variance_percentage_to_explain * 100} percent of the PC variation, \n",
    "# for maternal morality, the top feature names that explain this per principal component are:\\n\"\"\")\n",
    "\n",
    "display( HTML(f\"\"\"<h2>Assuming you want to explain {variance_percentage_to_explain * 100} percent of the PC variation, \n",
    "for maternal morality, the top feature names that explain this per principal component are:</h2>\\n\"\"\"))\n",
    "\n",
    "for i in range(0, len(top_feature_names_for_pc_loadings)):\n",
    "    #print(f\"for PC {i+1} the top explaining feature is: {top_feature_names_for_pc_loadings[i]}\")\n",
    "    # print(f\"PC {i+1}: {top_feature_names_for_pc_loadings[i]}\")\n",
    "    display( HTML( f\"<strong>PC {i+1}:</strong> {top_feature_names_for_pc_loadings[i]}\" ) )\n",
    "    # print(\"\\n\")"
   ]
  },
  {
   "cell_type": "code",
   "execution_count": 20,
   "metadata": {},
   "outputs": [
    {
     "name": "stdout",
     "output_type": "stream",
     "text": [
      "Number of PCs: 19\n",
      "Explained variation per PC: [0.21624636 0.13629907 0.11327478 0.080958   0.05217803 0.04427453\n",
      " 0.03813262 0.03200316 0.02801746 0.02415366 0.02113282 0.01930922\n",
      " 0.01836579 0.01637717 0.01557947 0.01473098 0.01406988 0.01159393\n",
      " 0.01082633]\n",
      "Sum of explained variation: 0.9075232744271639\n"
     ]
    }
   ],
   "source": [
    "# Tune number of components to explain majority of variance\n",
    "evs = 0\n",
    "n = 2\n",
    "while evs < 0.9:\n",
    "    pca = PCA(n_components=n, random_state=42)\n",
    "    pca.fit(X)\n",
    "\n",
    "    evs = pca.explained_variance_ratio_.sum()\n",
    "    n += 1\n",
    "\n",
    "print(\"Number of PCs: {}\".format(len(pca.explained_variance_ratio_)))\n",
    "print(\"Explained variation per PC: {}\".format(pca.explained_variance_ratio_))\n",
    "print(\"Sum of explained variation: {}\".format(pca.explained_variance_ratio_.sum()))\n",
    "\n",
    "# Features do not appear to capture a high amount of variation, for both datasets\n",
    "# may need to reexamine work or look into other methods of DR"
   ]
  },
  {
   "cell_type": "code",
   "execution_count": null,
   "metadata": {},
   "outputs": [],
   "source": []
  },
  {
   "cell_type": "markdown",
   "metadata": {},
   "source": [
    "## K-Means Clustering"
   ]
  },
  {
   "cell_type": "code",
   "execution_count": 21,
   "metadata": {},
   "outputs": [
    {
     "data": {
      "image/png": "[encoded data removed]",
      "text/plain": [
       "<Figure size 432x288 with 1 Axes>"
      ]
     },
     "metadata": {
      "needs_background": "light"
     },
     "output_type": "display_data"
    }
   ],
   "source": [
    "# Select number of clusters using \"elbow\" heuristic\n",
    "# Evaluate using sklearn's shillouette score metric / higher is better\n",
    "score = []\n",
    "for k in range(2, 11):\n",
    "    kmeans = KMeans(n_clusters=k, n_init=\"auto\", random_state=42)\n",
    "    kmeans.fit(X)\n",
    "    score.append(silhouette_score(X, kmeans.labels_))\n",
    "\n",
    "plt.plot(range(2, 11), score)\n",
    "plt.xlabel(\"Clusters\")\n",
    "plt.ylabel(\"Silhouette Score\")\n",
    "plt.xticks(range(2, 11))\n",
    "plt.show()"
   ]
  },
  {
   "cell_type": "code",
   "execution_count": 22,
   "metadata": {},
   "outputs": [],
   "source": [
    "kmeans = KMeans(n_clusters=5, n_init=\"auto\", random_state=42)\n",
    "kmeans.fit(X)\n",
    "score.append(silhouette_score(X, kmeans.labels_))"
   ]
  },
  {
   "cell_type": "code",
   "execution_count": 23,
   "metadata": {},
   "outputs": [
    {
     "ename": "FileNotFoundError",
     "evalue": "[Errno 2] No such file or directory: 'wikipedia-iso-country-codes.csv'",
     "output_type": "error",
     "traceback": [
      "\u001b[0;31m---------------------------------------------------------------------------\u001b[0m",
      "\u001b[0;31mFileNotFoundError\u001b[0m                         Traceback (most recent call last)",
      "\u001b[0;32m/tmp/ipykernel_121050/1702056396.py\u001b[0m in \u001b[0;36m<module>\u001b[0;34m\u001b[0m\n\u001b[1;32m      3\u001b[0m \u001b[0;34m\u001b[0m\u001b[0m\n\u001b[1;32m      4\u001b[0m mapping_name_to_iso = (\n\u001b[0;32m----> 5\u001b[0;31m     \u001b[0mpd\u001b[0m\u001b[0;34m.\u001b[0m\u001b[0mread_csv\u001b[0m\u001b[0;34m(\u001b[0m\u001b[0;34m\"wikipedia-iso-country-codes.csv\"\u001b[0m\u001b[0;34m)\u001b[0m\u001b[0;34m\u001b[0m\u001b[0;34m\u001b[0m\u001b[0m\n\u001b[0m\u001b[1;32m      6\u001b[0m     \u001b[0;34m.\u001b[0m\u001b[0mset_index\u001b[0m\u001b[0;34m(\u001b[0m\u001b[0;34m\"Alpha-3 code\"\u001b[0m\u001b[0;34m)\u001b[0m\u001b[0;34m\u001b[0m\u001b[0;34m\u001b[0m\u001b[0m\n\u001b[1;32m      7\u001b[0m     \u001b[0;34m.\u001b[0m\u001b[0mto_dict\u001b[0m\u001b[0;34m(\u001b[0m\u001b[0;34m)\u001b[0m\u001b[0;34m[\u001b[0m\u001b[0;34m\"Numeric code\"\u001b[0m\u001b[0;34m]\u001b[0m\u001b[0;34m\u001b[0m\u001b[0;34m\u001b[0m\u001b[0m\n",
      "\u001b[0;32m/usr/local/lib/python3.10/dist-packages/pandas/io/parsers.py\u001b[0m in \u001b[0;36mread_csv\u001b[0;34m(filepath_or_buffer, sep, delimiter, header, names, index_col, usecols, squeeze, prefix, mangle_dupe_cols, dtype, engine, converters, true_values, false_values, skipinitialspace, skiprows, skipfooter, nrows, na_values, keep_default_na, na_filter, verbose, skip_blank_lines, parse_dates, infer_datetime_format, keep_date_col, date_parser, dayfirst, cache_dates, iterator, chunksize, compression, thousands, decimal, lineterminator, quotechar, quoting, doublequote, escapechar, comment, encoding, dialect, error_bad_lines, warn_bad_lines, delim_whitespace, low_memory, memory_map, float_precision, storage_options)\u001b[0m\n\u001b[1;32m    608\u001b[0m     \u001b[0mkwds\u001b[0m\u001b[0;34m.\u001b[0m\u001b[0mupdate\u001b[0m\u001b[0;34m(\u001b[0m\u001b[0mkwds_defaults\u001b[0m\u001b[0;34m)\u001b[0m\u001b[0;34m\u001b[0m\u001b[0;34m\u001b[0m\u001b[0m\n\u001b[1;32m    609\u001b[0m \u001b[0;34m\u001b[0m\u001b[0m\n\u001b[0;32m--> 610\u001b[0;31m     \u001b[0;32mreturn\u001b[0m \u001b[0m_read\u001b[0m\u001b[0;34m(\u001b[0m\u001b[0mfilepath_or_buffer\u001b[0m\u001b[0;34m,\u001b[0m \u001b[0mkwds\u001b[0m\u001b[0;34m)\u001b[0m\u001b[0;34m\u001b[0m\u001b[0;34m\u001b[0m\u001b[0m\n\u001b[0m\u001b[1;32m    611\u001b[0m \u001b[0;34m\u001b[0m\u001b[0m\n\u001b[1;32m    612\u001b[0m \u001b[0;34m\u001b[0m\u001b[0m\n",
      "\u001b[0;32m/usr/local/lib/python3.10/dist-packages/pandas/io/parsers.py\u001b[0m in \u001b[0;36m_read\u001b[0;34m(filepath_or_buffer, kwds)\u001b[0m\n\u001b[1;32m    460\u001b[0m \u001b[0;34m\u001b[0m\u001b[0m\n\u001b[1;32m    461\u001b[0m     \u001b[0;31m# Create the parser.\u001b[0m\u001b[0;34m\u001b[0m\u001b[0;34m\u001b[0m\u001b[0m\n\u001b[0;32m--> 462\u001b[0;31m     \u001b[0mparser\u001b[0m \u001b[0;34m=\u001b[0m \u001b[0mTextFileReader\u001b[0m\u001b[0;34m(\u001b[0m\u001b[0mfilepath_or_buffer\u001b[0m\u001b[0;34m,\u001b[0m \u001b[0;34m**\u001b[0m\u001b[0mkwds\u001b[0m\u001b[0;34m)\u001b[0m\u001b[0;34m\u001b[0m\u001b[0;34m\u001b[0m\u001b[0m\n\u001b[0m\u001b[1;32m    463\u001b[0m \u001b[0;34m\u001b[0m\u001b[0m\n\u001b[1;32m    464\u001b[0m     \u001b[0;32mif\u001b[0m \u001b[0mchunksize\u001b[0m \u001b[0;32mor\u001b[0m \u001b[0miterator\u001b[0m\u001b[0;34m:\u001b[0m\u001b[0;34m\u001b[0m\u001b[0;34m\u001b[0m\u001b[0m\n",
      "\u001b[0;32m/usr/local/lib/python3.10/dist-packages/pandas/io/parsers.py\u001b[0m in \u001b[0;36m__init__\u001b[0;34m(self, f, engine, **kwds)\u001b[0m\n\u001b[1;32m    817\u001b[0m             \u001b[0mself\u001b[0m\u001b[0;34m.\u001b[0m\u001b[0moptions\u001b[0m\u001b[0;34m[\u001b[0m\u001b[0;34m\"has_index_names\"\u001b[0m\u001b[0;34m]\u001b[0m \u001b[0;34m=\u001b[0m \u001b[0mkwds\u001b[0m\u001b[0;34m[\u001b[0m\u001b[0;34m\"has_index_names\"\u001b[0m\u001b[0;34m]\u001b[0m\u001b[0;34m\u001b[0m\u001b[0;34m\u001b[0m\u001b[0m\n\u001b[1;32m    818\u001b[0m \u001b[0;34m\u001b[0m\u001b[0m\n\u001b[0;32m--> 819\u001b[0;31m         \u001b[0mself\u001b[0m\u001b[0;34m.\u001b[0m\u001b[0m_engine\u001b[0m \u001b[0;34m=\u001b[0m \u001b[0mself\u001b[0m\u001b[0;34m.\u001b[0m\u001b[0m_make_engine\u001b[0m\u001b[0;34m(\u001b[0m\u001b[0mself\u001b[0m\u001b[0;34m.\u001b[0m\u001b[0mengine\u001b[0m\u001b[0;34m)\u001b[0m\u001b[0;34m\u001b[0m\u001b[0;34m\u001b[0m\u001b[0m\n\u001b[0m\u001b[1;32m    820\u001b[0m \u001b[0;34m\u001b[0m\u001b[0m\n\u001b[1;32m    821\u001b[0m     \u001b[0;32mdef\u001b[0m \u001b[0mclose\u001b[0m\u001b[0;34m(\u001b[0m\u001b[0mself\u001b[0m\u001b[0;34m)\u001b[0m\u001b[0;34m:\u001b[0m\u001b[0;34m\u001b[0m\u001b[0;34m\u001b[0m\u001b[0m\n",
      "\u001b[0;32m/usr/local/lib/python3.10/dist-packages/pandas/io/parsers.py\u001b[0m in \u001b[0;36m_make_engine\u001b[0;34m(self, engine)\u001b[0m\n\u001b[1;32m   1048\u001b[0m             )\n\u001b[1;32m   1049\u001b[0m         \u001b[0;31m# error: Too many arguments for \"ParserBase\"\u001b[0m\u001b[0;34m\u001b[0m\u001b[0;34m\u001b[0m\u001b[0m\n\u001b[0;32m-> 1050\u001b[0;31m         \u001b[0;32mreturn\u001b[0m \u001b[0mmapping\u001b[0m\u001b[0;34m[\u001b[0m\u001b[0mengine\u001b[0m\u001b[0;34m]\u001b[0m\u001b[0;34m(\u001b[0m\u001b[0mself\u001b[0m\u001b[0;34m.\u001b[0m\u001b[0mf\u001b[0m\u001b[0;34m,\u001b[0m \u001b[0;34m**\u001b[0m\u001b[0mself\u001b[0m\u001b[0;34m.\u001b[0m\u001b[0moptions\u001b[0m\u001b[0;34m)\u001b[0m  \u001b[0;31m# type: ignore[call-arg]\u001b[0m\u001b[0;34m\u001b[0m\u001b[0;34m\u001b[0m\u001b[0m\n\u001b[0m\u001b[1;32m   1051\u001b[0m \u001b[0;34m\u001b[0m\u001b[0m\n\u001b[1;32m   1052\u001b[0m     \u001b[0;32mdef\u001b[0m \u001b[0m_failover_to_python\u001b[0m\u001b[0;34m(\u001b[0m\u001b[0mself\u001b[0m\u001b[0;34m)\u001b[0m\u001b[0;34m:\u001b[0m\u001b[0;34m\u001b[0m\u001b[0;34m\u001b[0m\u001b[0m\n",
      "\u001b[0;32m/usr/local/lib/python3.10/dist-packages/pandas/io/parsers.py\u001b[0m in \u001b[0;36m__init__\u001b[0;34m(self, src, **kwds)\u001b[0m\n\u001b[1;32m   1865\u001b[0m \u001b[0;34m\u001b[0m\u001b[0m\n\u001b[1;32m   1866\u001b[0m         \u001b[0;31m# open handles\u001b[0m\u001b[0;34m\u001b[0m\u001b[0;34m\u001b[0m\u001b[0m\n\u001b[0;32m-> 1867\u001b[0;31m         \u001b[0mself\u001b[0m\u001b[0;34m.\u001b[0m\u001b[0m_open_handles\u001b[0m\u001b[0;34m(\u001b[0m\u001b[0msrc\u001b[0m\u001b[0;34m,\u001b[0m \u001b[0mkwds\u001b[0m\u001b[0;34m)\u001b[0m\u001b[0;34m\u001b[0m\u001b[0;34m\u001b[0m\u001b[0m\n\u001b[0m\u001b[1;32m   1868\u001b[0m         \u001b[0;32massert\u001b[0m \u001b[0mself\u001b[0m\u001b[0;34m.\u001b[0m\u001b[0mhandles\u001b[0m \u001b[0;32mis\u001b[0m \u001b[0;32mnot\u001b[0m \u001b[0;32mNone\u001b[0m\u001b[0;34m\u001b[0m\u001b[0;34m\u001b[0m\u001b[0m\n\u001b[1;32m   1869\u001b[0m         \u001b[0;32mfor\u001b[0m \u001b[0mkey\u001b[0m \u001b[0;32min\u001b[0m \u001b[0;34m(\u001b[0m\u001b[0;34m\"storage_options\"\u001b[0m\u001b[0;34m,\u001b[0m \u001b[0;34m\"encoding\"\u001b[0m\u001b[0;34m,\u001b[0m \u001b[0;34m\"memory_map\"\u001b[0m\u001b[0;34m,\u001b[0m \u001b[0;34m\"compression\"\u001b[0m\u001b[0;34m)\u001b[0m\u001b[0;34m:\u001b[0m\u001b[0;34m\u001b[0m\u001b[0;34m\u001b[0m\u001b[0m\n",
      "\u001b[0;32m/usr/local/lib/python3.10/dist-packages/pandas/io/parsers.py\u001b[0m in \u001b[0;36m_open_handles\u001b[0;34m(self, src, kwds)\u001b[0m\n\u001b[1;32m   1360\u001b[0m         \u001b[0mLet\u001b[0m \u001b[0mthe\u001b[0m \u001b[0mreaders\u001b[0m \u001b[0mopen\u001b[0m \u001b[0mIOHanldes\u001b[0m \u001b[0mafter\u001b[0m \u001b[0mthey\u001b[0m \u001b[0mare\u001b[0m \u001b[0mdone\u001b[0m \u001b[0;32mwith\u001b[0m \u001b[0mtheir\u001b[0m \u001b[0mpotential\u001b[0m \u001b[0mraises\u001b[0m\u001b[0;34m.\u001b[0m\u001b[0;34m\u001b[0m\u001b[0;34m\u001b[0m\u001b[0m\n\u001b[1;32m   1361\u001b[0m         \"\"\"\n\u001b[0;32m-> 1362\u001b[0;31m         self.handles = get_handle(\n\u001b[0m\u001b[1;32m   1363\u001b[0m             \u001b[0msrc\u001b[0m\u001b[0;34m,\u001b[0m\u001b[0;34m\u001b[0m\u001b[0;34m\u001b[0m\u001b[0m\n\u001b[1;32m   1364\u001b[0m             \u001b[0;34m\"r\"\u001b[0m\u001b[0;34m,\u001b[0m\u001b[0;34m\u001b[0m\u001b[0;34m\u001b[0m\u001b[0m\n",
      "\u001b[0;32m/usr/local/lib/python3.10/dist-packages/pandas/io/common.py\u001b[0m in \u001b[0;36mget_handle\u001b[0;34m(path_or_buf, mode, encoding, compression, memory_map, is_text, errors, storage_options)\u001b[0m\n\u001b[1;32m    640\u001b[0m                 \u001b[0merrors\u001b[0m \u001b[0;34m=\u001b[0m \u001b[0;34m\"replace\"\u001b[0m\u001b[0;34m\u001b[0m\u001b[0;34m\u001b[0m\u001b[0m\n\u001b[1;32m    641\u001b[0m             \u001b[0;31m# Encoding\u001b[0m\u001b[0;34m\u001b[0m\u001b[0;34m\u001b[0m\u001b[0m\n\u001b[0;32m--> 642\u001b[0;31m             handle = open(\n\u001b[0m\u001b[1;32m    643\u001b[0m                 \u001b[0mhandle\u001b[0m\u001b[0;34m,\u001b[0m\u001b[0;34m\u001b[0m\u001b[0;34m\u001b[0m\u001b[0m\n\u001b[1;32m    644\u001b[0m                 \u001b[0mioargs\u001b[0m\u001b[0;34m.\u001b[0m\u001b[0mmode\u001b[0m\u001b[0;34m,\u001b[0m\u001b[0;34m\u001b[0m\u001b[0;34m\u001b[0m\u001b[0m\n",
      "\u001b[0;31mFileNotFoundError\u001b[0m: [Errno 2] No such file or directory: 'wikipedia-iso-country-codes.csv'"
     ]
    }
   ],
   "source": [
    "# Produce mapping\n",
    "# Source: https://gist.github.com/radcliff/f09c0f88344a7fcef373\n",
    "\n",
    "mapping_name_to_iso = (\n",
    "    pd.read_csv(\"wikipedia-iso-country-codes.csv\")\n",
    "    .set_index(\"Alpha-3 code\")\n",
    "    .to_dict()[\"Numeric code\"]\n",
    ")\n",
    "\n",
    "iso_codes = [mapping_name_to_iso[c] for c in country_encoder.classes_]"
   ]
  },
  {
   "cell_type": "code",
   "execution_count": null,
   "metadata": {},
   "outputs": [],
   "source": [
    "# Plot clusters on a world map for visualization purposes\n",
    "world_data = alt.topo_feature(data.world_110m.url, \"countries\")\n",
    "ocean = alt.Chart(alt.sphere()).mark_geoshape(fill=\"lightblue\")\n",
    "\n",
    "countries = (\n",
    "    alt.Chart(world_data)\n",
    "    .mark_geoshape(stroke=\"black\", strokeWidth=0.15)\n",
    "    .encode(\n",
    "        color=alt.Color(\n",
    "            \"Cluster:N\",\n",
    "        )\n",
    "    )\n",
    "    .transform_lookup(\n",
    "        lookup=\"id\",\n",
    "        from_=alt.LookupData(\n",
    "            pd.DataFrame({\"ISO\": iso_codes, \"Cluster\": kmeans.labels_}),\n",
    "            \"ISO\",\n",
    "            [\"Cluster\"],\n",
    "        ),\n",
    "    )\n",
    ")\n",
    "\n",
    "world_map = (\n",
    "    (ocean + countries)\n",
    "    .project(\"naturalEarth1\")\n",
    "    .properties(\n",
    "        width=1000,\n",
    "        height=500,\n",
    "        title=\"Clustering of OECD countries, using World Bank Gender Indicators\",\n",
    "    )\n",
    ")\n",
    "\n",
    "world_map"
   ]
  },
  {
   "cell_type": "markdown",
   "metadata": {},
   "source": [
    "## Association Mining"
   ]
  },
  {
   "cell_type": "markdown",
   "metadata": {},
   "source": [
    "## Latent Variable Modeling"
   ]
  },
  {
   "cell_type": "markdown",
   "metadata": {},
   "source": []
  }
 ],
 "metadata": {
  "kernelspec": {
   "display_name": "env",
   "language": "python",
   "name": "python3"
  },
  "language_info": {
   "codemirror_mode": {
    "name": "ipython",
    "version": 3
   },
   "file_extension": ".py",
   "mimetype": "text/x-python",
   "name": "python",
   "nbconvert_exporter": "python",
   "pygments_lexer": "ipython3",
   "version": "3.10.12"
  },
  "orig_nbformat": 4
 },
 "nbformat": 4,
 "nbformat_minor": 2
}
