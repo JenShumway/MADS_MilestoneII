{
 "cells": [
  {
   "cell_type": "code",
   "execution_count": 35,
   "metadata": {},
   "outputs": [],
   "source": [
    "import pandas as pd\n",
    "from sklearn.decomposition import PCA\n",
    "\n",
    "# Used for displaying HTML\n",
    "from IPython.display import display, HTML"
   ]
  },
  {
   "cell_type": "code",
   "execution_count": 36,
   "metadata": {},
   "outputs": [],
   "source": [
    "# Import utility functions\n",
    "import sys\n",
    "\n",
    "sys.path.append(\"../utility_functions\")\n",
    "from ind_utility_functions import (\n",
    "    get_ind_name,\n",
    "    get_ind_info,\n",
    ")"
   ]
  },
  {
   "cell_type": "code",
   "execution_count": 37,
   "metadata": {},
   "outputs": [],
   "source": [
    "# Select data\n",
    "datasets = [\n",
    "    \"../OECD/Cleaned/HEALTH_MERGED_Threshold_80_n3.csv\",\n",
    "    \"../WorldBankDatasets/Cleaned/AllMerged_Threshold_85_n3_MMRTNE.csv\",\n",
    "]\n",
    "\n",
    "OECD = False  # False for WB data\n",
    "\n",
    "if OECD:\n",
    "    df = pd.read_csv(datasets[0])\n",
    "    mm_ind = \"MATIMATM\"\n",
    "else:\n",
    "    df = pd.read_csv(datasets[1])\n",
    "    mm_ind = \"SH.STA.MMRT.NE\""
   ]
  },
  {
   "cell_type": "markdown",
   "metadata": {},
   "source": [
    "## Data Preparation"
   ]
  },
  {
   "cell_type": "code",
   "execution_count": 38,
   "metadata": {},
   "outputs": [],
   "source": [
    "# Reduce to only gender-themed indicators for WB\n",
    "\n",
    "if not OECD:\n",
    "    gender_ind = pd.read_csv(\"../WorldBankDatasets/Gender_WorldBankData.csv\").columns\n",
    "    df = df.drop(columns=[col for col in df if col not in gender_ind])\n",
    "\n",
    "# Select year\n",
    "year = 2015\n",
    "df = df[df[\"Year\"] == year]\n",
    "\n",
    "# Scale predictor, which is currently unscaled\n",
    "# scaler = MinMaxScaler()\n",
    "# df[mm_ind] = scaler.fit_transform(df[mm_ind].to_numpy().reshape(-1, 1))"
   ]
  },
  {
   "cell_type": "code",
   "execution_count": 39,
   "metadata": {},
   "outputs": [],
   "source": [
    "# Pull out predictor\n",
    "y = df[mm_ind]\n",
    "\n",
    "# Drop country, year, and predictor\n",
    "X = df.drop(columns=[\"Country\", \"Year\", mm_ind])"
   ]
  },
  {
   "cell_type": "markdown",
   "metadata": {},
   "source": [
    "# PCA"
   ]
  },
  {
   "cell_type": "code",
   "execution_count": 40,
   "metadata": {},
   "outputs": [
    {
     "name": "stdout",
     "output_type": "stream",
     "text": [
      "Number of PCs: 22\n",
      "Explained variation per PC: [0.19456131 0.13225224 0.09247485 0.08903783 0.06641937 0.0528512\n",
      " 0.0457819  0.04365733 0.03245155 0.02615284 0.02435279 0.02258434\n",
      " 0.02018065 0.01793234 0.01682751 0.01452492 0.01348546 0.01139115\n",
      " 0.01037036 0.00911611 0.00767807 0.00622649]\n",
      "Sum of explained variation: 0.9503106136546872\n"
     ]
    }
   ],
   "source": [
    "pca = PCA(n_components=0.95, random_state=42)\n",
    "pca.fit(X)\n",
    "\n",
    "print(\"Number of PCs: {}\".format(len(pca.explained_variance_ratio_)))\n",
    "print(\"Explained variation per PC: {}\".format(pca.explained_variance_ratio_))\n",
    "print(\"Sum of explained variation: {}\".format(pca.explained_variance_ratio_.sum()))"
   ]
  },
  {
   "cell_type": "markdown",
   "metadata": {},
   "source": [
    "# Detailed information of the features that contribute to PCs"
   ]
  },
  {
   "cell_type": "code",
   "execution_count": 41,
   "metadata": {},
   "outputs": [],
   "source": [
    "# note this only works one loading set at a time - Ex: pca_loadings[0]\n",
    "def sort_loading_set_for_principal_component(loadings, X=X):\n",
    "    feature_names = X.columns\n",
    "\n",
    "    # make a series of the absolute values of the current pca loadings. Index is the column name (feature) and value is the loading value\n",
    "    feature_names_series = pd.Series(loadings, index=feature_names).abs()\n",
    "\n",
    "    # finally sort descending. The higher the number, the higher the correlation and explanatory value of the\n",
    "    # feature for the principal component\n",
    "    pca_component_explanatory_features_sorted = feature_names_series.sort_values(\n",
    "        ascending=False\n",
    "    )\n",
    "\n",
    "    return pca_component_explanatory_features_sorted"
   ]
  },
  {
   "cell_type": "code",
   "execution_count": 42,
   "metadata": {},
   "outputs": [
    {
     "data": {
      "text/plain": [
       "SG.ABS.PENB             0.255515\n",
       "SH.PAR.LEVE.AL          0.239041\n",
       "SG.LAW.EQRM.WK          0.224057\n",
       "SH.HIV.1524.MA.ZS       0.217053\n",
       "SH.HIV.INCD.YG.MA.P3    0.182648\n",
       "                          ...   \n",
       "SG.LOC.LIVE.EQ          0.000000\n",
       "SG.NGT.WORK.EQ          0.000000\n",
       "SG.OPN.BANK.EQ          0.000000\n",
       "SH.HIV.1524.FE.ZS       0.000000\n",
       "SG.GET.JOBS.EQ          0.000000\n",
       "Length: 161, dtype: float64"
      ]
     },
     "execution_count": 42,
     "metadata": {},
     "output_type": "execute_result"
    }
   ],
   "source": [
    "# uncomment below to test the function sort_loading_set_for_principal_component\n",
    "\n",
    "percentage_of_variance_to_explain = 0.8\n",
    "pca = PCA(n_components=percentage_of_variance_to_explain, random_state=42)\n",
    "pca.fit(X)\n",
    "pca_loadings = pca.components_\n",
    "\n",
    "sort_loading_set_for_principal_component(pca_loadings[0])"
   ]
  },
  {
   "cell_type": "code",
   "execution_count": 43,
   "metadata": {},
   "outputs": [],
   "source": [
    "def get_most_important_features_from_pca_loading_set(\n",
    "    pca_loading_set,\n",
    "    n_most_important_features_from_loading=5,\n",
    "    includeName=True,\n",
    "    includeDefinitionOrAdditionalInfo=True,\n",
    "):\n",
    "    pca_loadings_explanations = {}\n",
    "\n",
    "    # get just the top n_most_important_features_from_loading features\n",
    "    cur_loadings_sorted_with_n_most_important_features = (\n",
    "        sort_loading_set_for_principal_component(pca_loading_set).iloc[\n",
    "            0:n_most_important_features_from_loading\n",
    "        ]\n",
    "    )\n",
    "\n",
    "    feature_codes = []\n",
    "    feature_values = []\n",
    "    feature_names = []\n",
    "    feature_definitions_or_additional_info = []\n",
    "\n",
    "    for feature_code_index, feature_value in zip(\n",
    "        cur_loadings_sorted_with_n_most_important_features.index,\n",
    "        cur_loadings_sorted_with_n_most_important_features.values,\n",
    "    ):\n",
    "        feature_codes.append(feature_code_index)\n",
    "        feature_values.append(feature_value)\n",
    "\n",
    "        if includeName:\n",
    "            cur_name = get_ind_name(feature_code_index)\n",
    "            # print('cur_name is', cur_name)\n",
    "            feature_names.append(cur_name)\n",
    "\n",
    "        if includeDefinitionOrAdditionalInfo:\n",
    "            cur_definition_or_additional_info = get_ind_info(feature_code_index)\n",
    "            feature_definitions_or_additional_info.append(\n",
    "                cur_definition_or_additional_info\n",
    "            )\n",
    "\n",
    "    pca_loadings_explanations[\"most_important_feature_values\"] = feature_values\n",
    "    pca_loadings_explanations[\"most_important_codes\"] = feature_codes\n",
    "    pca_loadings_explanations[\"most_important_feature_names\"] = feature_names\n",
    "    pca_loadings_explanations[\n",
    "        \"most_important_definitions_or_additional_info\"\n",
    "    ] = feature_definitions_or_additional_info\n",
    "\n",
    "    return pca_loadings_explanations"
   ]
  },
  {
   "cell_type": "code",
   "execution_count": 44,
   "metadata": {},
   "outputs": [
    {
     "data": {
      "text/plain": [
       "{'most_important_feature_values': [0.2555150590681781,\n",
       "  0.23904125608925914,\n",
       "  0.2240565441305023,\n",
       "  0.21705336176274082,\n",
       "  0.18264835997444911],\n",
       " 'most_important_codes': ['SG.ABS.PENB',\n",
       "  'SH.PAR.LEVE.AL',\n",
       "  'SG.LAW.EQRM.WK',\n",
       "  'SH.HIV.1524.MA.ZS',\n",
       "  'SH.HIV.INCD.YG.MA.P3'],\n",
       " 'most_important_feature_names': ['There are periods of absence due to childcare accounted for in pension benefits (1=yes; 0=no)',\n",
       "  'There is paid parental leave (1=yes; 0=no)',\n",
       "  'Law mandates equal remuneration for females and males for work of equal value (1=yes; 0=no)',\n",
       "  'Prevalence of HIV, male (% ages 15-24)',\n",
       "  'Incidence of HIV, ages 15-24, male (per 1,000 uninfected male population ages 15-24)'],\n",
       " 'most_important_definitions_or_additional_info': ['The indicator measures whether pension contributions are paid or credited during maternity or parental leave, or the leave period is considered a qualifying period of employment used for the purpose of calculating pension benefits; or there are mechanisms to compensate for any contribution gaps and to ensure that the leave period does not reduce the assessment base or pension amounts, or if there are no mandatory contributory pension schemes, but there is a noncontributory universal social pension conditioned on noncontributory requirements with no means test attached.',\n",
       "  'The indicator measures whether both parents are legally entitled to some form of full-time paid parental leave either shared between mother and father or as an individual entitlement that each can take regardless of the other.',\n",
       "  'The indicator measures whether there is a law that obligates employers to pay equal remuneration to male and female employees who do work of equal value. “Remuneration” refers to the ordinary, basic or minimum wage or salary and any additional emoluments payable directly or indirectly, whether in cash or in kind, by the employer to the worker and arising out of the worker’s employment. “Work of equal value” refers not only to the same or similar jobs but also to different jobs of the same value.',\n",
       "  'Prevalence of HIV, male is the percentage of males who are infected with HIV. Youth rates are as a percentage of the relevant age group.',\n",
       "  'Number of new HIV infections among uninfected female populations ages 15-24 expressed per 1,000 uninfected female population ages 15-24 in the year before the period.']}"
      ]
     },
     "execution_count": 44,
     "metadata": {},
     "output_type": "execute_result"
    }
   ],
   "source": [
    "# uncomment below to test the function get_most_important_features_from_pca_loading_set\n",
    "\n",
    "percentage_of_variance_to_explain = 0.8\n",
    "pca = PCA(n_components=percentage_of_variance_to_explain, random_state=42)\n",
    "pca.fit(X)\n",
    "pca_loadings = pca.components_\n",
    "\n",
    "get_most_important_features_from_pca_loading_set(pca_loadings[0])"
   ]
  },
  {
   "cell_type": "code",
   "execution_count": 45,
   "metadata": {},
   "outputs": [],
   "source": [
    "# this function will show the top most important components explaining the variance for each PC\n",
    "def pca_with_detailed_variance_and_components_info(\n",
    "    percentage_of_variance_to_explain,\n",
    "    X=X,\n",
    "    n_most_important_features_from_loading=5,\n",
    "    includeValues=False,\n",
    "    includeDefinitionOrAdditionalInfo=False,\n",
    "):\n",
    "    pca = PCA(n_components=percentage_of_variance_to_explain, random_state=42)\n",
    "    pca.fit(X)\n",
    "    pca_loadings = pca.components_\n",
    "\n",
    "    loadings_information = []\n",
    "    for loading in pca_loadings:\n",
    "        cur_loading_features_info = get_most_important_features_from_pca_loading_set(\n",
    "            loading, n_most_important_features_from_loading\n",
    "        )\n",
    "        loadings_information.append(cur_loading_features_info)\n",
    "\n",
    "    num_principal_components = len(pca.explained_variance_ratio_)\n",
    "\n",
    "    print(\n",
    "        f\"in order to explain {percentage_of_variance_to_explain * 100} percentage of the variance with pca it requires\"\n",
    "    )\n",
    "    print(f\"{num_principal_components} principal components\")\n",
    "    print(\n",
    "        f\"the most important feature names, for the top {n_most_important_features_from_loading} from each PC, are\\n\"\n",
    "    )\n",
    "\n",
    "    # print the most important value names\n",
    "    for i in range(0, len(loadings_information)):\n",
    "        # print('\\n')\n",
    "        print(\"---------\")\n",
    "        print(\n",
    "            f\"For Principal Component {i+1}, the most important features names are:\\n\"\n",
    "        )\n",
    "        # print('\\n')\n",
    "        cur_loadings_info = loadings_information[i]\n",
    "\n",
    "        cur_loadings_names = cur_loadings_info[\"most_important_feature_names\"]\n",
    "        cur_loadings_values = cur_loadings_info[\"most_important_feature_values\"]\n",
    "        cur_loadings_codes = cur_loadings_info[\"most_important_codes\"]\n",
    "        cur_loadings_definitions_or_additional_info = cur_loadings_info[\n",
    "            \"most_important_definitions_or_additional_info\"\n",
    "        ]\n",
    "        # most_important_definitions_or_additional_info\n",
    "\n",
    "        for code, value, name, definition_or_additional_info in zip(\n",
    "            cur_loadings_codes,\n",
    "            cur_loadings_values,\n",
    "            cur_loadings_names,\n",
    "            cur_loadings_definitions_or_additional_info,\n",
    "        ):\n",
    "            print(name)\n",
    "\n",
    "            if includeValues:\n",
    "                print(f\"with value {value}\")\n",
    "\n",
    "            if includeDefinitionOrAdditionalInfo:\n",
    "                print(definition_or_additional_info)\n",
    "        print(\"\\n\")"
   ]
  },
  {
   "cell_type": "code",
   "execution_count": 46,
   "metadata": {},
   "outputs": [
    {
     "name": "stdout",
     "output_type": "stream",
     "text": [
      "in order to explain 80.0 percentage of the variance with pca it requires\n",
      "12 principal components\n",
      "the most important feature names, for the top 5 from each PC, are\n",
      "\n",
      "---------\n",
      "For Principal Component 1, the most important features names are:\n",
      "\n",
      "There are periods of absence due to childcare accounted for in pension benefits (1=yes; 0=no)\n",
      "with value 0.2555150590681781\n",
      "There is paid parental leave (1=yes; 0=no)\n",
      "with value 0.23904125608925914\n",
      "Law mandates equal remuneration for females and males for work of equal value (1=yes; 0=no)\n",
      "with value 0.2240565441305023\n",
      "Prevalence of HIV, male (% ages 15-24)\n",
      "with value 0.21705336176274082\n",
      "Incidence of HIV, ages 15-24, male (per 1,000 uninfected male population ages 15-24)\n",
      "with value 0.18264835997444911\n",
      "\n",
      "\n",
      "---------\n",
      "For Principal Component 2, the most important features names are:\n",
      "\n",
      "The age at which men and women can retire with full pension benefits is the same (1=yes; 0=no)\n",
      "with value 0.413640411932588\n",
      "The age at which men and women can retire with partial pension benefits is the same (1=yes; 0=no)\n",
      "with value 0.30633228383580113\n",
      "The government administers 100% of maternity leave benefits (1=yes; 0=no)\n",
      "with value 0.20757359594525912\n",
      "Employment to population ratio, ages 15-24, female (%) (modeled ILO estimate)\n",
      "with value 0.17219434867882094\n",
      "Law mandates equal remuneration for females and males for work of equal value (1=yes; 0=no)\n",
      "with value 0.1598100807632946\n",
      "\n",
      "\n",
      "---------\n",
      "For Principal Component 3, the most important features names are:\n",
      "\n",
      "Paid leave is available to fathers (1=yes; 0=no)\n",
      "with value 0.3021073073718812\n",
      "The age at which men and women can retire with partial pension benefits is the same (1=yes; 0=no)\n",
      "with value 0.2641722159486275\n",
      "A woman can sign a contract in the same way as a man (1=yes; 0=no)\n",
      "with value 0.1898269781297789\n",
      "The age at which men and women can retire with full pension benefits is the same (1=yes; 0=no)\n",
      "with value 0.1850546190779659\n",
      "Time-related underemployment, female (% of employment)\n",
      "with value 0.1693281129451966\n",
      "\n",
      "\n",
      "---------\n",
      "For Principal Component 4, the most important features names are:\n",
      "\n",
      "A woman can sign a contract in the same way as a man (1=yes; 0=no)\n",
      "with value 0.3821485039845202\n",
      "A woman can work in a job deemed dangerous in the same way as a man (1=yes; 0=no)\n",
      "with value 0.29268178608763606\n",
      "A woman can work in an industrial job in the same way as a man (1=yes; 0=no)\n",
      "with value 0.2802664148946064\n",
      "There is paid parental leave (1=yes; 0=no)\n",
      "with value 0.25114510210681973\n",
      "Law mandates equal remuneration for females and males for work of equal value (1=yes; 0=no)\n",
      "with value 0.2493404293476355\n",
      "\n",
      "\n",
      "---------\n",
      "For Principal Component 5, the most important features names are:\n",
      "\n",
      "There is paid parental leave (1=yes; 0=no)\n",
      "with value 0.3744848968483647\n",
      "Paid leave is available to fathers (1=yes; 0=no)\n",
      "with value 0.33375705858599986\n",
      "The age at which men and women can retire with full pension benefits is the same (1=yes; 0=no)\n",
      "with value 0.31846738675060965\n",
      "Law mandates equal remuneration for females and males for work of equal value (1=yes; 0=no)\n",
      "with value 0.2724012145492731\n",
      "Employment to population ratio, ages 15-24, male (%) (modeled ILO estimate)\n",
      "with value 0.21517168906848866\n",
      "\n",
      "\n",
      "---------\n",
      "For Principal Component 6, the most important features names are:\n",
      "\n",
      "A woman can work in an industrial job in the same way as a man (1=yes; 0=no)\n",
      "with value 0.3385985570079145\n",
      "There is paid parental leave (1=yes; 0=no)\n",
      "with value 0.2525284537943584\n",
      "A woman can work in a job deemed dangerous in the same way as a man (1=yes; 0=no)\n",
      "with value 0.23931823627618826\n",
      "A woman can sign a contract in the same way as a man (1=yes; 0=no)\n",
      "with value 0.21629475467516476\n",
      "Length of paid parental leave for father (calendar days)\n",
      "with value 0.2046742214590809\n",
      "\n",
      "\n",
      "---------\n",
      "For Principal Component 7, the most important features names are:\n",
      "\n",
      "Paid leave is available to fathers (1=yes; 0=no)\n",
      "with value 0.4153435215676302\n",
      "The government administers 100% of maternity leave benefits (1=yes; 0=no)\n",
      "with value 0.3326014684947652\n",
      "A woman has the same rights to remarry as a man (1=yes; 0=no)\n",
      "with value 0.28441769487994345\n",
      "Law mandates equal remuneration for females and males for work of equal value (1=yes; 0=no)\n",
      "with value 0.28280899780766977\n",
      "There are periods of absence due to childcare accounted for in pension benefits (1=yes; 0=no)\n",
      "with value 0.26471226719158486\n",
      "\n",
      "\n",
      "---------\n",
      "For Principal Component 8, the most important features names are:\n",
      "\n",
      "A woman has the same rights to remarry as a man (1=yes; 0=no)\n",
      "with value 0.35168591153596485\n",
      "Law mandates equal remuneration for females and males for work of equal value (1=yes; 0=no)\n",
      "with value 0.3288072906808679\n",
      "Women's share of population ages 15+ living with HIV (%)\n",
      "with value 0.22101837797478316\n",
      "The age at which men and women can retire with full pension benefits is the same (1=yes; 0=no)\n",
      "with value 0.21448799197214066\n",
      "There is paid parental leave (1=yes; 0=no)\n",
      "with value 0.20930074828741127\n",
      "\n",
      "\n",
      "---------\n",
      "For Principal Component 9, the most important features names are:\n",
      "\n",
      "School enrollment, tertiary, male (% gross)\n",
      "with value 0.24450268778076142\n",
      "The government administers 100% of maternity leave benefits (1=yes; 0=no)\n",
      "with value 0.2410488965374872\n",
      "A woman can work in a job deemed dangerous in the same way as a man (1=yes; 0=no)\n",
      "with value 0.23460048209530784\n",
      "The age at which men and women can retire with full pension benefits is the same (1=yes; 0=no)\n",
      "with value 0.23320815531705694\n",
      "School enrollment, tertiary, female (% gross)\n",
      "with value 0.21435061753358095\n",
      "\n",
      "\n",
      "---------\n",
      "For Principal Component 10, the most important features names are:\n",
      "\n",
      "A woman has the same rights to remarry as a man (1=yes; 0=no)\n",
      "with value 0.29339592573116036\n",
      "The age at which men and women can retire with partial pension benefits is the same (1=yes; 0=no)\n",
      "with value 0.23968790735726442\n",
      "Proportion of seats held by women in national parliaments (%)\n",
      "with value 0.22209959004097365\n",
      "A woman can work in an industrial job in the same way as a man (1=yes; 0=no)\n",
      "with value 0.21591764009041944\n",
      "The government administers 100% of maternity leave benefits (1=yes; 0=no)\n",
      "with value 0.2117993003953562\n",
      "\n",
      "\n",
      "---------\n",
      "For Principal Component 11, the most important features names are:\n",
      "\n",
      "A woman can work in a job deemed dangerous in the same way as a man (1=yes; 0=no)\n",
      "with value 0.35178066087030885\n",
      "Educational attainment, at least completed short-cycle tertiary, population 25+, female (%) (cumulative)\n",
      "with value 0.2517403694289393\n",
      "There are periods of absence due to childcare accounted for in pension benefits (1=yes; 0=no)\n",
      "with value 0.2496338240876566\n",
      "Incidence of HIV, ages 15-49, female (per 1,000 uninfected female population ages 15-49)\n",
      "with value 0.23183196673785686\n",
      "Incidence of HIV, ages 15-49, male (per 1,000 uninfected male population ages 15-49)\n",
      "with value 0.2053743514666711\n",
      "\n",
      "\n",
      "---------\n",
      "For Principal Component 12, the most important features names are:\n",
      "\n",
      "The government administers 100% of maternity leave benefits (1=yes; 0=no)\n",
      "with value 0.34817363804843476\n",
      "A woman can sign a contract in the same way as a man (1=yes; 0=no)\n",
      "with value 0.2785497760579239\n",
      "The age at which men and women can retire with full pension benefits is the same (1=yes; 0=no)\n",
      "with value 0.215461172163134\n",
      "There is paid parental leave (1=yes; 0=no)\n",
      "with value 0.19319047185636734\n",
      "Time-related underemployment, male (% of employment)\n",
      "with value 0.18645804675857536\n",
      "\n",
      "\n"
     ]
    }
   ],
   "source": [
    "variance_percentage_to_explain = 0.8\n",
    "num_top_features_per_pc = 5\n",
    "\n",
    "pca_with_detailed_variance_and_components_info(\n",
    "    variance_percentage_to_explain,\n",
    "    includeValues=True,\n",
    "    n_most_important_features_from_loading=num_top_features_per_pc,\n",
    ")"
   ]
  },
  {
   "cell_type": "code",
   "execution_count": 47,
   "metadata": {},
   "outputs": [],
   "source": [
    "# returns a list of the top feature name for each principal component\n",
    "def get_top_feature_for_each_pc(\n",
    "    percentage_of_variance_to_explain, X=X, n_most_important_features_from_loading=5\n",
    "):\n",
    "    pca = PCA(n_components=percentage_of_variance_to_explain, random_state=42)\n",
    "    pca.fit(X)\n",
    "    pca_loadings = pca.components_\n",
    "\n",
    "    loadings_information = []\n",
    "    for loading in pca_loadings:\n",
    "        cur_loading_features_info = get_most_important_features_from_pca_loading_set(\n",
    "            loading, n_most_important_features_from_loading\n",
    "        )\n",
    "        loadings_information.append(cur_loading_features_info)\n",
    "\n",
    "    top_feature_name_per_pc = []\n",
    "    for i in range(0, len(loadings_information)):\n",
    "        cur_loadings_info = loadings_information[i]\n",
    "\n",
    "        cur_features_names = cur_loadings_info[\"most_important_feature_names\"]\n",
    "        cur_top_feature = cur_features_names[0]\n",
    "        top_feature_name_per_pc.append(cur_top_feature)\n",
    "        # cur_loadings_values = cur_loadings_info['most_important_features_values']\n",
    "        # cur_loadings_codes = cur_loadings_info['most_important_features_world_bank_codes']\n",
    "        # cur_loadings_definitions = cur_loadings_info['most_important_features_world_bank_definitions']\n",
    "\n",
    "    return top_feature_name_per_pc"
   ]
  },
  {
   "cell_type": "code",
   "execution_count": 48,
   "metadata": {},
   "outputs": [
    {
     "data": {
      "text/html": [
       "<h2>Assuming you want to explain 95.0 percent of the PC variation in the World Bank Dataset, \n",
       "              the top feature names that explain this per principal component are:</h2>\n"
      ],
      "text/plain": [
       "<IPython.core.display.HTML object>"
      ]
     },
     "metadata": {},
     "output_type": "display_data"
    },
    {
     "data": {
      "text/html": [
       "<strong>PC 1:</strong> There are periods of absence due to childcare accounted for in pension benefits (1=yes; 0=no)"
      ],
      "text/plain": [
       "<IPython.core.display.HTML object>"
      ]
     },
     "metadata": {},
     "output_type": "display_data"
    },
    {
     "data": {
      "text/html": [
       "<strong>PC 2:</strong> The age at which men and women can retire with full pension benefits is the same (1=yes; 0=no)"
      ],
      "text/plain": [
       "<IPython.core.display.HTML object>"
      ]
     },
     "metadata": {},
     "output_type": "display_data"
    },
    {
     "data": {
      "text/html": [
       "<strong>PC 3:</strong> Paid leave is available to fathers (1=yes; 0=no)"
      ],
      "text/plain": [
       "<IPython.core.display.HTML object>"
      ]
     },
     "metadata": {},
     "output_type": "display_data"
    },
    {
     "data": {
      "text/html": [
       "<strong>PC 4:</strong> A woman can sign a contract in the same way as a man (1=yes; 0=no)"
      ],
      "text/plain": [
       "<IPython.core.display.HTML object>"
      ]
     },
     "metadata": {},
     "output_type": "display_data"
    },
    {
     "data": {
      "text/html": [
       "<strong>PC 5:</strong> There is paid parental leave (1=yes; 0=no)"
      ],
      "text/plain": [
       "<IPython.core.display.HTML object>"
      ]
     },
     "metadata": {},
     "output_type": "display_data"
    },
    {
     "data": {
      "text/html": [
       "<strong>PC 6:</strong> A woman can work in an industrial job in the same way as a man (1=yes; 0=no)"
      ],
      "text/plain": [
       "<IPython.core.display.HTML object>"
      ]
     },
     "metadata": {},
     "output_type": "display_data"
    },
    {
     "data": {
      "text/html": [
       "<strong>PC 7:</strong> Paid leave is available to fathers (1=yes; 0=no)"
      ],
      "text/plain": [
       "<IPython.core.display.HTML object>"
      ]
     },
     "metadata": {},
     "output_type": "display_data"
    },
    {
     "data": {
      "text/html": [
       "<strong>PC 8:</strong> A woman has the same rights to remarry as a man (1=yes; 0=no)"
      ],
      "text/plain": [
       "<IPython.core.display.HTML object>"
      ]
     },
     "metadata": {},
     "output_type": "display_data"
    },
    {
     "data": {
      "text/html": [
       "<strong>PC 9:</strong> School enrollment, tertiary, male (% gross)"
      ],
      "text/plain": [
       "<IPython.core.display.HTML object>"
      ]
     },
     "metadata": {},
     "output_type": "display_data"
    },
    {
     "data": {
      "text/html": [
       "<strong>PC 10:</strong> A woman has the same rights to remarry as a man (1=yes; 0=no)"
      ],
      "text/plain": [
       "<IPython.core.display.HTML object>"
      ]
     },
     "metadata": {},
     "output_type": "display_data"
    },
    {
     "data": {
      "text/html": [
       "<strong>PC 11:</strong> A woman can work in a job deemed dangerous in the same way as a man (1=yes; 0=no)"
      ],
      "text/plain": [
       "<IPython.core.display.HTML object>"
      ]
     },
     "metadata": {},
     "output_type": "display_data"
    },
    {
     "data": {
      "text/html": [
       "<strong>PC 12:</strong> The government administers 100% of maternity leave benefits (1=yes; 0=no)"
      ],
      "text/plain": [
       "<IPython.core.display.HTML object>"
      ]
     },
     "metadata": {},
     "output_type": "display_data"
    },
    {
     "data": {
      "text/html": [
       "<strong>PC 13:</strong> A woman can work in an industrial job in the same way as a man (1=yes; 0=no)"
      ],
      "text/plain": [
       "<IPython.core.display.HTML object>"
      ]
     },
     "metadata": {},
     "output_type": "display_data"
    },
    {
     "data": {
      "text/html": [
       "<strong>PC 14:</strong> There is paid parental leave (1=yes; 0=no)"
      ],
      "text/plain": [
       "<IPython.core.display.HTML object>"
      ]
     },
     "metadata": {},
     "output_type": "display_data"
    },
    {
     "data": {
      "text/html": [
       "<strong>PC 15:</strong> The government administers 100% of maternity leave benefits (1=yes; 0=no)"
      ],
      "text/plain": [
       "<IPython.core.display.HTML object>"
      ]
     },
     "metadata": {},
     "output_type": "display_data"
    },
    {
     "data": {
      "text/html": [
       "<strong>PC 16:</strong> The mandatory retirement age for men and women is the same (1=yes; 0=no)"
      ],
      "text/plain": [
       "<IPython.core.display.HTML object>"
      ]
     },
     "metadata": {},
     "output_type": "display_data"
    },
    {
     "data": {
      "text/html": [
       "<strong>PC 17:</strong> The mandatory retirement age for men and women is the same (1=yes; 0=no)"
      ],
      "text/plain": [
       "<IPython.core.display.HTML object>"
      ]
     },
     "metadata": {},
     "output_type": "display_data"
    },
    {
     "data": {
      "text/html": [
       "<strong>PC 18:</strong> Length of paid paternity leave (calendar days)"
      ],
      "text/plain": [
       "<IPython.core.display.HTML object>"
      ]
     },
     "metadata": {},
     "output_type": "display_data"
    },
    {
     "data": {
      "text/html": [
       "<strong>PC 19:</strong> There is legislation on sexual harassment in employment (1=yes; 0=no)"
      ],
      "text/plain": [
       "<IPython.core.display.HTML object>"
      ]
     },
     "metadata": {},
     "output_type": "display_data"
    },
    {
     "data": {
      "text/html": [
       "<strong>PC 20:</strong> School enrollment, secondary, female (% gross)"
      ],
      "text/plain": [
       "<IPython.core.display.HTML object>"
      ]
     },
     "metadata": {},
     "output_type": "display_data"
    },
    {
     "data": {
      "text/html": [
       "<strong>PC 21:</strong> Paid leave is available to fathers (1=yes; 0=no)"
      ],
      "text/plain": [
       "<IPython.core.display.HTML object>"
      ]
     },
     "metadata": {},
     "output_type": "display_data"
    },
    {
     "data": {
      "text/html": [
       "<strong>PC 22:</strong> Proportion of seats held by women in national parliaments (%)"
      ],
      "text/plain": [
       "<IPython.core.display.HTML object>"
      ]
     },
     "metadata": {},
     "output_type": "display_data"
    }
   ],
   "source": [
    "variance_percentage_to_explain = 0.95\n",
    "\n",
    "top_feature_names_for_pc_loadings = get_top_feature_for_each_pc(\n",
    "    variance_percentage_to_explain\n",
    ")\n",
    "\n",
    "if OECD:\n",
    "    dataset_using = \"OECD\"\n",
    "else:\n",
    "    dataset_using = \"World Bank Dataset\"\n",
    "\n",
    "display(\n",
    "    HTML(\n",
    "        f\"\"\"<h2>Assuming you want to explain {variance_percentage_to_explain * 100} percent of the PC variation in the {dataset_using}, \n",
    "              the top feature names that explain this per principal component are:</h2>\\n\"\"\"\n",
    "    )\n",
    ")\n",
    "\n",
    "for i in range(0, len(top_feature_names_for_pc_loadings)):\n",
    "    # print(f\"for PC {i+1} the top explaining feature is: {top_feature_names_for_pc_loadings[i]}\")\n",
    "    # print(f\"PC {i+1}: {top_feature_names_for_pc_loadings[i]}\")\n",
    "    display(HTML(f\"<strong>PC {i+1}:</strong> {top_feature_names_for_pc_loadings[i]}\"))\n",
    "    # print(\"\\n\")"
   ]
  },
  {
   "cell_type": "code",
   "execution_count": null,
   "metadata": {},
   "outputs": [],
   "source": []
  }
 ],
 "metadata": {
  "kernelspec": {
   "display_name": "env",
   "language": "python",
   "name": "python3"
  },
  "language_info": {
   "codemirror_mode": {
    "name": "ipython",
    "version": 3
   },
   "file_extension": ".py",
   "mimetype": "text/x-python",
   "name": "python",
   "nbconvert_exporter": "python",
   "pygments_lexer": "ipython3",
   "version": "3.10.12"
  },
  "orig_nbformat": 4
 },
 "nbformat": 4,
 "nbformat_minor": 2
}
