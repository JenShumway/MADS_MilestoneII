{
 "cells": [
  {
   "cell_type": "code",
   "execution_count": 78,
   "metadata": {},
   "outputs": [],
   "source": [
    "import pandas as pd\n",
    "from sklearn.decomposition import PCA\n",
    "\n",
    "# Used for displaying HTML\n",
    "from IPython.display import display, HTML"
   ]
  },
  {
   "cell_type": "code",
   "execution_count": 79,
   "metadata": {},
   "outputs": [],
   "source": [
    "# Import utility functions\n",
    "import sys\n",
    "\n",
    "sys.path.append(\"../utility_functions\")\n",
    "from ind_utility_functions import (\n",
    "    get_ind_name,\n",
    "    get_ind_info,\n",
    ")"
   ]
  },
  {
   "cell_type": "code",
   "execution_count": 80,
   "metadata": {},
   "outputs": [],
   "source": [
    "# Select data\n",
    "datasets = [\n",
    "    \"../OECD/Cleaned/HEALTH_MERGED_Threshold_80_n3.csv\",\n",
    "    \"../WorldBankDatasets/Cleaned/AllMerged_Threshold_85_n3_MMRTNE.csv\",\n",
    "]\n",
    "\n",
    "OECD = False  # False for WB data\n",
    "\n",
    "if OECD:\n",
    "    df = pd.read_csv(datasets[0])\n",
    "    mm_ind = \"MATIMATM\"\n",
    "else:\n",
    "    df = pd.read_csv(datasets[1])\n",
    "    mm_ind = \"SH.STA.MMRT.NE\""
   ]
  },
  {
   "cell_type": "markdown",
   "metadata": {},
   "source": [
    "## Data Preparation"
   ]
  },
  {
   "cell_type": "code",
   "execution_count": 81,
   "metadata": {},
   "outputs": [],
   "source": [
    "# Reduce to only gender indicators\n",
    "\n",
    "# if not OECD:\n",
    "#    gender_ind = pd.read_csv('../WorldBankDatasets/Gender_WorldBankData.csv').columns\n",
    "#    df = df.drop(columns=[col for col in df if col not in gender_ind])\n",
    "\n",
    "# Select year\n",
    "# year = 2015\n",
    "# df = df[df[\"Year\"] == year]\n",
    "# df.drop(\"Year\", axis=1, inplace=True)\n",
    "\n",
    "# Scale predictor, which is currently unscaled\n",
    "# scaler = MinMaxScaler()\n",
    "# df[mm_ind] = scaler.fit_transform(df[mm_ind].to_numpy().reshape(-1, 1))"
   ]
  },
  {
   "cell_type": "code",
   "execution_count": 82,
   "metadata": {},
   "outputs": [],
   "source": [
    "# Pull out predictor\n",
    "y = df[mm_ind]\n",
    "\n",
    "# Drop country, year, and predictor\n",
    "X = df.drop(columns=[\"Country\", \"Year\", mm_ind])"
   ]
  },
  {
   "cell_type": "markdown",
   "metadata": {},
   "source": [
    "# PCA"
   ]
  },
  {
   "cell_type": "code",
   "execution_count": 83,
   "metadata": {},
   "outputs": [
    {
     "name": "stdout",
     "output_type": "stream",
     "text": [
      "Number of PCs: 2\n",
      "Explained variation per PC: [0.31839939 0.15997576]\n",
      "Sum of explained variation: 0.47837515227490146\n"
     ]
    }
   ],
   "source": [
    "pca = PCA(n_components=2, random_state=42)\n",
    "pca.fit(X)\n",
    "\n",
    "print(\"Number of PCs: {}\".format(len(pca.explained_variance_ratio_)))\n",
    "print(\"Explained variation per PC: {}\".format(pca.explained_variance_ratio_))\n",
    "print(\"Sum of explained variation: {}\".format(pca.explained_variance_ratio_.sum()))"
   ]
  },
  {
   "cell_type": "markdown",
   "metadata": {},
   "source": [
    "# Detailed information of the features that contribute to PCs"
   ]
  },
  {
   "cell_type": "code",
   "execution_count": 84,
   "metadata": {},
   "outputs": [],
   "source": [
    "# note this only works one loading set at a time - Ex: pca_loadings[0]\n",
    "def sort_loading_set_for_principal_component(loadings, X=X):\n",
    "    feature_names = X.columns\n",
    "\n",
    "    # make a series of the absolute values of the current pca loadings. Index is the column name (feature) and value is the loading value\n",
    "    feature_names_series = pd.Series(loadings, index=feature_names).abs()\n",
    "\n",
    "    # finally sort descending. The higher the number, the higher the correlation and explanatory value of the\n",
    "    # feature for the principal component\n",
    "    pca_component_explanatory_features_sorted = feature_names_series.sort_values(\n",
    "        ascending=False\n",
    "    )\n",
    "\n",
    "    return pca_component_explanatory_features_sorted"
   ]
  },
  {
   "cell_type": "code",
   "execution_count": 85,
   "metadata": {},
   "outputs": [
    {
     "data": {
      "text/plain": [
       "SH.MMR.LEVE.AL            0.067942\n",
       "SG.ABS.PENB               0.065640\n",
       "UIS.E.2.F                 0.063285\n",
       "SE.PRM.ENRL               0.063041\n",
       "SE.PRM.ENRL.FE            0.062892\n",
       "                            ...   \n",
       "SG.HME.TRVL.EQ            0.000197\n",
       "SP.POP.3034.MA.5Y         0.000150\n",
       "SL.TLF.ACTI.1524.FE.ZS    0.000114\n",
       "SG.LOC.LIVE.EQ            0.000000\n",
       "SG.CTR.TRVL.EQ            0.000000\n",
       "Length: 777, dtype: float64"
      ]
     },
     "execution_count": 85,
     "metadata": {},
     "output_type": "execute_result"
    }
   ],
   "source": [
    "# uncomment below to test the function sort_loading_set_for_principal_component\n",
    "\n",
    "percentage_of_variance_to_explain = 0.8\n",
    "pca = PCA(n_components=percentage_of_variance_to_explain, random_state=42)\n",
    "pca.fit(X)\n",
    "pca_loadings = pca.components_\n",
    "\n",
    "sort_loading_set_for_principal_component(pca_loadings[0])"
   ]
  },
  {
   "cell_type": "code",
   "execution_count": 86,
   "metadata": {},
   "outputs": [],
   "source": [
    "def get_most_important_features_from_pca_loading_set(\n",
    "    pca_loading_set,\n",
    "    n_most_important_features_from_loading=5,\n",
    "    includeName=True,\n",
    "    includeDefinitionOrAdditionalInfo=True,\n",
    "):\n",
    "    pca_loadings_explanations = {}\n",
    "\n",
    "    # get just the top n_most_important_features_from_loading features\n",
    "    cur_loadings_sorted_with_n_most_important_features = (\n",
    "        sort_loading_set_for_principal_component(pca_loading_set).iloc[\n",
    "            0:n_most_important_features_from_loading\n",
    "        ]\n",
    "    )\n",
    "\n",
    "    feature_codes = []\n",
    "    feature_values = []\n",
    "    feature_names = []\n",
    "    feature_definitions_or_additional_info = []\n",
    "\n",
    "    for feature_code_index, feature_value in zip(\n",
    "        cur_loadings_sorted_with_n_most_important_features.index,\n",
    "        cur_loadings_sorted_with_n_most_important_features.values,\n",
    "    ):\n",
    "        feature_codes.append(feature_code_index)\n",
    "        feature_values.append(feature_value)\n",
    "\n",
    "        if includeName:\n",
    "            cur_name = get_ind_name(feature_code_index)\n",
    "            # print('cur_name is', cur_name)\n",
    "            feature_names.append(cur_name)\n",
    "\n",
    "        if includeDefinitionOrAdditionalInfo:\n",
    "            cur_definition_or_additional_info = get_ind_info(feature_code_index)\n",
    "            feature_definitions_or_additional_info.append(\n",
    "                cur_definition_or_additional_info\n",
    "            )\n",
    "\n",
    "    pca_loadings_explanations[\"most_important_feature_values\"] = feature_values\n",
    "    pca_loadings_explanations[\"most_important_codes\"] = feature_codes\n",
    "    pca_loadings_explanations[\"most_important_feature_names\"] = feature_names\n",
    "    pca_loadings_explanations[\n",
    "        \"most_important_definitions_or_additional_info\"\n",
    "    ] = feature_definitions_or_additional_info\n",
    "\n",
    "    return pca_loadings_explanations"
   ]
  },
  {
   "cell_type": "code",
   "execution_count": 87,
   "metadata": {},
   "outputs": [
    {
     "data": {
      "text/plain": [
       "{'most_important_feature_values': [0.06794199650536144,\n",
       "  0.06563954219032192,\n",
       "  0.06328470775380518,\n",
       "  0.06304078994328643,\n",
       "  0.06289246667113423],\n",
       " 'most_important_codes': ['SH.MMR.LEVE.AL',\n",
       "  'SG.ABS.PENB',\n",
       "  'UIS.E.2.F',\n",
       "  'SE.PRM.ENRL',\n",
       "  'SE.PRM.ENRL.FE'],\n",
       " 'most_important_feature_names': ['Paid leave of at least 14 weeks available to mothers (1=yes; 0=no)',\n",
       "  'There are periods of absence due to childcare accounted for in pension benefits (1=yes; 0=no)',\n",
       "  'Enrolment in lower secondary education, female (number)',\n",
       "  'Primary education, pupils',\n",
       "  'Enrolment in primary education, female (number)'],\n",
       " 'most_important_definitions_or_additional_info': ['The indicator measures  whether women are legally entitled to at least 14 weeks (98 calendar days) of paid leave for the birth of a child through maternity leave, parental leave or a combination of both.',\n",
       "  'The indicator measures whether pension contributions are paid or credited during maternity or parental leave, or the leave period is considered a qualifying period of employment used for the purpose of calculating pension benefits; or there are mechanisms to compensate for any contribution gaps and to ensure that the leave period does not reduce the assessment base or pension amounts, or if there are no mandatory contributory pension schemes, but there is a noncontributory universal social pension conditioned on noncontributory requirements with no means test attached.',\n",
       "  'Total number of female students enrolled in public and private lower secondary education institutions regardless of age.',\n",
       "  'Primary education pupils is the total number of pupils enrolled at primary level in public and private schools.',\n",
       "  'Total number of female students enrolled in public and private primary education institutions regardless of age.']}"
      ]
     },
     "execution_count": 87,
     "metadata": {},
     "output_type": "execute_result"
    }
   ],
   "source": [
    "# uncomment below to test the function get_most_important_features_from_pca_loading_set\n",
    "\n",
    "percentage_of_variance_to_explain = 0.8\n",
    "pca = PCA(n_components=percentage_of_variance_to_explain, random_state=42)\n",
    "pca.fit(X)\n",
    "pca_loadings = pca.components_\n",
    "\n",
    "get_most_important_features_from_pca_loading_set(pca_loadings[0])"
   ]
  },
  {
   "cell_type": "code",
   "execution_count": 88,
   "metadata": {},
   "outputs": [],
   "source": [
    "# this function will show the top most important components explaining the variance for each PC\n",
    "def pca_with_detailed_variance_and_components_info(\n",
    "    percentage_of_variance_to_explain,\n",
    "    X=X,\n",
    "    n_most_important_features_from_loading=5,\n",
    "    includeValues=False,\n",
    "    includeDefinitionOrAdditionalInfo=False,\n",
    "):\n",
    "    pca = PCA(n_components=percentage_of_variance_to_explain, random_state=42)\n",
    "    pca.fit(X)\n",
    "    pca_loadings = pca.components_\n",
    "\n",
    "    loadings_information = []\n",
    "    for loading in pca_loadings:\n",
    "        cur_loading_features_info = get_most_important_features_from_pca_loading_set(\n",
    "            loading, n_most_important_features_from_loading\n",
    "        )\n",
    "        loadings_information.append(cur_loading_features_info)\n",
    "\n",
    "    num_principal_components = len(pca.explained_variance_ratio_)\n",
    "\n",
    "    print(\n",
    "        f\"in order to explain {percentage_of_variance_to_explain * 100} percentage of the variance with pca it requires\"\n",
    "    )\n",
    "    print(f\"{num_principal_components} principal components\")\n",
    "    print(\n",
    "        f\"the most important feature names, for the top {n_most_important_features_from_loading} from each PC, are\\n\"\n",
    "    )\n",
    "\n",
    "    # print the most important value names\n",
    "    for i in range(0, len(loadings_information)):\n",
    "        # print('\\n')\n",
    "        print(\"---------\")\n",
    "        print(\n",
    "            f\"For Principal Component {i+1}, the most important features names are:\\n\"\n",
    "        )\n",
    "        # print('\\n')\n",
    "        cur_loadings_info = loadings_information[i]\n",
    "\n",
    "        cur_loadings_names = cur_loadings_info[\"most_important_feature_names\"]\n",
    "        cur_loadings_values = cur_loadings_info[\"most_important_feature_values\"]\n",
    "        cur_loadings_codes = cur_loadings_info[\"most_important_codes\"]\n",
    "        cur_loadings_definitions_or_additional_info = cur_loadings_info[\n",
    "            \"most_important_definitions_or_additional_info\"\n",
    "        ]\n",
    "        # most_important_definitions_or_additional_info\n",
    "\n",
    "        for code, value, name, definition_or_additional_info in zip(\n",
    "            cur_loadings_codes,\n",
    "            cur_loadings_values,\n",
    "            cur_loadings_names,\n",
    "            cur_loadings_definitions_or_additional_info,\n",
    "        ):\n",
    "            print(name)\n",
    "\n",
    "            if includeValues:\n",
    "                print(f\"with value {value}\")\n",
    "\n",
    "            if includeDefinitionOrAdditionalInfo:\n",
    "                print(definition_or_additional_info)\n",
    "        print(\"\\n\")"
   ]
  },
  {
   "cell_type": "code",
   "execution_count": 89,
   "metadata": {},
   "outputs": [
    {
     "name": "stdout",
     "output_type": "stream",
     "text": [
      "in order to explain 80.0 percentage of the variance with pca it requires\n",
      "17 principal components\n",
      "the most important feature names, for the top 5 from each PC, are\n",
      "\n",
      "---------\n",
      "For Principal Component 1, the most important features names are:\n",
      "\n",
      "Paid leave of at least 14 weeks available to mothers (1=yes; 0=no)\n",
      "with value 0.06794199650536144\n",
      "There are periods of absence due to childcare accounted for in pension benefits (1=yes; 0=no)\n",
      "with value 0.06563954219032192\n",
      "Enrolment in lower secondary education, female (number)\n",
      "with value 0.06328470775380518\n",
      "Primary education, pupils\n",
      "with value 0.06304078994328643\n",
      "Enrolment in primary education, female (number)\n",
      "with value 0.06289246667113423\n",
      "\n",
      "\n",
      "---------\n",
      "For Principal Component 2, the most important features names are:\n",
      "\n",
      "A woman can sign a contract in the same way as a man (1=yes; 0=no)\n",
      "with value 0.13351260165312756\n",
      "The law prohibits discrimination in employment based on gender (1=yes; 0=no)\n",
      "with value 0.12596759346794192\n",
      "There is legislation on sexual harassment in employment (1=yes; 0=no)\n",
      "with value 0.12522154295283483\n",
      "Criminal penalties or civil remedies exist for sexual harassment in employment (1=yes; 0=no)\n",
      "with value 0.12427328175369244\n",
      "Law mandates equal remuneration for females and males for work of equal value (1=yes; 0=no)\n",
      "with value 0.1075462268411729\n",
      "\n",
      "\n",
      "---------\n",
      "For Principal Component 3, the most important features names are:\n",
      "\n",
      "The age at which men and women can retire with partial pension benefits is the same (1=yes; 0=no)\n",
      "with value 0.2151922257530216\n",
      "The age at which men and women can retire with full pension benefits is the same (1=yes; 0=no)\n",
      "with value 0.1739990760606971\n",
      "Mortality from CVD, cancer, diabetes or CRD between exact ages 30 and 70, male (%)\n",
      "with value 0.15273605644325547\n",
      "Mortality from CVD, cancer, diabetes or CRD between exact ages 30 and 70 (%)\n",
      "with value 0.14495442195663225\n",
      "There is legislation on sexual harassment in employment (1=yes; 0=no)\n",
      "with value 0.1425462984294617\n",
      "\n",
      "\n",
      "---------\n",
      "For Principal Component 4, the most important features names are:\n",
      "\n",
      "Criminal penalties or civil remedies exist for sexual harassment in employment (1=yes; 0=no)\n",
      "with value 0.2669225667328685\n",
      "There is legislation on sexual harassment in employment (1=yes; 0=no)\n",
      "with value 0.25936176537993233\n",
      "Paid leave is available to fathers (1=yes; 0=no)\n",
      "with value 0.17641117625747366\n",
      "A woman can sign a contract in the same way as a man (1=yes; 0=no)\n",
      "with value 0.17186347533146576\n",
      "There is legislation specifically addressing domestic violence (1=yes; 0=no)\n",
      "with value 0.16059364741830487\n",
      "\n",
      "\n",
      "---------\n",
      "For Principal Component 5, the most important features names are:\n",
      "\n",
      "Paid leave is available to fathers (1=yes; 0=no)\n",
      "with value 0.2228974793604905\n",
      "A woman can work in an industrial job in the same way as a man (1=yes; 0=no)\n",
      "with value 0.18684062352724398\n",
      "Repeaters in Grade 6 of primary education, female (number)\n",
      "with value 0.15328442867278358\n",
      "A woman has the same rights to remarry as a man (1=yes; 0=no)\n",
      "with value 0.15282976392395828\n",
      "Repeaters in Grade 6 of primary education, both sexes (number)\n",
      "with value 0.14033409649609668\n",
      "\n",
      "\n",
      "---------\n",
      "For Principal Component 6, the most important features names are:\n",
      "\n",
      "Law mandates equal remuneration for females and males for work of equal value (1=yes; 0=no)\n",
      "with value 0.1731093402052645\n",
      "There is legislation specifically addressing domestic violence (1=yes; 0=no)\n",
      "with value 0.15166724882192267\n",
      "The government administers 100% of maternity leave benefits (1=yes; 0=no)\n",
      "with value 0.1498315665026662\n",
      "A woman can work in a job deemed dangerous in the same way as a man (1=yes; 0=no)\n",
      "with value 0.13161526004697002\n",
      "Percentage of enrolment in tertiary education in private institutions (%)\n",
      "with value 0.12643384287736842\n",
      "\n",
      "\n",
      "---------\n",
      "For Principal Component 7, the most important features names are:\n",
      "\n",
      "A woman can work in a job deemed dangerous in the same way as a man (1=yes; 0=no)\n",
      "with value 0.2757787403964922\n",
      "The age at which men and women can retire with partial pension benefits is the same (1=yes; 0=no)\n",
      "with value 0.14677214436459518\n",
      "Percentage of enrolment in tertiary education in private institutions (%)\n",
      "with value 0.14288153665954972\n",
      "The age at which men and women can retire with full pension benefits is the same (1=yes; 0=no)\n",
      "with value 0.13976972684352038\n",
      "Law mandates equal remuneration for females and males for work of equal value (1=yes; 0=no)\n",
      "with value 0.13702729528777013\n",
      "\n",
      "\n",
      "---------\n",
      "For Principal Component 8, the most important features names are:\n",
      "\n",
      "The age at which men and women can retire with full pension benefits is the same (1=yes; 0=no)\n",
      "with value 0.27914402617742623\n",
      "A woman can work in a job deemed dangerous in the same way as a man (1=yes; 0=no)\n",
      "with value 0.16078297930453636\n",
      "There is legislation specifically addressing domestic violence (1=yes; 0=no)\n",
      "with value 0.14327286949604104\n",
      "Official entrance age to early childhood education (years)\n",
      "with value 0.14136743501285806\n",
      "A woman has the same rights to remarry as a man (1=yes; 0=no)\n",
      "with value 0.12878931045201303\n",
      "\n",
      "\n",
      "---------\n",
      "For Principal Component 9, the most important features names are:\n",
      "\n",
      "There is paid parental leave (1=yes; 0=no)\n",
      "with value 0.23778353593622797\n",
      "Paid leave is available to fathers (1=yes; 0=no)\n",
      "with value 0.23505815771171248\n",
      "Law mandates equal remuneration for females and males for work of equal value (1=yes; 0=no)\n",
      "with value 0.23004295922044984\n",
      "The age at which men and women can retire with full pension benefits is the same (1=yes; 0=no)\n",
      "with value 0.2251047086016799\n",
      "Theoretical duration of post-secondary non-tertiary education (years)\n",
      "with value 0.18970698253933016\n",
      "\n",
      "\n",
      "---------\n",
      "For Principal Component 10, the most important features names are:\n",
      "\n",
      "The law prohibits discrimination in employment based on gender (1=yes; 0=no)\n",
      "with value 0.240060757974593\n",
      "A woman can work in a job deemed dangerous in the same way as a man (1=yes; 0=no)\n",
      "with value 0.19576243907739127\n",
      "Domestic private health expenditure (% of current health expenditure)\n",
      "with value 0.18638268982386214\n",
      "Domestic general government health expenditure (% of current health expenditure)\n",
      "with value 0.1843055369533253\n",
      "A woman can work in an industrial job in the same way as a man (1=yes; 0=no)\n",
      "with value 0.18179239663969451\n",
      "\n",
      "\n",
      "---------\n",
      "For Principal Component 11, the most important features names are:\n",
      "\n",
      "The government administers 100% of maternity leave benefits (1=yes; 0=no)\n",
      "with value 0.2547244338370771\n",
      "A woman can work in an industrial job in the same way as a man (1=yes; 0=no)\n",
      "with value 0.23768960326086938\n",
      "The age at which men and women can retire with full pension benefits is the same (1=yes; 0=no)\n",
      "with value 0.2241640236783087\n",
      "A woman can work in a job deemed dangerous in the same way as a man (1=yes; 0=no)\n",
      "with value 0.20958877122280303\n",
      "Prevalence of HIV, total (% of population ages 15-49)\n",
      "with value 0.14885394152614298\n",
      "\n",
      "\n",
      "---------\n",
      "For Principal Component 12, the most important features names are:\n",
      "\n",
      "A woman has the same rights to remarry as a man (1=yes; 0=no)\n",
      "with value 0.3482188948097308\n",
      "There is paid parental leave (1=yes; 0=no)\n",
      "with value 0.27098693274448604\n",
      "Law mandates equal remuneration for females and males for work of equal value (1=yes; 0=no)\n",
      "with value 0.2599320299661642\n",
      "The age at which men and women can retire with partial pension benefits is the same (1=yes; 0=no)\n",
      "with value 0.18827314297778353\n",
      "There are periods of absence due to childcare accounted for in pension benefits (1=yes; 0=no)\n",
      "with value 0.1813985430137463\n",
      "\n",
      "\n",
      "---------\n",
      "For Principal Component 13, the most important features names are:\n",
      "\n",
      "The age at which men and women can retire with full pension benefits is the same (1=yes; 0=no)\n",
      "with value 0.21220036715079524\n",
      "Theoretical duration of post-secondary non-tertiary education (years)\n",
      "with value 0.20686448788492373\n",
      "A woman has the same rights to remarry as a man (1=yes; 0=no)\n",
      "with value 0.16299915348483873\n",
      "A woman can work in an industrial job in the same way as a man (1=yes; 0=no)\n",
      "with value 0.1624540427844252\n",
      "The law prohibits discrimination in employment based on gender (1=yes; 0=no)\n",
      "with value 0.1432665332323769\n",
      "\n",
      "\n",
      "---------\n",
      "For Principal Component 14, the most important features names are:\n",
      "\n",
      "Lower secondary school starting age (years)\n",
      "with value 0.19244285053698915\n",
      "The age at which men and women can retire with partial pension benefits is the same (1=yes; 0=no)\n",
      "with value 0.1788753217648332\n",
      "Percentage of enrolment in pre-primary education in private institutions (%)\n",
      "with value 0.17860226019286363\n",
      "Theoretical duration of lower secondary education (years)\n",
      "with value 0.16103460143150594\n",
      "A woman can sign a contract in the same way as a man (1=yes; 0=no)\n",
      "with value 0.14575705696554092\n",
      "\n",
      "\n",
      "---------\n",
      "For Principal Component 15, the most important features names are:\n",
      "\n",
      "A woman can work in an industrial job in the same way as a man (1=yes; 0=no)\n",
      "with value 0.2482478633820249\n",
      "There is legislation specifically addressing domestic violence (1=yes; 0=no)\n",
      "with value 0.22770961374792614\n",
      "A woman can work in a job deemed dangerous in the same way as a man (1=yes; 0=no)\n",
      "with value 0.20012939310017855\n",
      "Men and women have equal ownership rights to immovable property (1=yes; 0=no)\n",
      "with value 0.18754560034192777\n",
      "The law grants spouses equal administrative authority over assets during marriage (1=yes; 0=no)\n",
      "with value 0.18754560034192777\n",
      "\n",
      "\n",
      "---------\n",
      "For Principal Component 16, the most important features names are:\n",
      "\n",
      "There is paid parental leave (1=yes; 0=no)\n",
      "with value 0.22701425523646168\n",
      "A woman can sign a contract in the same way as a man (1=yes; 0=no)\n",
      "with value 0.1938283753497331\n",
      "Paid leave of at least 14 weeks available to mothers (1=yes; 0=no)\n",
      "with value 0.16268514758901556\n",
      "There are periods of absence due to childcare accounted for in pension benefits (1=yes; 0=no)\n",
      "with value 0.1350711541594978\n",
      "Official entrance age to early childhood education (years)\n",
      "with value 0.13308653731839168\n",
      "\n",
      "\n",
      "---------\n",
      "For Principal Component 17, the most important features names are:\n",
      "\n",
      "Law mandates equal remuneration for females and males for work of equal value (1=yes; 0=no)\n",
      "with value 0.20718280586433446\n",
      "Theoretical duration of post-secondary non-tertiary education (years)\n",
      "with value 0.1935583412682374\n",
      "A woman can obtain a judgment of divorce in the same way as a man (1=yes; 0=no)\n",
      "with value 0.16491589482949953\n",
      "There are periods of absence due to childcare accounted for in pension benefits (1=yes; 0=no)\n",
      "with value 0.1628774095567858\n",
      "Vocational and Technical enrolment (% of total secondary enrolment), female\n",
      "with value 0.15344614222017616\n",
      "\n",
      "\n"
     ]
    }
   ],
   "source": [
    "variance_percentage_to_explain = 0.8\n",
    "num_top_features_per_pc = 5\n",
    "\n",
    "pca_with_detailed_variance_and_components_info(\n",
    "    variance_percentage_to_explain,\n",
    "    includeValues=True,\n",
    "    n_most_important_features_from_loading=num_top_features_per_pc,\n",
    ")"
   ]
  },
  {
   "cell_type": "code",
   "execution_count": 90,
   "metadata": {},
   "outputs": [],
   "source": [
    "# returns a list of the top feature name for each principal component\n",
    "def get_top_feature_for_each_pc(\n",
    "    percentage_of_variance_to_explain, X=X, n_most_important_features_from_loading=5\n",
    "):\n",
    "    pca = PCA(n_components=percentage_of_variance_to_explain, random_state=42)\n",
    "    pca.fit(X)\n",
    "    pca_loadings = pca.components_\n",
    "\n",
    "    loadings_information = []\n",
    "    for loading in pca_loadings:\n",
    "        cur_loading_features_info = get_most_important_features_from_pca_loading_set(\n",
    "            loading, n_most_important_features_from_loading\n",
    "        )\n",
    "        loadings_information.append(cur_loading_features_info)\n",
    "\n",
    "    top_feature_name_per_pc = []\n",
    "    for i in range(0, len(loadings_information)):\n",
    "        cur_loadings_info = loadings_information[i]\n",
    "\n",
    "        cur_features_names = cur_loadings_info[\"most_important_feature_names\"]\n",
    "        cur_top_feature = cur_features_names[0]\n",
    "        top_feature_name_per_pc.append(cur_top_feature)\n",
    "        # cur_loadings_values = cur_loadings_info['most_important_features_values']\n",
    "        # cur_loadings_codes = cur_loadings_info['most_important_features_world_bank_codes']\n",
    "        # cur_loadings_definitions = cur_loadings_info['most_important_features_world_bank_definitions']\n",
    "\n",
    "    return top_feature_name_per_pc"
   ]
  },
  {
   "cell_type": "code",
   "execution_count": 91,
   "metadata": {},
   "outputs": [
    {
     "data": {
      "text/html": [
       "<h2>Assuming you want to explain 95.0 percent of the PC variation in the World Bank Dataset, \n",
       "              the top feature names that explain this per principal component are:</h2>\n"
      ],
      "text/plain": [
       "<IPython.core.display.HTML object>"
      ]
     },
     "metadata": {},
     "output_type": "display_data"
    },
    {
     "data": {
      "text/html": [
       "<strong>PC 1:</strong> Paid leave of at least 14 weeks available to mothers (1=yes; 0=no)"
      ],
      "text/plain": [
       "<IPython.core.display.HTML object>"
      ]
     },
     "metadata": {},
     "output_type": "display_data"
    },
    {
     "data": {
      "text/html": [
       "<strong>PC 2:</strong> A woman can sign a contract in the same way as a man (1=yes; 0=no)"
      ],
      "text/plain": [
       "<IPython.core.display.HTML object>"
      ]
     },
     "metadata": {},
     "output_type": "display_data"
    },
    {
     "data": {
      "text/html": [
       "<strong>PC 3:</strong> The age at which men and women can retire with partial pension benefits is the same (1=yes; 0=no)"
      ],
      "text/plain": [
       "<IPython.core.display.HTML object>"
      ]
     },
     "metadata": {},
     "output_type": "display_data"
    },
    {
     "data": {
      "text/html": [
       "<strong>PC 4:</strong> Criminal penalties or civil remedies exist for sexual harassment in employment (1=yes; 0=no)"
      ],
      "text/plain": [
       "<IPython.core.display.HTML object>"
      ]
     },
     "metadata": {},
     "output_type": "display_data"
    },
    {
     "data": {
      "text/html": [
       "<strong>PC 5:</strong> Paid leave is available to fathers (1=yes; 0=no)"
      ],
      "text/plain": [
       "<IPython.core.display.HTML object>"
      ]
     },
     "metadata": {},
     "output_type": "display_data"
    },
    {
     "data": {
      "text/html": [
       "<strong>PC 6:</strong> Law mandates equal remuneration for females and males for work of equal value (1=yes; 0=no)"
      ],
      "text/plain": [
       "<IPython.core.display.HTML object>"
      ]
     },
     "metadata": {},
     "output_type": "display_data"
    },
    {
     "data": {
      "text/html": [
       "<strong>PC 7:</strong> A woman can work in a job deemed dangerous in the same way as a man (1=yes; 0=no)"
      ],
      "text/plain": [
       "<IPython.core.display.HTML object>"
      ]
     },
     "metadata": {},
     "output_type": "display_data"
    },
    {
     "data": {
      "text/html": [
       "<strong>PC 8:</strong> The age at which men and women can retire with full pension benefits is the same (1=yes; 0=no)"
      ],
      "text/plain": [
       "<IPython.core.display.HTML object>"
      ]
     },
     "metadata": {},
     "output_type": "display_data"
    },
    {
     "data": {
      "text/html": [
       "<strong>PC 9:</strong> There is paid parental leave (1=yes; 0=no)"
      ],
      "text/plain": [
       "<IPython.core.display.HTML object>"
      ]
     },
     "metadata": {},
     "output_type": "display_data"
    },
    {
     "data": {
      "text/html": [
       "<strong>PC 10:</strong> The law prohibits discrimination in employment based on gender (1=yes; 0=no)"
      ],
      "text/plain": [
       "<IPython.core.display.HTML object>"
      ]
     },
     "metadata": {},
     "output_type": "display_data"
    },
    {
     "data": {
      "text/html": [
       "<strong>PC 11:</strong> The government administers 100% of maternity leave benefits (1=yes; 0=no)"
      ],
      "text/plain": [
       "<IPython.core.display.HTML object>"
      ]
     },
     "metadata": {},
     "output_type": "display_data"
    },
    {
     "data": {
      "text/html": [
       "<strong>PC 12:</strong> A woman has the same rights to remarry as a man (1=yes; 0=no)"
      ],
      "text/plain": [
       "<IPython.core.display.HTML object>"
      ]
     },
     "metadata": {},
     "output_type": "display_data"
    },
    {
     "data": {
      "text/html": [
       "<strong>PC 13:</strong> The age at which men and women can retire with full pension benefits is the same (1=yes; 0=no)"
      ],
      "text/plain": [
       "<IPython.core.display.HTML object>"
      ]
     },
     "metadata": {},
     "output_type": "display_data"
    },
    {
     "data": {
      "text/html": [
       "<strong>PC 14:</strong> Lower secondary school starting age (years)"
      ],
      "text/plain": [
       "<IPython.core.display.HTML object>"
      ]
     },
     "metadata": {},
     "output_type": "display_data"
    },
    {
     "data": {
      "text/html": [
       "<strong>PC 15:</strong> A woman can work in an industrial job in the same way as a man (1=yes; 0=no)"
      ],
      "text/plain": [
       "<IPython.core.display.HTML object>"
      ]
     },
     "metadata": {},
     "output_type": "display_data"
    },
    {
     "data": {
      "text/html": [
       "<strong>PC 16:</strong> There is paid parental leave (1=yes; 0=no)"
      ],
      "text/plain": [
       "<IPython.core.display.HTML object>"
      ]
     },
     "metadata": {},
     "output_type": "display_data"
    },
    {
     "data": {
      "text/html": [
       "<strong>PC 17:</strong> Law mandates equal remuneration for females and males for work of equal value (1=yes; 0=no)"
      ],
      "text/plain": [
       "<IPython.core.display.HTML object>"
      ]
     },
     "metadata": {},
     "output_type": "display_data"
    },
    {
     "data": {
      "text/html": [
       "<strong>PC 18:</strong> A woman can work at night in the same way as a man (1=yes; 0=no)"
      ],
      "text/plain": [
       "<IPython.core.display.HTML object>"
      ]
     },
     "metadata": {},
     "output_type": "display_data"
    },
    {
     "data": {
      "text/html": [
       "<strong>PC 19:</strong> The mandatory retirement age for men and women is the same (1=yes; 0=no)"
      ],
      "text/plain": [
       "<IPython.core.display.HTML object>"
      ]
     },
     "metadata": {},
     "output_type": "display_data"
    },
    {
     "data": {
      "text/html": [
       "<strong>PC 20:</strong> There is legislation specifically addressing domestic violence (1=yes; 0=no)"
      ],
      "text/plain": [
       "<IPython.core.display.HTML object>"
      ]
     },
     "metadata": {},
     "output_type": "display_data"
    },
    {
     "data": {
      "text/html": [
       "<strong>PC 21:</strong> Paid leave is available to fathers (1=yes; 0=no)"
      ],
      "text/plain": [
       "<IPython.core.display.HTML object>"
      ]
     },
     "metadata": {},
     "output_type": "display_data"
    },
    {
     "data": {
      "text/html": [
       "<strong>PC 22:</strong> The government administers 100% of maternity leave benefits (1=yes; 0=no)"
      ],
      "text/plain": [
       "<IPython.core.display.HTML object>"
      ]
     },
     "metadata": {},
     "output_type": "display_data"
    },
    {
     "data": {
      "text/html": [
       "<strong>PC 23:</strong> There is paid parental leave (1=yes; 0=no)"
      ],
      "text/plain": [
       "<IPython.core.display.HTML object>"
      ]
     },
     "metadata": {},
     "output_type": "display_data"
    },
    {
     "data": {
      "text/html": [
       "<strong>PC 24:</strong> A woman can sign a contract in the same way as a man (1=yes; 0=no)"
      ],
      "text/plain": [
       "<IPython.core.display.HTML object>"
      ]
     },
     "metadata": {},
     "output_type": "display_data"
    },
    {
     "data": {
      "text/html": [
       "<strong>PC 25:</strong> There is paid parental leave (1=yes; 0=no)"
      ],
      "text/plain": [
       "<IPython.core.display.HTML object>"
      ]
     },
     "metadata": {},
     "output_type": "display_data"
    },
    {
     "data": {
      "text/html": [
       "<strong>PC 26:</strong> The law prohibits discrimination in employment based on gender (1=yes; 0=no)"
      ],
      "text/plain": [
       "<IPython.core.display.HTML object>"
      ]
     },
     "metadata": {},
     "output_type": "display_data"
    },
    {
     "data": {
      "text/html": [
       "<strong>PC 27:</strong> A woman can work in an industrial job in the same way as a man (1=yes; 0=no)"
      ],
      "text/plain": [
       "<IPython.core.display.HTML object>"
      ]
     },
     "metadata": {},
     "output_type": "display_data"
    },
    {
     "data": {
      "text/html": [
       "<strong>PC 28:</strong> Law mandates equal remuneration for females and males for work of equal value (1=yes; 0=no)"
      ],
      "text/plain": [
       "<IPython.core.display.HTML object>"
      ]
     },
     "metadata": {},
     "output_type": "display_data"
    },
    {
     "data": {
      "text/html": [
       "<strong>PC 29:</strong> Paid leave is available to fathers (1=yes; 0=no)"
      ],
      "text/plain": [
       "<IPython.core.display.HTML object>"
      ]
     },
     "metadata": {},
     "output_type": "display_data"
    },
    {
     "data": {
      "text/html": [
       "<strong>PC 30:</strong> The age at which men and women can retire with full pension benefits is the same (1=yes; 0=no)"
      ],
      "text/plain": [
       "<IPython.core.display.HTML object>"
      ]
     },
     "metadata": {},
     "output_type": "display_data"
    },
    {
     "data": {
      "text/html": [
       "<strong>PC 31:</strong> A woman can work in a job deemed dangerous in the same way as a man (1=yes; 0=no)"
      ],
      "text/plain": [
       "<IPython.core.display.HTML object>"
      ]
     },
     "metadata": {},
     "output_type": "display_data"
    },
    {
     "data": {
      "text/html": [
       "<strong>PC 32:</strong> There is legislation specifically addressing domestic violence (1=yes; 0=no)"
      ],
      "text/plain": [
       "<IPython.core.display.HTML object>"
      ]
     },
     "metadata": {},
     "output_type": "display_data"
    },
    {
     "data": {
      "text/html": [
       "<strong>PC 33:</strong> Official entrance age to post-secondary non-tertiary education (years)"
      ],
      "text/plain": [
       "<IPython.core.display.HTML object>"
      ]
     },
     "metadata": {},
     "output_type": "display_data"
    },
    {
     "data": {
      "text/html": [
       "<strong>PC 34:</strong> Theoretical duration of upper secondary education (years)"
      ],
      "text/plain": [
       "<IPython.core.display.HTML object>"
      ]
     },
     "metadata": {},
     "output_type": "display_data"
    },
    {
     "data": {
      "text/html": [
       "<strong>PC 35:</strong> A woman can sign a contract in the same way as a man (1=yes; 0=no)"
      ],
      "text/plain": [
       "<IPython.core.display.HTML object>"
      ]
     },
     "metadata": {},
     "output_type": "display_data"
    },
    {
     "data": {
      "text/html": [
       "<strong>PC 36:</strong> The law prohibits discrimination in employment based on gender (1=yes; 0=no)"
      ],
      "text/plain": [
       "<IPython.core.display.HTML object>"
      ]
     },
     "metadata": {},
     "output_type": "display_data"
    },
    {
     "data": {
      "text/html": [
       "<strong>PC 37:</strong> There is legislation specifically addressing domestic violence (1=yes; 0=no)"
      ],
      "text/plain": [
       "<IPython.core.display.HTML object>"
      ]
     },
     "metadata": {},
     "output_type": "display_data"
    },
    {
     "data": {
      "text/html": [
       "<strong>PC 38:</strong> Paid leave is available to fathers (1=yes; 0=no)"
      ],
      "text/plain": [
       "<IPython.core.display.HTML object>"
      ]
     },
     "metadata": {},
     "output_type": "display_data"
    },
    {
     "data": {
      "text/html": [
       "<strong>PC 39:</strong> The law prohibits discrimination in employment based on gender (1=yes; 0=no)"
      ],
      "text/plain": [
       "<IPython.core.display.HTML object>"
      ]
     },
     "metadata": {},
     "output_type": "display_data"
    },
    {
     "data": {
      "text/html": [
       "<strong>PC 40:</strong> Percentage of enrolment in pre-primary education in private institutions (%)"
      ],
      "text/plain": [
       "<IPython.core.display.HTML object>"
      ]
     },
     "metadata": {},
     "output_type": "display_data"
    },
    {
     "data": {
      "text/html": [
       "<strong>PC 41:</strong> There are periods of absence due to childcare accounted for in pension benefits (1=yes; 0=no)"
      ],
      "text/plain": [
       "<IPython.core.display.HTML object>"
      ]
     },
     "metadata": {},
     "output_type": "display_data"
    },
    {
     "data": {
      "text/html": [
       "<strong>PC 42:</strong> Paid leave of at least 14 weeks available to mothers (1=yes; 0=no)"
      ],
      "text/plain": [
       "<IPython.core.display.HTML object>"
      ]
     },
     "metadata": {},
     "output_type": "display_data"
    },
    {
     "data": {
      "text/html": [
       "<strong>PC 43:</strong> The mandatory retirement age for men and women is the same (1=yes; 0=no)"
      ],
      "text/plain": [
       "<IPython.core.display.HTML object>"
      ]
     },
     "metadata": {},
     "output_type": "display_data"
    },
    {
     "data": {
      "text/html": [
       "<strong>PC 44:</strong> Immunization, HepB3 (% of one-year-old children)"
      ],
      "text/plain": [
       "<IPython.core.display.HTML object>"
      ]
     },
     "metadata": {},
     "output_type": "display_data"
    },
    {
     "data": {
      "text/html": [
       "<strong>PC 45:</strong> The age at which men and women can retire with partial pension benefits is the same (1=yes; 0=no)"
      ],
      "text/plain": [
       "<IPython.core.display.HTML object>"
      ]
     },
     "metadata": {},
     "output_type": "display_data"
    },
    {
     "data": {
      "text/html": [
       "<strong>PC 46:</strong> Law mandates equal remuneration for females and males for work of equal value (1=yes; 0=no)"
      ],
      "text/plain": [
       "<IPython.core.display.HTML object>"
      ]
     },
     "metadata": {},
     "output_type": "display_data"
    },
    {
     "data": {
      "text/html": [
       "<strong>PC 47:</strong> Immunization, HepB3 (% of one-year-old children)"
      ],
      "text/plain": [
       "<IPython.core.display.HTML object>"
      ]
     },
     "metadata": {},
     "output_type": "display_data"
    },
    {
     "data": {
      "text/html": [
       "<strong>PC 48:</strong> Women's share of population ages 15+ living with HIV (%)"
      ],
      "text/plain": [
       "<IPython.core.display.HTML object>"
      ]
     },
     "metadata": {},
     "output_type": "display_data"
    },
    {
     "data": {
      "text/html": [
       "<strong>PC 49:</strong> Paid leave of at least 14 weeks available to mothers (1=yes; 0=no)"
      ],
      "text/plain": [
       "<IPython.core.display.HTML object>"
      ]
     },
     "metadata": {},
     "output_type": "display_data"
    },
    {
     "data": {
      "text/html": [
       "<strong>PC 50:</strong> There is legislation specifically addressing domestic violence (1=yes; 0=no)"
      ],
      "text/plain": [
       "<IPython.core.display.HTML object>"
      ]
     },
     "metadata": {},
     "output_type": "display_data"
    },
    {
     "data": {
      "text/html": [
       "<strong>PC 51:</strong> The law provides for the valuation of nonmonetary contributions (1=yes; 0=no)"
      ],
      "text/plain": [
       "<IPython.core.display.HTML object>"
      ]
     },
     "metadata": {},
     "output_type": "display_data"
    },
    {
     "data": {
      "text/html": [
       "<strong>PC 52:</strong> Dismissal of pregnant workers is prohibited (1=yes; 0=no)"
      ],
      "text/plain": [
       "<IPython.core.display.HTML object>"
      ]
     },
     "metadata": {},
     "output_type": "display_data"
    },
    {
     "data": {
      "text/html": [
       "<strong>PC 53:</strong> Paid leave is available to fathers (1=yes; 0=no)"
      ],
      "text/plain": [
       "<IPython.core.display.HTML object>"
      ]
     },
     "metadata": {},
     "output_type": "display_data"
    }
   ],
   "source": [
    "variance_percentage_to_explain = 0.95\n",
    "\n",
    "top_feature_names_for_pc_loadings = get_top_feature_for_each_pc(\n",
    "    variance_percentage_to_explain\n",
    ")\n",
    "\n",
    "if OECD:\n",
    "    dataset_using = \"OECD\"\n",
    "else:\n",
    "    dataset_using = \"World Bank Dataset\"\n",
    "\n",
    "display(\n",
    "    HTML(\n",
    "        f\"\"\"<h2>Assuming you want to explain {variance_percentage_to_explain * 100} percent of the PC variation in the {dataset_using}, \n",
    "              the top feature names that explain this per principal component are:</h2>\\n\"\"\"\n",
    "    )\n",
    ")\n",
    "\n",
    "for i in range(0, len(top_feature_names_for_pc_loadings)):\n",
    "    # print(f\"for PC {i+1} the top explaining feature is: {top_feature_names_for_pc_loadings[i]}\")\n",
    "    # print(f\"PC {i+1}: {top_feature_names_for_pc_loadings[i]}\")\n",
    "    display(HTML(f\"<strong>PC {i+1}:</strong> {top_feature_names_for_pc_loadings[i]}\"))\n",
    "    # print(\"\\n\")"
   ]
  },
  {
   "cell_type": "code",
   "execution_count": null,
   "metadata": {},
   "outputs": [],
   "source": []
  }
 ],
 "metadata": {
  "kernelspec": {
   "display_name": "env",
   "language": "python",
   "name": "python3"
  },
  "language_info": {
   "codemirror_mode": {
    "name": "ipython",
    "version": 3
   },
   "file_extension": ".py",
   "mimetype": "text/x-python",
   "name": "python",
   "nbconvert_exporter": "python",
   "pygments_lexer": "ipython3",
   "version": "3.10.12"
  },
  "orig_nbformat": 4
 },
 "nbformat": 4,
 "nbformat_minor": 2
}
