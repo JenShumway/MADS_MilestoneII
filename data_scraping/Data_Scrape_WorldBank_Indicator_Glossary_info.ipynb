{
 "cells": [
  {
   "cell_type": "markdown",
   "metadata": {},
   "source": [
    "This file will data scrape from the World Bank Dataset using the World Bank API <br/><br/>\n",
    "It will go through all of our World Bank indicator codes <br/><br/>\n",
    "and create a csv file with a row for each indicator code with the following column names: <br/><br/>\n",
    "indicator_code, indicator_name, long_definition"
   ]
  },
  {
   "cell_type": "code",
   "execution_count": null,
   "metadata": {},
   "outputs": [],
   "source": [
    "import requests\n",
    "import numpy as np\n",
    "import pandas as pd"
   ]
  },
  {
   "cell_type": "code",
   "execution_count": null,
   "metadata": {},
   "outputs": [],
   "source": [
    "# AllMerged_Threshold_85_n3_MMRT.csv\n",
    "merged_worldbank_data_1 = pd.read_csv('../WorldBankDatasets/Cleaned/AllMerged_Threshold_85_n3_MMRT.csv')\n",
    "merged_worldbank_data_2 = pd.read_csv('../WorldBankDatasets/Cleaned/AllMerged_Threshold_85_n3_MMRTNE.csv')"
   ]
  },
  {
   "cell_type": "code",
   "execution_count": null,
   "metadata": {},
   "outputs": [],
   "source": [
    "column_names_1 = merged_worldbank_data_1.columns"
   ]
  },
  {
   "cell_type": "code",
   "execution_count": null,
   "metadata": {},
   "outputs": [],
   "source": [
    "len(column_names_1)"
   ]
  },
  {
   "cell_type": "code",
   "execution_count": null,
   "metadata": {},
   "outputs": [],
   "source": [
    "# column_names_2 = merged_worldbank_data_1.columns"
   ]
  },
  {
   "cell_type": "code",
   "execution_count": null,
   "metadata": {},
   "outputs": [],
   "source": [
    "# for column in column_names_1:\n",
    "#     if column not in column_names_2:\n",
    "#         print(column)"
   ]
  },
  {
   "cell_type": "code",
   "execution_count": null,
   "metadata": {},
   "outputs": [],
   "source": [
    "# for column in column_names_2:\n",
    "#     if column not in column_names_1:\n",
    "#         print(column)"
   ]
  },
  {
   "cell_type": "code",
   "execution_count": null,
   "metadata": {},
   "outputs": [],
   "source": [
    "# At the moment, the columns for column_names_1 and column_names_2 are the same"
   ]
  },
  {
   "cell_type": "code",
   "execution_count": null,
   "metadata": {},
   "outputs": [],
   "source": [
    "def get_worldbank_indicator_detailed_info(indicator_code):\n",
    "    response = requests.get(f\"http://api.worldbank.org/v2/indicator/{indicator_code}?format=json\")\n",
    "    data = response.json()\n",
    "    \n",
    "    # extract the useful definition information\n",
    "    \n",
    "    useful_data = {}\n",
    "    useful_data['indicator_code'] = indicator_code\n",
    "\n",
    "    # try to add a indicator name\n",
    "    try:\n",
    "        useful_data['indicator_name'] = data[1][0]['name']\n",
    "    \n",
    "    except:\n",
    "        useful_data['indicator_name'] = 'indicator name missing'\n",
    "    \n",
    "    # try to add a definition\n",
    "    try:\n",
    "        useful_data['long_definition'] = data[1][0]['sourceNote']\n",
    "    \n",
    "    except:\n",
    "        useful_data['long_definition'] = 'definition missing'\n",
    "\n",
    "    return useful_data"
   ]
  },
  {
   "cell_type": "code",
   "execution_count": null,
   "metadata": {},
   "outputs": [],
   "source": [
    "# test = get_worldbank_indicator_detailed_info(\"SL.EMP.OWAC.FE.ZS\")\n",
    "# test = get_worldbank_indicator_detailed_info(\"SG.AGE.FUPN.EQ\")\n",
    "# test = get_worldbank_indicator_detailed_info(\"SH.MED.PHYS.ZS\")"
   ]
  },
  {
   "cell_type": "code",
   "execution_count": null,
   "metadata": {},
   "outputs": [],
   "source": [
    "# test"
   ]
  },
  {
   "cell_type": "code",
   "execution_count": null,
   "metadata": {},
   "outputs": [],
   "source": [
    "# go through all the data and download definition information and more\n",
    "world_bank_indicator_info_list = []\n",
    "# for column in column_names_1[0:50]\n",
    "for column in column_names_1:\n",
    "    cur_data = get_worldbank_indicator_detailed_info(column)\n",
    "    world_bank_indicator_info_list.append(cur_data)"
   ]
  },
  {
   "cell_type": "code",
   "execution_count": null,
   "metadata": {},
   "outputs": [],
   "source": [
    "# world_bank_indicator_info_list"
   ]
  },
  {
   "cell_type": "code",
   "execution_count": null,
   "metadata": {},
   "outputs": [],
   "source": [
    "world_bank_indicator_definition_info = pd.DataFrame(world_bank_indicator_info_list)"
   ]
  },
  {
   "cell_type": "code",
   "execution_count": null,
   "metadata": {},
   "outputs": [],
   "source": [
    "# quoting = 1 below will put all the data in quotes when writing the data which hopefully will prevent errors where it is formatted incorrectly\n",
    "# this is become some data has commas in it, and maybe some has tabs too.\n",
    "world_bank_indicator_definition_info.to_csv('../WorldBankDatasets/Cleaned/World_Bank_Indicator_Definition_Info.csv', sep='\\t', quoting=1)"
   ]
  }
 ],
 "metadata": {
  "kernelspec": {
   "display_name": "Python 3",
   "language": "python",
   "name": "python3"
  },
  "language_info": {
   "codemirror_mode": {
    "name": "ipython",
    "version": 3
   },
   "file_extension": ".py",
   "mimetype": "text/x-python",
   "name": "python",
   "nbconvert_exporter": "python",
   "pygments_lexer": "ipython3",
   "version": "3.10.12"
  }
 },
 "nbformat": 4,
 "nbformat_minor": 2
}
