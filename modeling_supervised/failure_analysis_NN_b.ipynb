{
 "cells": [
  {
   "cell_type": "code",
   "execution_count": 1,
   "metadata": {},
   "outputs": [
    {
     "name": "stderr",
     "output_type": "stream",
     "text": [
      "2023-10-22 04:04:53.324423: I tensorflow/tsl/cuda/cudart_stub.cc:28] Could not find cuda drivers on your machine, GPU will not be used.\n",
      "2023-10-22 04:04:53.364146: I tensorflow/tsl/cuda/cudart_stub.cc:28] Could not find cuda drivers on your machine, GPU will not be used.\n",
      "2023-10-22 04:04:53.364717: I tensorflow/core/platform/cpu_feature_guard.cc:182] This TensorFlow binary is optimized to use available CPU instructions in performance-critical operations.\n",
      "To enable the following instructions: AVX2 FMA, in other operations, rebuild TensorFlow with the appropriate compiler flags.\n",
      "2023-10-22 04:04:54.134398: W tensorflow/compiler/tf2tensorrt/utils/py_utils.cc:38] TF-TRT Warning: Could not find TensorRT\n",
      "Using `tqdm.autonotebook.tqdm` in notebook mode. Use `tqdm.tqdm` instead to force console mode (e.g. in jupyter console)\n"
     ]
    }
   ],
   "source": [
    "import tensorflow as tf\n",
    "from tensorflow import keras\n",
    "import pandas as pd\n",
    "import numpy as np\n",
    "import matplotlib.pyplot as plt\n",
    "tf.keras.utils.set_random_seed(42)\n",
    "import altair as alt\n",
    "import shap\n",
    "# Used for displaying HTML\n",
    "from IPython.display import display, HTML\n",
    "import sys\n",
    "\n",
    "# import utility functions for the World Bank and OECD\n",
    "sys.path.append(\"../utility_functions\")\n",
    "from world_bank_oecd_utility_functions import (\n",
    "    get_indicator_name_from_code,\n",
    "    get_indicator_definition_or_additional_info_from_code,\n",
    ")"
   ]
  },
  {
   "cell_type": "code",
   "execution_count": 2,
   "metadata": {},
   "outputs": [],
   "source": [
    "# import mapping dataframes for mapping the indicator code to the names, definitions and/or additional info\n",
    "mapping_oecd_to_names_and_additional_info_df = pd.read_csv(\n",
    "    \"../OECD/Cleaned/OECD_Indicator_Definition_Info.csv\", delimiter=\",\"\n",
    ")\n",
    "mapping_world_bank_to_names_and_definitions_df = pd.read_csv(\n",
    "    \"../WorldBankDatasets/Cleaned/World_Bank_Indicator_Definition_Info.csv\",\n",
    "    delimiter=\"\\t\",\n",
    ")"
   ]
  },
  {
   "cell_type": "code",
   "execution_count": 3,
   "metadata": {},
   "outputs": [],
   "source": [
    "# decide whether you want to use the OECD or World Bank and adjust the mapping_df as you like\n",
    "\n",
    "# mapping dataframe for OECD\n",
    "# mapping_df = mapping_oecd_to_names_and_additional_info_df\n",
    "\n",
    "# mapping dataframe for World Bank\n",
    "mapping_df = mapping_world_bank_to_names_and_definitions_df"
   ]
  },
  {
   "cell_type": "code",
   "execution_count": 4,
   "metadata": {},
   "outputs": [
    {
     "name": "stderr",
     "output_type": "stream",
     "text": [
      "2023-10-22 04:04:56.441420: I tensorflow/compiler/xla/stream_executor/cuda/cuda_gpu_executor.cc:995] successful NUMA node read from SysFS had negative value (-1), but there must be at least one NUMA node, so returning NUMA node zero. See more at https://github.com/torvalds/linux/blob/v6.0/Documentation/ABI/testing/sysfs-bus-pci#L344-L355\n",
      "2023-10-22 04:04:56.441944: W tensorflow/core/common_runtime/gpu/gpu_device.cc:1960] Cannot dlopen some GPU libraries. Please make sure the missing libraries mentioned above are installed properly if you would like to use GPU. Follow the guide at https://www.tensorflow.org/install/gpu for how to download and setup the required libraries for your platform.\n",
      "Skipping registering GPU devices...\n"
     ]
    }
   ],
   "source": [
    "# OECD_model = keras.models.load_model('/oecd/NN_OECD_Model.h5')\n",
    "WB_model = keras.models.load_model('world_bank/NN_WorldBank_Model.h5')"
   ]
  },
  {
   "cell_type": "code",
   "execution_count": 5,
   "metadata": {},
   "outputs": [],
   "source": [
    "X_train = pd.read_csv('world_bank/X_train.csv')\n",
    "y_train= pd.read_csv('world_bank/y_train.csv')\n",
    "X_test= pd.read_csv('world_bank/X_test.csv')\n",
    "y_test= pd.read_csv('world_bank/y_test.csv')"
   ]
  },
  {
   "cell_type": "code",
   "execution_count": 6,
   "metadata": {},
   "outputs": [
    {
     "name": "stdout",
     "output_type": "stream",
     "text": [
      "8/8 [==============================] - 0s 1ms/step\n"
     ]
    }
   ],
   "source": [
    "# y_pred = best_model.predict(X_test)\n",
    "# This takes the neural network model and passes in X_test and returns predicted values based on the model\n",
    "y_pred = WB_model.predict(X_test)"
   ]
  },
  {
   "cell_type": "markdown",
   "metadata": {},
   "source": [
    "# Starting Shapley Analysis"
   ]
  },
  {
   "cell_type": "code",
   "execution_count": 7,
   "metadata": {},
   "outputs": [
    {
     "name": "stderr",
     "output_type": "stream",
     "text": [
      "keras is no longer supported, please use tf.keras instead.\n",
      "Your TensorFlow version is newer than 2.4.0 and so graph support has been removed in eager mode and some static graphs may not be supported. See PR #1483 for discussion.\n"
     ]
    }
   ],
   "source": [
    "# Choose the Shapley model you want\n",
    "\n",
    "# Using DeepExplainer for neural networks\n",
    "# https://shap-lrjball.readthedocs.io/en/latest/generated/shap.DeepExplainer.html\n",
    "deep_explainer = shap.DeepExplainer(WB_model, X_train.values)\n",
    "\n",
    "# NOTE KernelExplainer could be VERY SLOW compaired with DeepExplainer\n",
    "# https://shap-lrjball.readthedocs.io/en/latest/generated/shap.KernelExplainer.html\n",
    "# kernel_explainer = shap.KernelExplainer(WB_model, X_train.values)\n",
    "\n",
    "explainer = deep_explainer\n",
    "# explainer = kernel_explainer"
   ]
  },
  {
   "cell_type": "code",
   "execution_count": 8,
   "metadata": {},
   "outputs": [],
   "source": [
    "# This function allows you to pass in testing data (assuming you already had a trained model and outputted y_pred\n",
    "\n",
    "# ⚠️ note we don't need X_train or y_train since they were used to make the model in another file\n",
    "def get_residuals_df (X_test = X_test, y_test = y_test, y_pred = y_pred):\n",
    "\n",
    "    df_x_test_with_y_actual_y_pred = X_test.copy()\n",
    "    df_x_test_with_y_actual_y_pred['y_test'] = y_test\n",
    "    df_x_test_with_y_actual_y_pred['y_pred'] = y_pred\n",
    "\n",
    "    # calculate the residuals (which are actual - predicted values)\n",
    "    y_residuals = df_x_test_with_y_actual_y_pred['y_test'] - df_x_test_with_y_actual_y_pred['y_pred']\n",
    "    df_x_test_with_y_actual_y_pred['y_residuals'] = y_residuals\n",
    "\n",
    "    # sort the values by absolute values\n",
    "    df_x_test_with_y_actual_y_pred['y_residuals_abs_val'] = y_residuals.abs()\n",
    "\n",
    "    df_x_test_with_y_actual_y_pred_sorted_by_abs_residuals = df_x_test_with_y_actual_y_pred.sort_values(\n",
    "        'y_residuals_abs_val', ascending = False)\n",
    "    \n",
    "    return df_x_test_with_y_actual_y_pred_sorted_by_abs_residuals"
   ]
  },
  {
   "cell_type": "code",
   "execution_count": 9,
   "metadata": {},
   "outputs": [],
   "source": [
    "# residuals_df = get_residuals_df()"
   ]
  },
  {
   "cell_type": "code",
   "execution_count": 10,
   "metadata": {},
   "outputs": [],
   "source": [
    "# this function returns the top n rows for a given dataframe\n",
    "# This assumes you already have a sorted dataframe\n",
    "def get_top_n_rows(df, top_n_rows = 10):\n",
    "    df_b = df.copy()\n",
    "    return df_b.iloc[0:top_n_rows]"
   ]
  },
  {
   "cell_type": "code",
   "execution_count": 11,
   "metadata": {},
   "outputs": [],
   "source": [
    "# top_10_outliers_df = get_top_n_rows(residuals_df)"
   ]
  },
  {
   "cell_type": "code",
   "execution_count": 12,
   "metadata": {},
   "outputs": [],
   "source": [
    "# top_10_outliers_df"
   ]
  },
  {
   "cell_type": "code",
   "execution_count": 13,
   "metadata": {},
   "outputs": [],
   "source": [
    "# this assumes you are passing in a dataframe and it already has the residuals\n",
    "def clean_df_for_shapley_explanation (df_to_clean):\n",
    "    # make a copy of the dataframe\n",
    "    df_to_clean_b = df_to_clean.copy()\n",
    "    \n",
    "    # remove residual columns\n",
    "    columns_to_drop = ['y_test', 'y_pred', 'y_residuals', 'y_residuals_abs_val']\n",
    "    for col in columns_to_drop:\n",
    "        if col in df_to_clean_b.columns:\n",
    "            df_to_clean_b = df_to_clean_b.drop(columns=[col])\n",
    "    return df_to_clean_b"
   ]
  },
  {
   "cell_type": "code",
   "execution_count": 14,
   "metadata": {},
   "outputs": [],
   "source": [
    "# top_10_outliers_df = clean_df_for_shapley_explanation(top_10_outliers_df)"
   ]
  },
  {
   "cell_type": "code",
   "execution_count": 15,
   "metadata": {},
   "outputs": [],
   "source": [
    "# top_10_outliers_df"
   ]
  },
  {
   "cell_type": "code",
   "execution_count": 16,
   "metadata": {},
   "outputs": [],
   "source": [
    "# this function takes in a dataframe assumed to have sorted outliers\n",
    "# and will return the shapley values from them.\n",
    "# This assumes you are passing in a dataframe with at least 2 rows.\n",
    "# if you want to get Shapley values for just a row, use the function get_shapley_values_from_row_only\n",
    "def get_shapley_values_from_whole_df (top_outliers_df):\n",
    "    top_outliers_df_b = top_outliers_df.copy()\n",
    "\n",
    "    top_outliers_df_b = clean_df_for_shapley_explanation(top_outliers_df_b)\n",
    "\n",
    "    # get the shap values for the outlier dataframe (all rows that you passed in for top_outliers_df)\n",
    "    shap_outlier_values = explainer.shap_values(top_outliers_df_b.values)\n",
    "\n",
    "    return shap_outlier_values"
   ]
  },
  {
   "cell_type": "code",
   "execution_count": 17,
   "metadata": {},
   "outputs": [],
   "source": [
    "# top_10_outliers_df_shapley_values = get_shapley_values_from_whole_df(top_10_outliers_df)"
   ]
  },
  {
   "cell_type": "code",
   "execution_count": 18,
   "metadata": {},
   "outputs": [],
   "source": [
    "# top_10_outliers_df_shapley_values"
   ]
  },
  {
   "cell_type": "code",
   "execution_count": 19,
   "metadata": {},
   "outputs": [],
   "source": [
    "# this takes in shapley values. And it will return a summary plot\n",
    "def make_shapley_summary_plot(shapley_values):\n",
    "    return shap.summary_plot(shapley_values)"
   ]
  },
  {
   "cell_type": "code",
   "execution_count": 20,
   "metadata": {},
   "outputs": [],
   "source": [
    "# shapley_chart_1 = make_shapley_summary_plot(top_10_outliers_df_shapley_values)"
   ]
  },
  {
   "cell_type": "code",
   "execution_count": 21,
   "metadata": {},
   "outputs": [],
   "source": [
    "# Pass in the dataframe row (which is a series by default), and pass in the Shapley explainer model if you like\n",
    "def get_shapley_values_from_row_only(row, explainer=explainer):\n",
    "    # Make sure the row is reshaped correctly. Without below, there might be an error\n",
    "    data_to_explain = row.values.reshape(1, -1)\n",
    "    \n",
    "    # Calculate the SHAP values and then return those\n",
    "    shap_values = explainer.shap_values(data_to_explain)\n",
    "    \n",
    "    return shap_values"
   ]
  },
  {
   "cell_type": "code",
   "execution_count": 22,
   "metadata": {},
   "outputs": [],
   "source": [
    "# This is one of the most useful functions. You will pass in shapley values, and it will output the top variable names\n",
    "# that explain the model's output\n",
    "def get_top_shapley_feature_names_from_shapley_values(shap_values, top_n_feature_values = 10, X_test=X_test):\n",
    "    # Get the relevant 1D array. Initially assuming 1 row. This is needed otherwise an error might occur.\n",
    "    shap_values_1d = shap_values[0][0]\n",
    "\n",
    "    # Convert the above 1D array to a dataframe.\n",
    "    shap_df = pd.DataFrame([shap_values_1d], columns=X_test.columns)\n",
    "\n",
    "    # Pull the top shapley features\n",
    "    top_feature_values = shap_df.iloc[0, :].sort_values(ascending=False)\n",
    "    top_feature_values = top_feature_values.index\n",
    "\n",
    "    # Display the top n feature values\n",
    "    # top_feature_values = top_feature_values[:top_n_feature_values]\n",
    "\n",
    "    # mapping top feature names with code only to their actual feature names\n",
    "    top_feature_names_with_full_name = [\n",
    "        get_indicator_name_from_code(code, mapping_df) for code in top_feature_values\n",
    "    ]\n",
    "\n",
    "    # Display the top n features names. Not giving indicator code. Actually giving the full name\n",
    "    return top_feature_names_with_full_name[0:top_n_feature_values]"
   ]
  },
  {
   "cell_type": "code",
   "execution_count": 23,
   "metadata": {},
   "outputs": [],
   "source": [
    "# get_top_shapley_feature_names_from_shapley_values(shap_values_for_row)"
   ]
  },
  {
   "cell_type": "code",
   "execution_count": 24,
   "metadata": {},
   "outputs": [],
   "source": [
    "# adjust top_10_outliers_df with a different dataframe if you like"
   ]
  },
  {
   "cell_type": "markdown",
   "metadata": {},
   "source": [
    "# Set up the initial dataframe for getting the top Shapley results"
   ]
  },
  {
   "cell_type": "code",
   "execution_count": 25,
   "metadata": {},
   "outputs": [],
   "source": [
    "residuals_df = get_residuals_df()\n",
    "# top_n_outliers = 8\n",
    "top_n_outliers = 10\n",
    "top_outliers_df = get_top_n_rows(residuals_df, top_n_rows = top_n_outliers)\n",
    "top_outliers_df = clean_df_for_shapley_explanation(top_outliers_df)"
   ]
  },
  {
   "cell_type": "markdown",
   "metadata": {},
   "source": [
    "# Now you can see the important explanatory output"
   ]
  },
  {
   "cell_type": "code",
   "execution_count": 26,
   "metadata": {},
   "outputs": [
    {
     "data": {
      "text/html": [
       "<h2>Assuming you want to get the top 5 variables explaining the machine learning output for the neural\n",
       "        net, for each one of the top 10 outliers, they are:\n",
       "        "
      ],
      "text/plain": [
       "<IPython.core.display.HTML object>"
      ]
     },
     "metadata": {},
     "output_type": "display_data"
    },
    {
     "name": "stderr",
     "output_type": "stream",
     "text": [
      "`tf.keras.backend.set_learning_phase` is deprecated and will be removed after 2020-10-11. To update it, simply pass a True/False value to the `training` argument of the `__call__` method of your layer or model.\n"
     ]
    },
    {
     "data": {
      "text/html": [
       "<strong>Top outlier 1, for row with index 144, the top 5 variables explaining the model's output are:</strong>\n"
      ],
      "text/plain": [
       "<IPython.core.display.HTML object>"
      ]
     },
     "metadata": {},
     "output_type": "display_data"
    },
    {
     "name": "stdout",
     "output_type": "stream",
     "text": [
      "Percentage of enrolment in tertiary education in private institutions (%)\n",
      "Population, male (% of total population)\n",
      "indicator name missing\n",
      "Population, female (% of total population)\n",
      "The age at which men and women can retire with full pension benefits is the same (1=yes; 0=no)\n",
      "\n",
      "\n",
      "----------------\n",
      "\n",
      "\n"
     ]
    },
    {
     "data": {
      "text/html": [
       "<strong>Top outlier 2, for row with index 189, the top 5 variables explaining the model's output are:</strong>\n"
      ],
      "text/plain": [
       "<IPython.core.display.HTML object>"
      ]
     },
     "metadata": {},
     "output_type": "display_data"
    },
    {
     "name": "stdout",
     "output_type": "stream",
     "text": [
      "Incidence of tuberculosis (per 100,000 people)\n",
      "Employment in agriculture, female (% of female employment) (modeled ILO estimate)\n",
      "indicator name missing\n",
      "Mortality rate, under-5, male (per 1,000 live births)\n",
      "Mortality rate, under-5 (per 1,000 live births)\n",
      "\n",
      "\n",
      "----------------\n",
      "\n",
      "\n"
     ]
    },
    {
     "data": {
      "text/html": [
       "<strong>Top outlier 3, for row with index 58, the top 5 variables explaining the model's output are:</strong>\n"
      ],
      "text/plain": [
       "<IPython.core.display.HTML object>"
      ]
     },
     "metadata": {},
     "output_type": "display_data"
    },
    {
     "name": "stdout",
     "output_type": "stream",
     "text": [
      "Percentage of enrolment in tertiary education in private institutions (%)\n",
      "Law mandates equal remuneration for females and males for work of equal value (1=yes; 0=no)\n",
      "The law prohibits discrimination in employment based on gender (1=yes; 0=no)\n",
      "Mortality rate, adult, female (per 1,000 female adults)\n",
      "A woman can work in a job deemed dangerous in the same way as a man (1=yes; 0=no)\n",
      "\n",
      "\n",
      "----------------\n",
      "\n",
      "\n"
     ]
    },
    {
     "data": {
      "text/html": [
       "<strong>Top outlier 4, for row with index 60, the top 5 variables explaining the model's output are:</strong>\n"
      ],
      "text/plain": [
       "<IPython.core.display.HTML object>"
      ]
     },
     "metadata": {},
     "output_type": "display_data"
    },
    {
     "name": "stdout",
     "output_type": "stream",
     "text": [
      "Percentage of enrolment in tertiary education in private institutions (%)\n",
      "Law mandates equal remuneration for females and males for work of equal value (1=yes; 0=no)\n",
      "The law prohibits discrimination in employment based on gender (1=yes; 0=no)\n",
      "A woman can work in a job deemed dangerous in the same way as a man (1=yes; 0=no)\n",
      "Population, male (% of total population)\n",
      "\n",
      "\n",
      "----------------\n",
      "\n",
      "\n"
     ]
    },
    {
     "data": {
      "text/html": [
       "<strong>Top outlier 5, for row with index 154, the top 5 variables explaining the model's output are:</strong>\n"
      ],
      "text/plain": [
       "<IPython.core.display.HTML object>"
      ]
     },
     "metadata": {},
     "output_type": "display_data"
    },
    {
     "name": "stdout",
     "output_type": "stream",
     "text": [
      "Percentage of enrolment in tertiary education in private institutions (%)\n",
      "The age at which men and women can retire with full pension benefits is the same (1=yes; 0=no)\n",
      "Immunization, measles (% of children ages 12-23 months)\n",
      "The law prohibits discrimination in employment based on gender (1=yes; 0=no)\n",
      "Government expenditure on education, total (% of GDP)\n",
      "\n",
      "\n",
      "----------------\n",
      "\n",
      "\n"
     ]
    },
    {
     "data": {
      "text/html": [
       "<strong>Top outlier 6, for row with index 35, the top 5 variables explaining the model's output are:</strong>\n"
      ],
      "text/plain": [
       "<IPython.core.display.HTML object>"
      ]
     },
     "metadata": {},
     "output_type": "display_data"
    },
    {
     "name": "stdout",
     "output_type": "stream",
     "text": [
      "There is legislation specifically addressing domestic violence (1=yes; 0=no)\n",
      "Adolescent fertility rate (births per 1,000 women ages 15-19)\n",
      "Law mandates equal remuneration for females and males for work of equal value (1=yes; 0=no)\n",
      "Birth rate, crude (per 1,000 people)\n",
      "Fertility rate, total (births per woman)\n",
      "\n",
      "\n",
      "----------------\n",
      "\n",
      "\n"
     ]
    },
    {
     "data": {
      "text/html": [
       "<strong>Top outlier 7, for row with index 142, the top 5 variables explaining the model's output are:</strong>\n"
      ],
      "text/plain": [
       "<IPython.core.display.HTML object>"
      ]
     },
     "metadata": {},
     "output_type": "display_data"
    },
    {
     "name": "stdout",
     "output_type": "stream",
     "text": [
      "Incidence of tuberculosis (per 100,000 people)\n",
      "Mortality rate, adult, female (per 1,000 female adults)\n",
      "Law mandates equal remuneration for females and males for work of equal value (1=yes; 0=no)\n",
      "A woman can work at night in the same way as a man (1=yes; 0=no)\n",
      "Population, male (% of total population)\n",
      "\n",
      "\n",
      "----------------\n",
      "\n",
      "\n"
     ]
    },
    {
     "data": {
      "text/html": [
       "<strong>Top outlier 8, for row with index 157, the top 5 variables explaining the model's output are:</strong>\n"
      ],
      "text/plain": [
       "<IPython.core.display.HTML object>"
      ]
     },
     "metadata": {},
     "output_type": "display_data"
    },
    {
     "name": "stdout",
     "output_type": "stream",
     "text": [
      "High-technology exports (% of manufactured exports)\n",
      "Current education expenditure, primary (% of total expenditure in primary public institutions)\n",
      "Repetition rate in Grade 6 of primary education, male (%)\n",
      "The law prohibits discrimination in employment based on gender (1=yes; 0=no)\n",
      "Incidence of HIV, ages 15-49, female (per 1,000 uninfected female population ages 15-49)\n",
      "\n",
      "\n",
      "----------------\n",
      "\n",
      "\n"
     ]
    },
    {
     "data": {
      "text/html": [
       "<strong>Top outlier 9, for row with index 30, the top 5 variables explaining the model's output are:</strong>\n"
      ],
      "text/plain": [
       "<IPython.core.display.HTML object>"
      ]
     },
     "metadata": {},
     "output_type": "display_data"
    },
    {
     "name": "stdout",
     "output_type": "stream",
     "text": [
      "Fertility rate, total (births per woman)\n",
      "Birth rate, crude (per 1,000 people)\n",
      "Adolescent fertility rate (births per 1,000 women ages 15-19)\n",
      "Law mandates equal remuneration for females and males for work of equal value (1=yes; 0=no)\n",
      "A woman can work at night in the same way as a man (1=yes; 0=no)\n",
      "\n",
      "\n",
      "----------------\n",
      "\n",
      "\n"
     ]
    },
    {
     "data": {
      "text/html": [
       "<strong>Top outlier 10, for row with index 156, the top 5 variables explaining the model's output are:</strong>\n"
      ],
      "text/plain": [
       "<IPython.core.display.HTML object>"
      ]
     },
     "metadata": {},
     "output_type": "display_data"
    },
    {
     "name": "stdout",
     "output_type": "stream",
     "text": [
      "High-technology exports (% of manufactured exports)\n",
      "The law prohibits discrimination in employment based on gender (1=yes; 0=no)\n",
      "Incidence of HIV, ages 15-49, female (per 1,000 uninfected female population ages 15-49)\n",
      "Repetition rate in Grade 6 of primary education, male (%)\n",
      "Incidence of HIV, ages 15-24, female (per 1,000 uninfected female population ages 15-24)\n",
      "\n",
      "\n",
      "----------------\n",
      "\n",
      "\n"
     ]
    }
   ],
   "source": [
    "top_n_feature_values = 5\n",
    "\n",
    "display(\n",
    "    HTML(\n",
    "        f\"\"\"<h2>Assuming you want to get the top {top_n_feature_values} variables explaining the machine learning output for the neural\n",
    "        net, for each one of the top {top_n_outliers} outliers, they are:\n",
    "        \"\"\"\n",
    "    )\n",
    ")\n",
    "\n",
    "cur_outlier_num = 0\n",
    "for index, row in top_outliers_df.iterrows():\n",
    "    temp_shapley_vals = get_shapley_values_from_row_only(row)\n",
    "    top_n_feature_values = 5\n",
    "    temp_feature_names = get_top_shapley_feature_names_from_shapley_values(temp_shapley_vals, top_n_feature_values)\n",
    "    # print(f\"For row with index {index}, the top {top_n_feature_values} variables explaining the model's output are:\\n\")\n",
    "    # print(f\"For row with index {index}, the top {top_n_feature_values} variables explaining the model's output are:\\n\")\n",
    "    cur_outlier_num = cur_outlier_num + 1\n",
    "    display(HTML(f\"<strong>Top outlier {cur_outlier_num}, for row with index {index}, the top {top_n_feature_values} variables explaining the model's output are:</strong>\\n\"))\n",
    "    # print(temp_feature_names)\n",
    "    for feature_name in temp_feature_names:\n",
    "        print(feature_name)\n",
    "    \n",
    "    print('\\n')\n",
    "    # print('----------------')\n",
    "    print('----------------')\n",
    "    print('\\n')"
   ]
  },
  {
   "cell_type": "code",
   "execution_count": null,
   "metadata": {},
   "outputs": [],
   "source": []
  },
  {
   "cell_type": "markdown",
   "metadata": {},
   "source": [
    "# EVENTUALLY MAYBE MAP BACK TO ORIGINAL VALUES AND GIVE A MORE DETAILED EXPLANATION EXPLAINING WHY AN OUTLIER AFFECTED THE MODEL SIGNIFICANTLY"
   ]
  }
 ],
 "metadata": {
  "kernelspec": {
   "display_name": "vscode_env",
   "language": "python",
   "name": "python3"
  },
  "language_info": {
   "codemirror_mode": {
    "name": "ipython",
    "version": 3
   },
   "file_extension": ".py",
   "mimetype": "text/x-python",
   "name": "python",
   "nbconvert_exporter": "python",
   "pygments_lexer": "ipython3",
   "version": "3.8.18"
  }
 },
 "nbformat": 4,
 "nbformat_minor": 2
}
