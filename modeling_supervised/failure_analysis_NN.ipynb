{
 "cells": [
  {
   "cell_type": "code",
   "execution_count": 1,
   "id": "elementary-spending",
   "metadata": {},
   "outputs": [
    {
     "name": "stderr",
     "output_type": "stream",
     "text": [
      "2023-10-22 04:04:35.508924: I tensorflow/tsl/cuda/cudart_stub.cc:28] Could not find cuda drivers on your machine, GPU will not be used.\n",
      "2023-10-22 04:04:35.548765: I tensorflow/tsl/cuda/cudart_stub.cc:28] Could not find cuda drivers on your machine, GPU will not be used.\n",
      "2023-10-22 04:04:35.549350: I tensorflow/core/platform/cpu_feature_guard.cc:182] This TensorFlow binary is optimized to use available CPU instructions in performance-critical operations.\n",
      "To enable the following instructions: AVX2 FMA, in other operations, rebuild TensorFlow with the appropriate compiler flags.\n",
      "2023-10-22 04:04:36.340918: W tensorflow/compiler/tf2tensorrt/utils/py_utils.cc:38] TF-TRT Warning: Could not find TensorRT\n"
     ]
    }
   ],
   "source": [
    "import tensorflow as tf\n",
    "from tensorflow import keras\n",
    "import pandas as pd\n",
    "import numpy as np\n",
    "import matplotlib.pyplot as plt\n",
    "tf.keras.utils.set_random_seed(42)\n",
    "import altair as alt"
   ]
  },
  {
   "cell_type": "code",
   "execution_count": 2,
   "id": "solar-party",
   "metadata": {},
   "outputs": [
    {
     "name": "stderr",
     "output_type": "stream",
     "text": [
      "2023-10-22 04:04:37.990009: I tensorflow/compiler/xla/stream_executor/cuda/cuda_gpu_executor.cc:995] successful NUMA node read from SysFS had negative value (-1), but there must be at least one NUMA node, so returning NUMA node zero. See more at https://github.com/torvalds/linux/blob/v6.0/Documentation/ABI/testing/sysfs-bus-pci#L344-L355\n",
      "2023-10-22 04:04:37.990497: W tensorflow/core/common_runtime/gpu/gpu_device.cc:1960] Cannot dlopen some GPU libraries. Please make sure the missing libraries mentioned above are installed properly if you would like to use GPU. Follow the guide at https://www.tensorflow.org/install/gpu for how to download and setup the required libraries for your platform.\n",
      "Skipping registering GPU devices...\n"
     ]
    }
   ],
   "source": [
    "# OECD_model = keras.models.load_model('/oecd/NN_OECD_Model.h5')\n",
    "WB_model = keras.models.load_model('world_bank/NN_WorldBank_Model.h5')"
   ]
  },
  {
   "cell_type": "code",
   "execution_count": 3,
   "id": "2425c382",
   "metadata": {},
   "outputs": [],
   "source": [
    "X_train = pd.read_csv('world_bank/X_train.csv')\n",
    "y_train= pd.read_csv('world_bank/y_train.csv')\n",
    "X_test= pd.read_csv('world_bank/X_test.csv')\n",
    "y_test= pd.read_csv('world_bank/y_test.csv')"
   ]
  },
  {
   "cell_type": "code",
   "execution_count": 4,
   "id": "50cd20b3",
   "metadata": {},
   "outputs": [
    {
     "name": "stdout",
     "output_type": "stream",
     "text": [
      "8/8 [==============================] - 0s 1ms/step\n"
     ]
    }
   ],
   "source": [
    "# y_pred = best_model.predict(X_test)\n",
    "# This takes the neural network model and passes in X_test and returns predicted values based on the model\n",
    "y_pred = WB_model.predict(X_test)"
   ]
  },
  {
   "cell_type": "code",
   "execution_count": 5,
   "id": "38d3690a",
   "metadata": {},
   "outputs": [],
   "source": [
    "df_x_test_with_y_actual_y_pred = X_test.copy()\n",
    "df_x_test_with_y_actual_y_pred['y_test'] = y_test\n",
    "df_x_test_with_y_actual_y_pred['y_pred'] = y_pred"
   ]
  },
  {
   "cell_type": "code",
   "execution_count": 6,
   "id": "69f9bbb7",
   "metadata": {},
   "outputs": [],
   "source": [
    "y_residuals = df_x_test_with_y_actual_y_pred['y_test'] - df_x_test_with_y_actual_y_pred['y_pred']\n",
    "df_x_test_with_y_actual_y_pred['y_residuals'] = y_residuals\n",
    "df_x_test_with_y_actual_y_pred['y_residuals_abs_val'] = y_residuals.abs()\n",
    "\n",
    "# sort the residuals based on absolute values\n",
    "df_x_test_with_y_actual_y_pred_sorted_by_abs_residuals = df_x_test_with_y_actual_y_pred.sort_values(\n",
    "    'y_residuals_abs_val', ascending = False)"
   ]
  },
  {
   "cell_type": "code",
   "execution_count": 7,
   "id": "381a784b",
   "metadata": {},
   "outputs": [],
   "source": [
    "top_10_outliers_df = df_x_test_with_y_actual_y_pred_sorted_by_abs_residuals.iloc[0:10]"
   ]
  },
  {
   "cell_type": "code",
   "execution_count": 8,
   "id": "28144e66",
   "metadata": {},
   "outputs": [],
   "source": [
    "# Make it clear which rows are outliers\n",
    "df_x_test_with_y_actual_y_pred['is_outlier'] = df_x_test_with_y_actual_y_pred.index.isin(top_10_outliers_df.index)"
   ]
  },
  {
   "cell_type": "code",
   "execution_count": 9,
   "id": "cf99ae4a",
   "metadata": {},
   "outputs": [],
   "source": [
    "outlier_df = df_x_test_with_y_actual_y_pred[['y_test', 'y_pred', 'is_outlier']]"
   ]
  },
  {
   "cell_type": "code",
   "execution_count": 10,
   "id": "44733edf",
   "metadata": {},
   "outputs": [],
   "source": [
    "# outlier_df"
   ]
  },
  {
   "cell_type": "code",
   "execution_count": 11,
   "id": "e517117e",
   "metadata": {},
   "outputs": [],
   "source": [
    "# Create a new DataFrame with y_test and y_pred\n",
    "\n",
    "# Scatter plot\n",
    "scatter_actual_vs_predicted = alt.Chart(outlier_df).mark_circle(opacity=0.5).encode(\n",
    "    x = alt.X('y_test', title= \"Actual Maternal Mortality Values (y_test)\"),\n",
    "    y = alt.Y('y_pred', title = \"Predicted Maternal Mortality Values (y_pred)\"),\n",
    "    color = alt.Color('is_outlier'),\n",
    "    tooltip = ['y_test', 'y_pred']\n",
    ")\n",
    "\n",
    "# scatter_actual_vs_predicted\n",
    "\n",
    "# y = x line\n",
    "y_test_min = min(outlier_df['y_test'].values)\n",
    "y_test_max = max(outlier_df['y_test'].values)\n",
    "\n",
    "y_pred_min = min(outlier_df['y_pred'].values)\n",
    "y_pred_max = max(outlier_df['y_pred'].values)\n",
    "\n",
    "max_y = max(y_test_max,y_pred_max)\n",
    "\n",
    "line_dict = {\n",
    "    'y_test': [0, max_y],\n",
    "    'y_pred': [0, max_y],\n",
    "}\n",
    "\n",
    "line_df = pd.DataFrame(data=line_dict)\n",
    "\n",
    "y_eq_x_line = alt.Chart(line_df).mark_line(color = 'red',\n",
    "                                           # strokeDash=[5, 5] makes dashed line\n",
    "                                           strokeDash=[5, 5]).encode(\n",
    "    x = alt.X('y_test'),\n",
    "    y = alt.Y('y_pred')\n",
    ")\n",
    "\n",
    "final_chart = scatter_actual_vs_predicted + y_eq_x_line\n",
    "final_chart_interactive = final_chart.properties(\n",
    "    width = 800,\n",
    "    height = 550,\n",
    "    title = {\n",
    "        \"text\": \"Actual Maternal Mortality Values (y_test) Vs Predicted Maternal Mortality Values (y_pred)\",\n",
    "        \"subtitle\": \"With top 10 outliers\"\n",
    "    }\n",
    ")"
   ]
  },
  {
   "cell_type": "code",
   "execution_count": 12,
   "id": "702950c4",
   "metadata": {},
   "outputs": [
    {
     "data": {
      "text/html": [
       "\n",
       "<style>\n",
       "  #altair-viz-93ec680e1c344a188e1c4e59587dc697.vega-embed {\n",
       "    width: 100%;\n",
       "    display: flex;\n",
       "  }\n",
       "\n",
       "  #altair-viz-93ec680e1c344a188e1c4e59587dc697.vega-embed details,\n",
       "  #altair-viz-93ec680e1c344a188e1c4e59587dc697.vega-embed details summary {\n",
       "    position: relative;\n",
       "  }\n",
       "</style>\n",
       "<div id=\"altair-viz-93ec680e1c344a188e1c4e59587dc697\"></div>\n",
       "<script type=\"text/javascript\">\n",
       "  var VEGA_DEBUG = (typeof VEGA_DEBUG == \"undefined\") ? {} : VEGA_DEBUG;\n",
       "  (function(spec, embedOpt){\n",
       "    let outputDiv = document.currentScript.previousElementSibling;\n",
       "    if (outputDiv.id !== \"altair-viz-93ec680e1c344a188e1c4e59587dc697\") {\n",
       "      outputDiv = document.getElementById(\"altair-viz-93ec680e1c344a188e1c4e59587dc697\");\n",
       "    }\n",
       "    const paths = {\n",
       "      \"vega\": \"https://cdn.jsdelivr.net/npm/vega@5?noext\",\n",
       "      \"vega-lib\": \"https://cdn.jsdelivr.net/npm/vega-lib?noext\",\n",
       "      \"vega-lite\": \"https://cdn.jsdelivr.net/npm/vega-lite@5.15.1?noext\",\n",
       "      \"vega-embed\": \"https://cdn.jsdelivr.net/npm/vega-embed@6?noext\",\n",
       "    };\n",
       "\n",
       "    function maybeLoadScript(lib, version) {\n",
       "      var key = `${lib.replace(\"-\", \"\")}_version`;\n",
       "      return (VEGA_DEBUG[key] == version) ?\n",
       "        Promise.resolve(paths[lib]) :\n",
       "        new Promise(function(resolve, reject) {\n",
       "          var s = document.createElement('script');\n",
       "          document.getElementsByTagName(\"head\")[0].appendChild(s);\n",
       "          s.async = true;\n",
       "          s.onload = () => {\n",
       "            VEGA_DEBUG[key] = version;\n",
       "            return resolve(paths[lib]);\n",
       "          };\n",
       "          s.onerror = () => reject(`Error loading script: ${paths[lib]}`);\n",
       "          s.src = paths[lib];\n",
       "        });\n",
       "    }\n",
       "\n",
       "    function showError(err) {\n",
       "      outputDiv.innerHTML = `<div class=\"error\" style=\"color:red;\">${err}</div>`;\n",
       "      throw err;\n",
       "    }\n",
       "\n",
       "    function displayChart(vegaEmbed) {\n",
       "      vegaEmbed(outputDiv, spec, embedOpt)\n",
       "        .catch(err => showError(`Javascript Error: ${err.message}<br>This usually means there's a typo in your chart specification. See the javascript console for the full traceback.`));\n",
       "    }\n",
       "\n",
       "    if(typeof define === \"function\" && define.amd) {\n",
       "      requirejs.config({paths});\n",
       "      require([\"vega-embed\"], displayChart, err => showError(`Error loading script: ${err.message}`));\n",
       "    } else {\n",
       "      maybeLoadScript(\"vega\", \"5\")\n",
       "        .then(() => maybeLoadScript(\"vega-lite\", \"5.15.1\"))\n",
       "        .then(() => maybeLoadScript(\"vega-embed\", \"6\"))\n",
       "        .catch(showError)\n",
       "        .then(() => displayChart(vegaEmbed));\n",
       "    }\n",
       "  })({\"config\": {\"view\": {\"continuousWidth\": 300, \"continuousHeight\": 300}}, \"layer\": [{\"data\": {\"name\": \"data-1fb96d771da01d0ddc586a77ca1bff86\"}, \"mark\": {\"type\": \"circle\", \"opacity\": 0.5}, \"encoding\": {\"color\": {\"field\": \"is_outlier\", \"type\": \"nominal\"}, \"tooltip\": [{\"field\": \"y_test\", \"type\": \"quantitative\"}, {\"field\": \"y_pred\", \"type\": \"quantitative\"}], \"x\": {\"field\": \"y_test\", \"title\": \"Actual Maternal Mortality Values (y_test)\", \"type\": \"quantitative\"}, \"y\": {\"field\": \"y_pred\", \"title\": \"Predicted Maternal Mortality Values (y_pred)\", \"type\": \"quantitative\"}}}, {\"data\": {\"name\": \"data-858b987bc9e37c7ec80883a576256685\"}, \"mark\": {\"type\": \"line\", \"color\": \"red\", \"strokeDash\": [5, 5]}, \"encoding\": {\"x\": {\"field\": \"y_test\", \"type\": \"quantitative\"}, \"y\": {\"field\": \"y_pred\", \"type\": \"quantitative\"}}}], \"height\": 550, \"title\": {\"text\": \"Actual Maternal Mortality Values (y_test) Vs Predicted Maternal Mortality Values (y_pred)\", \"subtitle\": \"With top 10 outliers\"}, \"width\": 800, \"$schema\": \"https://vega.github.io/schema/vega-lite/v5.15.1.json\", \"datasets\": {\"data-1fb96d771da01d0ddc586a77ca1bff86\": [{\"y_test\": 7.0, \"y_pred\": 6.092433452606201, \"is_outlier\": false}, {\"y_test\": 7.0, \"y_pred\": 7.120949745178223, \"is_outlier\": false}, {\"y_test\": 8.0, \"y_pred\": 5.594831466674805, \"is_outlier\": false}, {\"y_test\": 2.0, \"y_pred\": 4.1355767250061035, \"is_outlier\": false}, {\"y_test\": 5.0, \"y_pred\": 4.249635219573975, \"is_outlier\": false}, {\"y_test\": 1.0, \"y_pred\": 3.5019640922546387, \"is_outlier\": false}, {\"y_test\": 6.0, \"y_pred\": 4.298884391784668, \"is_outlier\": false}, {\"y_test\": 9.0, \"y_pred\": 6.2197113037109375, \"is_outlier\": false}, {\"y_test\": 5.0, \"y_pred\": 5.67641019821167, \"is_outlier\": false}, {\"y_test\": 2.0, \"y_pred\": 5.415410041809082, \"is_outlier\": false}, {\"y_test\": 7.0, \"y_pred\": 6.382145881652832, \"is_outlier\": false}, {\"y_test\": 6.0, \"y_pred\": 6.654117107391357, \"is_outlier\": false}, {\"y_test\": 5.0, \"y_pred\": 5.621380805969238, \"is_outlier\": false}, {\"y_test\": 4.0, \"y_pred\": 5.493648052215576, \"is_outlier\": false}, {\"y_test\": 7.0, \"y_pred\": 5.357778549194336, \"is_outlier\": false}, {\"y_test\": 4.0, \"y_pred\": 4.919567108154297, \"is_outlier\": false}, {\"y_test\": 4.0, \"y_pred\": 4.729930877685547, \"is_outlier\": false}, {\"y_test\": 4.0, \"y_pred\": 4.856447696685791, \"is_outlier\": false}, {\"y_test\": 45.0, \"y_pred\": 44.2066764831543, \"is_outlier\": false}, {\"y_test\": 47.0, \"y_pred\": 45.15827178955078, \"is_outlier\": false}, {\"y_test\": 35.0, \"y_pred\": 37.10358810424805, \"is_outlier\": false}, {\"y_test\": 19.0, \"y_pred\": 19.962900161743164, \"is_outlier\": false}, {\"y_test\": 13.0, \"y_pred\": 16.05013084411621, \"is_outlier\": false}, {\"y_test\": 17.0, \"y_pred\": 16.756053924560547, \"is_outlier\": false}, {\"y_test\": 71.0, \"y_pred\": 77.09912109375, \"is_outlier\": false}, {\"y_test\": 55.0, \"y_pred\": 59.64799880981445, \"is_outlier\": false}, {\"y_test\": 60.0, \"y_pred\": 58.85232162475586, \"is_outlier\": false}, {\"y_test\": 57.0, \"y_pred\": 52.57394027709961, \"is_outlier\": false}, {\"y_test\": 48.0, \"y_pred\": 48.31723403930664, \"is_outlier\": false}, {\"y_test\": 47.0, \"y_pred\": 44.371368408203125, \"is_outlier\": false}, {\"y_test\": 14.0, \"y_pred\": 28.33871841430664, \"is_outlier\": true}, {\"y_test\": 17.0, \"y_pred\": 25.579551696777344, \"is_outlier\": false}, {\"y_test\": 36.0, \"y_pred\": 26.048322677612305, \"is_outlier\": false}, {\"y_test\": 19.0, \"y_pred\": 27.648447036743164, \"is_outlier\": false}, {\"y_test\": 18.0, \"y_pred\": 31.80805206298828, \"is_outlier\": false}, {\"y_test\": 19.0, \"y_pred\": 34.651893615722656, \"is_outlier\": true}, {\"y_test\": 28.0, \"y_pred\": 30.844913482666016, \"is_outlier\": false}, {\"y_test\": 14.0, \"y_pred\": 27.612009048461914, \"is_outlier\": false}, {\"y_test\": 10.0, \"y_pred\": 10.421760559082031, \"is_outlier\": false}, {\"y_test\": 6.0, \"y_pred\": 8.96006965637207, \"is_outlier\": false}, {\"y_test\": 5.0, \"y_pred\": 5.884497165679932, \"is_outlier\": false}, {\"y_test\": 2.0, \"y_pred\": 5.2786335945129395, \"is_outlier\": false}, {\"y_test\": 3.0, \"y_pred\": 3.930140972137451, \"is_outlier\": false}, {\"y_test\": 3.0, \"y_pred\": 2.9955945014953613, \"is_outlier\": false}, {\"y_test\": 1.0, \"y_pred\": 2.6450653076171875, \"is_outlier\": false}, {\"y_test\": 5.0, \"y_pred\": 5.877242565155029, \"is_outlier\": false}, {\"y_test\": 5.0, \"y_pred\": 4.928382396697998, \"is_outlier\": false}, {\"y_test\": 5.0, \"y_pred\": 4.795752048492432, \"is_outlier\": false}, {\"y_test\": 4.0, \"y_pred\": 4.457144260406494, \"is_outlier\": false}, {\"y_test\": 10.0, \"y_pred\": 6.586317539215088, \"is_outlier\": false}, {\"y_test\": 3.0, \"y_pred\": 5.127142906188965, \"is_outlier\": false}, {\"y_test\": 6.0, \"y_pred\": 3.0176167488098145, \"is_outlier\": false}, {\"y_test\": 3.0, \"y_pred\": 2.4785919189453125, \"is_outlier\": false}, {\"y_test\": 4.0, \"y_pred\": 6.333141803741455, \"is_outlier\": false}, {\"y_test\": 4.0, \"y_pred\": 3.8901920318603516, \"is_outlier\": false}, {\"y_test\": 3.0, \"y_pred\": 4.094924449920654, \"is_outlier\": false}, {\"y_test\": 4.0, \"y_pred\": 3.5007333755493164, \"is_outlier\": false}, {\"y_test\": 26.0, \"y_pred\": 37.99996566772461, \"is_outlier\": false}, {\"y_test\": 49.0, \"y_pred\": 25.218908309936523, \"is_outlier\": true}, {\"y_test\": 8.0, \"y_pred\": 13.397272109985352, \"is_outlier\": false}, {\"y_test\": 29.0, \"y_pred\": 11.984014511108398, \"is_outlier\": true}, {\"y_test\": 7.0, \"y_pred\": 7.913161754608154, \"is_outlier\": false}, {\"y_test\": 14.0, \"y_pred\": 6.068774700164795, \"is_outlier\": false}, {\"y_test\": 2.0, \"y_pred\": 4.2119646072387695, \"is_outlier\": false}, {\"y_test\": 5.0, \"y_pred\": 3.5707435607910156, \"is_outlier\": false}, {\"y_test\": 3.0, \"y_pred\": 3.0195255279541016, \"is_outlier\": false}, {\"y_test\": 2.0, \"y_pred\": 2.99025821685791, \"is_outlier\": false}, {\"y_test\": 12.0, \"y_pred\": 10.20118522644043, \"is_outlier\": false}, {\"y_test\": 11.0, \"y_pred\": 10.157671928405762, \"is_outlier\": false}, {\"y_test\": 9.0, \"y_pred\": 10.07442855834961, \"is_outlier\": false}, {\"y_test\": 9.0, \"y_pred\": 9.817380905151367, \"is_outlier\": false}, {\"y_test\": 13.0, \"y_pred\": 11.352386474609375, \"is_outlier\": false}, {\"y_test\": 9.0, \"y_pred\": 11.275517463684082, \"is_outlier\": false}, {\"y_test\": 11.0, \"y_pred\": 11.532302856445312, \"is_outlier\": false}, {\"y_test\": 9.0, \"y_pred\": 10.504459381103516, \"is_outlier\": false}, {\"y_test\": 9.0, \"y_pred\": 10.717430114746094, \"is_outlier\": false}, {\"y_test\": 8.0, \"y_pred\": 10.368463516235352, \"is_outlier\": false}, {\"y_test\": 9.0, \"y_pred\": 9.418431282043457, \"is_outlier\": false}, {\"y_test\": 5.0, \"y_pred\": 7.216912746429443, \"is_outlier\": false}, {\"y_test\": 9.0, \"y_pred\": 10.281269073486328, \"is_outlier\": false}, {\"y_test\": 11.0, \"y_pred\": 11.003735542297363, \"is_outlier\": false}, {\"y_test\": 7.0, \"y_pred\": 1.9041506052017212, \"is_outlier\": false}, {\"y_test\": 4.0, \"y_pred\": 1.7856110334396362, \"is_outlier\": false}, {\"y_test\": 6.0, \"y_pred\": 2.73195743560791, \"is_outlier\": false}, {\"y_test\": 2.0, \"y_pred\": 5.476683139801025, \"is_outlier\": false}, {\"y_test\": 4.0, \"y_pred\": 7.799748420715332, \"is_outlier\": false}, {\"y_test\": 12.0, \"y_pred\": 6.777188301086426, \"is_outlier\": false}, {\"y_test\": 7.0, \"y_pred\": 6.270989894866943, \"is_outlier\": false}, {\"y_test\": 7.0, \"y_pred\": 6.8536763191223145, \"is_outlier\": false}, {\"y_test\": 5.0, \"y_pred\": 4.749143123626709, \"is_outlier\": false}, {\"y_test\": 15.0, \"y_pred\": 16.6415958404541, \"is_outlier\": false}, {\"y_test\": 19.0, \"y_pred\": 10.53154182434082, \"is_outlier\": false}, {\"y_test\": 4.0, \"y_pred\": 8.236672401428223, \"is_outlier\": false}, {\"y_test\": 5.0, \"y_pred\": 6.1264190673828125, \"is_outlier\": false}, {\"y_test\": 8.0, \"y_pred\": 6.723366737365723, \"is_outlier\": false}, {\"y_test\": 8.0, \"y_pred\": 7.371739387512207, \"is_outlier\": false}, {\"y_test\": 6.0, \"y_pred\": 5.319373607635498, \"is_outlier\": false}, {\"y_test\": 4.0, \"y_pred\": 3.9536170959472656, \"is_outlier\": false}, {\"y_test\": 2.0, \"y_pred\": 2.763185977935791, \"is_outlier\": false}, {\"y_test\": 0.0, \"y_pred\": 0.5056856870651245, \"is_outlier\": false}, {\"y_test\": 13.0, \"y_pred\": 6.436755657196045, \"is_outlier\": false}, {\"y_test\": 9.0, \"y_pred\": 7.28074836730957, \"is_outlier\": false}, {\"y_test\": 6.0, \"y_pred\": 6.961758136749268, \"is_outlier\": false}, {\"y_test\": 3.0, \"y_pred\": 6.710205078125, \"is_outlier\": false}, {\"y_test\": 3.0, \"y_pred\": 3.906567096710205, \"is_outlier\": false}, {\"y_test\": 8.0, \"y_pred\": 5.0277018547058105, \"is_outlier\": false}, {\"y_test\": 4.0, \"y_pred\": 3.4684362411499023, \"is_outlier\": false}, {\"y_test\": 5.0, \"y_pred\": 2.284763813018799, \"is_outlier\": false}, {\"y_test\": 4.0, \"y_pred\": 2.3665218353271484, \"is_outlier\": false}, {\"y_test\": 2.0, \"y_pred\": 2.1693263053894043, \"is_outlier\": false}, {\"y_test\": 2.0, \"y_pred\": 2.2774245738983154, \"is_outlier\": false}, {\"y_test\": 8.0, \"y_pred\": 8.565019607543945, \"is_outlier\": false}, {\"y_test\": 7.0, \"y_pred\": 8.136673927307129, \"is_outlier\": false}, {\"y_test\": 7.0, \"y_pred\": 6.6673078536987305, \"is_outlier\": false}, {\"y_test\": 6.0, \"y_pred\": 6.029450416564941, \"is_outlier\": false}, {\"y_test\": 4.0, \"y_pred\": 5.042508125305176, \"is_outlier\": false}, {\"y_test\": 5.0, \"y_pred\": 4.924102783203125, \"is_outlier\": false}, {\"y_test\": 4.0, \"y_pred\": 3.8812942504882812, \"is_outlier\": false}, {\"y_test\": 3.0, \"y_pred\": 3.674750328063965, \"is_outlier\": false}, {\"y_test\": 3.0, \"y_pred\": 3.4809727668762207, \"is_outlier\": false}, {\"y_test\": 4.0, \"y_pred\": 3.3554468154907227, \"is_outlier\": false}, {\"y_test\": 10.0, \"y_pred\": 11.173916816711426, \"is_outlier\": false}, {\"y_test\": 13.0, \"y_pred\": 11.515607833862305, \"is_outlier\": false}, {\"y_test\": 13.0, \"y_pred\": 11.321897506713867, \"is_outlier\": false}, {\"y_test\": 9.0, \"y_pred\": 9.497689247131348, \"is_outlier\": false}, {\"y_test\": 19.0, \"y_pred\": 22.45606231689453, \"is_outlier\": false}, {\"y_test\": 24.0, \"y_pred\": 20.638484954833984, \"is_outlier\": false}, {\"y_test\": 12.0, \"y_pred\": 15.632146835327148, \"is_outlier\": false}, {\"y_test\": 14.0, \"y_pred\": 12.850077629089355, \"is_outlier\": false}, {\"y_test\": 13.0, \"y_pred\": 9.130834579467773, \"is_outlier\": false}, {\"y_test\": 0.0, \"y_pred\": 9.306766510009766, \"is_outlier\": false}, {\"y_test\": 0.0, \"y_pred\": 6.032163143157959, \"is_outlier\": false}, {\"y_test\": 7.0, \"y_pred\": 7.669836521148682, \"is_outlier\": false}, {\"y_test\": 7.0, \"y_pred\": 7.231685161590576, \"is_outlier\": false}, {\"y_test\": 0.0, \"y_pred\": 1.272706389427185, \"is_outlier\": false}, {\"y_test\": 0.0, \"y_pred\": 2.038912773132324, \"is_outlier\": false}, {\"y_test\": 0.0, \"y_pred\": 2.5318312644958496, \"is_outlier\": false}, {\"y_test\": 0.0, \"y_pred\": 6.908987522125244, \"is_outlier\": false}, {\"y_test\": 29.0, \"y_pred\": 35.70400619506836, \"is_outlier\": false}, {\"y_test\": 42.0, \"y_pred\": 36.23414993286133, \"is_outlier\": false}, {\"y_test\": 25.0, \"y_pred\": 30.13294219970703, \"is_outlier\": false}, {\"y_test\": 33.0, \"y_pred\": 34.47808074951172, \"is_outlier\": false}, {\"y_test\": 43.0, \"y_pred\": 27.8455810546875, \"is_outlier\": true}, {\"y_test\": 9.0, \"y_pred\": 8.883087158203125, \"is_outlier\": false}, {\"y_test\": 36.0, \"y_pred\": 8.786555290222168, \"is_outlier\": true}, {\"y_test\": 19.0, \"y_pred\": 9.252155303955078, \"is_outlier\": false}, {\"y_test\": 9.0, \"y_pred\": 9.054305076599121, \"is_outlier\": false}, {\"y_test\": 64.0, \"y_pred\": 68.28972625732422, \"is_outlier\": false}, {\"y_test\": 63.0, \"y_pred\": 65.99801635742188, \"is_outlier\": false}, {\"y_test\": 58.0, \"y_pred\": 59.16081619262695, \"is_outlier\": false}, {\"y_test\": 56.0, \"y_pred\": 52.87385940551758, \"is_outlier\": false}, {\"y_test\": 50.0, \"y_pred\": 51.05255126953125, \"is_outlier\": false}, {\"y_test\": 47.0, \"y_pred\": 50.72418975830078, \"is_outlier\": false}, {\"y_test\": 36.0, \"y_pred\": 33.129459381103516, \"is_outlier\": false}, {\"y_test\": 18.0, \"y_pred\": 1.4693034887313843, \"is_outlier\": true}, {\"y_test\": 0.0, \"y_pred\": 1.204546332359314, \"is_outlier\": false}, {\"y_test\": 20.0, \"y_pred\": 5.779885292053223, \"is_outlier\": true}, {\"y_test\": 21.0, \"y_pred\": 6.161126613616943, \"is_outlier\": true}, {\"y_test\": 0.0, \"y_pred\": 1.3475126028060913, \"is_outlier\": false}, {\"y_test\": 0.0, \"y_pred\": 1.2949331998825073, \"is_outlier\": false}, {\"y_test\": 0.0, \"y_pred\": 0.7571882009506226, \"is_outlier\": false}, {\"y_test\": 0.0, \"y_pred\": 0.4659966230392456, \"is_outlier\": false}, {\"y_test\": 4.0, \"y_pred\": 5.361644744873047, \"is_outlier\": false}, {\"y_test\": 5.0, \"y_pred\": 6.592426300048828, \"is_outlier\": false}, {\"y_test\": 10.0, \"y_pred\": 11.300472259521484, \"is_outlier\": false}, {\"y_test\": 13.0, \"y_pred\": 9.986387252807617, \"is_outlier\": false}, {\"y_test\": 5.0, \"y_pred\": 6.0748724937438965, \"is_outlier\": false}, {\"y_test\": 3.0, \"y_pred\": 3.6111197471618652, \"is_outlier\": false}, {\"y_test\": 4.0, \"y_pred\": 4.959549427032471, \"is_outlier\": false}, {\"y_test\": 9.0, \"y_pred\": 4.681393623352051, \"is_outlier\": false}, {\"y_test\": 2.0, \"y_pred\": 5.032730579376221, \"is_outlier\": false}, {\"y_test\": 5.0, \"y_pred\": 5.984530925750732, \"is_outlier\": false}, {\"y_test\": 2.0, \"y_pred\": 5.358096599578857, \"is_outlier\": false}, {\"y_test\": 0.0, \"y_pred\": 2.1190083026885986, \"is_outlier\": false}, {\"y_test\": 16.0, \"y_pred\": 9.612534523010254, \"is_outlier\": false}, {\"y_test\": 3.0, \"y_pred\": 9.25204849243164, \"is_outlier\": false}, {\"y_test\": 11.0, \"y_pred\": 13.186532020568848, \"is_outlier\": false}, {\"y_test\": 8.0, \"y_pred\": 4.476500988006592, \"is_outlier\": false}, {\"y_test\": 3.0, \"y_pred\": 3.1884469985961914, \"is_outlier\": false}, {\"y_test\": 2.0, \"y_pred\": 1.879158854484558, \"is_outlier\": false}, {\"y_test\": 2.0, \"y_pred\": 2.174224376678467, \"is_outlier\": false}, {\"y_test\": 2.0, \"y_pred\": 2.1777312755584717, \"is_outlier\": false}, {\"y_test\": 13.0, \"y_pred\": 10.538166046142578, \"is_outlier\": false}, {\"y_test\": 8.0, \"y_pred\": 7.334603309631348, \"is_outlier\": false}, {\"y_test\": 5.0, \"y_pred\": 4.682437896728516, \"is_outlier\": false}, {\"y_test\": 8.0, \"y_pred\": 4.836822032928467, \"is_outlier\": false}, {\"y_test\": 18.0, \"y_pred\": 6.330445766448975, \"is_outlier\": false}, {\"y_test\": 10.0, \"y_pred\": 6.332203388214111, \"is_outlier\": false}, {\"y_test\": 153.0, \"y_pred\": 160.53787231445312, \"is_outlier\": false}, {\"y_test\": 183.0, \"y_pred\": 157.37448120117188, \"is_outlier\": true}, {\"y_test\": 60.0, \"y_pred\": 49.83268737792969, \"is_outlier\": false}, {\"y_test\": 43.0, \"y_pred\": 45.24959182739258, \"is_outlier\": false}, {\"y_test\": 30.0, \"y_pred\": 26.043418884277344, \"is_outlier\": false}, {\"y_test\": 15.0, \"y_pred\": 15.612634658813477, \"is_outlier\": false}, {\"y_test\": 13.0, \"y_pred\": 20.402080535888672, \"is_outlier\": false}, {\"y_test\": 24.0, \"y_pred\": 22.210628509521484, \"is_outlier\": false}, {\"y_test\": 11.0, \"y_pred\": 13.784172058105469, \"is_outlier\": false}, {\"y_test\": 13.0, \"y_pred\": 13.724410057067871, \"is_outlier\": false}, {\"y_test\": 12.0, \"y_pred\": 13.646525382995605, \"is_outlier\": false}, {\"y_test\": 9.0, \"y_pred\": 11.979663848876953, \"is_outlier\": false}, {\"y_test\": 10.0, \"y_pred\": 7.078439235687256, \"is_outlier\": false}, {\"y_test\": 6.0, \"y_pred\": 4.836590766906738, \"is_outlier\": false}, {\"y_test\": 6.0, \"y_pred\": 4.4299163818359375, \"is_outlier\": false}, {\"y_test\": 2.0, \"y_pred\": 3.8015174865722656, \"is_outlier\": false}, {\"y_test\": 2.0, \"y_pred\": 2.9412989616394043, \"is_outlier\": false}, {\"y_test\": 2.0, \"y_pred\": 2.681020736694336, \"is_outlier\": false}, {\"y_test\": 4.0, \"y_pred\": 1.7555038928985596, \"is_outlier\": false}, {\"y_test\": 6.0, \"y_pred\": 6.047781467437744, \"is_outlier\": false}, {\"y_test\": 8.0, \"y_pred\": 5.20654821395874, \"is_outlier\": false}, {\"y_test\": 7.0, \"y_pred\": 4.642701625823975, \"is_outlier\": false}, {\"y_test\": 9.0, \"y_pred\": 4.105462074279785, \"is_outlier\": false}, {\"y_test\": 8.0, \"y_pred\": 4.1685004234313965, \"is_outlier\": false}, {\"y_test\": 6.0, \"y_pred\": 3.779139995574951, \"is_outlier\": false}, {\"y_test\": 0.0, \"y_pred\": 3.7251052856445312, \"is_outlier\": false}, {\"y_test\": 11.0, \"y_pred\": 3.89127779006958, \"is_outlier\": false}, {\"y_test\": 19.0, \"y_pred\": 7.8914265632629395, \"is_outlier\": false}, {\"y_test\": 5.0, \"y_pred\": 6.086345672607422, \"is_outlier\": false}, {\"y_test\": 23.0, \"y_pred\": 10.854110717773438, \"is_outlier\": false}, {\"y_test\": 9.0, \"y_pred\": 4.714017391204834, \"is_outlier\": false}, {\"y_test\": 5.0, \"y_pred\": 4.6213555335998535, \"is_outlier\": false}, {\"y_test\": 5.0, \"y_pred\": 4.690116882324219, \"is_outlier\": false}, {\"y_test\": 16.0, \"y_pred\": 16.86063003540039, \"is_outlier\": false}, {\"y_test\": 16.0, \"y_pred\": 14.77816104888916, \"is_outlier\": false}, {\"y_test\": 8.0, \"y_pred\": 7.765867710113525, \"is_outlier\": false}, {\"y_test\": 8.0, \"y_pred\": 7.7812113761901855, \"is_outlier\": false}, {\"y_test\": 8.0, \"y_pred\": 7.828566551208496, \"is_outlier\": false}, {\"y_test\": 8.0, \"y_pred\": 9.263591766357422, \"is_outlier\": false}, {\"y_test\": 10.0, \"y_pred\": 10.169358253479004, \"is_outlier\": false}, {\"y_test\": 13.0, \"y_pred\": 13.206653594970703, \"is_outlier\": false}, {\"y_test\": 19.0, \"y_pred\": 16.45088005065918, \"is_outlier\": false}, {\"y_test\": 19.0, \"y_pred\": 17.37272071838379, \"is_outlier\": false}], \"data-858b987bc9e37c7ec80883a576256685\": [{\"y_test\": 0.0, \"y_pred\": 0.0}, {\"y_test\": 183.0, \"y_pred\": 183.0}]}}, {\"mode\": \"vega-lite\"});\n",
       "</script>"
      ],
      "text/plain": [
       "alt.LayerChart(...)"
      ]
     },
     "execution_count": 12,
     "metadata": {},
     "output_type": "execute_result"
    }
   ],
   "source": [
    "final_chart_interactive"
   ]
  },
  {
   "cell_type": "code",
   "execution_count": null,
   "id": "2e09ac09",
   "metadata": {},
   "outputs": [],
   "source": []
  }
 ],
 "metadata": {
  "kernelspec": {
   "display_name": "Python 3",
   "language": "python",
   "name": "python3"
  },
  "language_info": {
   "codemirror_mode": {
    "name": "ipython",
    "version": 3
   },
   "file_extension": ".py",
   "mimetype": "text/x-python",
   "name": "python",
   "nbconvert_exporter": "python",
   "pygments_lexer": "ipython3",
   "version": "3.8.18"
  }
 },
 "nbformat": 4,
 "nbformat_minor": 5
}
