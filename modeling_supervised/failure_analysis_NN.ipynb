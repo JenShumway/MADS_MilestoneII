{
 "cells": [
  {
   "cell_type": "code",
   "execution_count": null,
   "id": "elementary-spending",
   "metadata": {},
   "outputs": [],
   "source": [
    "from tensorflow import keras"
   ]
  },
  {
   "cell_type": "code",
   "execution_count": null,
   "id": "solar-party",
   "metadata": {},
   "outputs": [],
   "source": [
    "OECD_model = keras.models.load_model('/oecd/NN_OECD_Model.h5')\n",
    "WB_model = keras.models.load_model('/world_bank/NN_WorldBank_Model.h5')"
   ]
  },
  {
   "cell_type": "code",
   "execution_count": null,
   "id": "bearing-edmonton",
   "metadata": {},
   "outputs": [],
   "source": [
    "# all test and train data is in the same folder as CSVs and can be loaded to analyze\n",
    "# y_pred = model.predict(X_test)"
   ]
  }
 ],
 "metadata": {
  "kernelspec": {
   "display_name": "Python 3",
   "language": "python",
   "name": "python3"
  },
  "language_info": {
   "codemirror_mode": {
    "name": "ipython",
    "version": 3
   },
   "file_extension": ".py",
   "mimetype": "text/x-python",
   "name": "python",
   "nbconvert_exporter": "python",
   "pygments_lexer": "ipython3",
   "version": "3.7.10"
  }
 },
 "nbformat": 4,
 "nbformat_minor": 5
}
